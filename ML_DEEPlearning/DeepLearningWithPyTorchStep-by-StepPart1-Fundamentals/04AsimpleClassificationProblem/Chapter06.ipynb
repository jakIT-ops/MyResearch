{
 "cells": [
  {
   "cell_type": "markdown",
   "metadata": {
    "id": "L8b-HRhmzGDX"
   },
   "source": [
    "# Deep Learning with PyTorch Step-by-Step: A Beginner's Guide"
   ]
  },
  {
   "cell_type": "markdown",
   "metadata": {
    "id": "7w9gcuNbzGDZ"
   },
   "source": [
    "# Chapter 6"
   ]
  },
  {
   "cell_type": "code",
   "execution_count": null,
   "metadata": {
    "id": "6OY4CYLUzGDZ"
   },
   "outputs": [],
   "source": [
    "from config_dl import *\n",
    "from plots.chapter3 import *"
   ]
  },
  {
   "cell_type": "code",
   "execution_count": null,
   "metadata": {
    "id": "EysuhUZWzGDa"
   },
   "outputs": [],
   "source": [
    "import numpy as np\n",
    "\n",
    "import torch\n",
    "import torch.optim as optim\n",
    "import torch.nn as nn\n",
    "import torch.functional as F\n",
    "from torch.utils.data import DataLoader, TensorDataset\n",
    "\n",
    "from sklearn.datasets import make_moons\n",
    "from sklearn.preprocessing import StandardScaler\n",
    "from sklearn.model_selection import train_test_split\n",
    "from sklearn.metrics import confusion_matrix, roc_curve, precision_recall_curve, auc\n",
    "\n",
    "from stepbystep.v0 import StepByStep"
   ]
  },
  {
   "cell_type": "markdown",
   "metadata": {
    "id": "JS4JPAQyzGDb"
   },
   "source": [
    "# A Simple Classification Problem"
   ]
  },
  {
   "cell_type": "markdown",
   "metadata": {
    "id": "JWaSES4PzGDb"
   },
   "source": [
    "## Data Generation"
   ]
  },
  {
   "cell_type": "code",
   "execution_count": null,
   "metadata": {
    "id": "MiUBRUWZzGDb"
   },
   "outputs": [],
   "source": [
    "X, y = make_moons(n_samples=100, noise=0.3, random_state=0)\n",
    "X_train, X_val, y_train, y_val = train_test_split(X, y, test_size=.2, random_state=13)"
   ]
  },
  {
   "cell_type": "code",
   "execution_count": null,
   "metadata": {
    "id": "t-KiVK1fzGDb"
   },
   "outputs": [],
   "source": [
    "sc = StandardScaler()\n",
    "sc.fit(X_train)\n",
    "\n",
    "X_train = sc.transform(X_train)\n",
    "X_val = sc.transform(X_val)"
   ]
  },
  {
   "cell_type": "code",
   "execution_count": null,
   "metadata": {
    "id": "GIJv8X0RzGDc"
   },
   "outputs": [],
   "source": [
    "fig = figure1(X_train, y_train, X_val, y_val)"
   ]
  },
  {
   "cell_type": "markdown",
   "metadata": {
    "id": "2hNzPI5qzGDd"
   },
   "source": [
    "## Data Preparation"
   ]
  },
  {
   "cell_type": "code",
   "execution_count": null,
   "metadata": {
    "id": "YHwvoHTszGDd"
   },
   "outputs": [],
   "source": [
    "torch.manual_seed(13)\n",
    "\n",
    "# Builds tensors from numpy arrays\n",
    "x_train_tensor = torch.as_tensor(X_train).float()\n",
    "y_train_tensor = torch.as_tensor(y_train.reshape(-1, 1)).float()\n",
    "\n",
    "x_val_tensor = torch.as_tensor(X_val).float()\n",
    "y_val_tensor = torch.as_tensor(y_val.reshape(-1, 1)).float()\n",
    "\n",
    "# Builds dataset containing ALL data points\n",
    "train_dataset = TensorDataset(x_train_tensor, y_train_tensor)\n",
    "val_dataset = TensorDataset(x_val_tensor, y_val_tensor)\n",
    "\n",
    "# Builds a loader of each set\n",
    "train_loader = DataLoader(dataset=train_dataset, batch_size=16, shuffle=True)\n",
    "val_loader = DataLoader(dataset=val_dataset, batch_size=16)"
   ]
  },
  {
   "cell_type": "markdown",
   "metadata": {
    "id": "7Rq_AxOUzGDd"
   },
   "source": [
    "## Model"
   ]
  },
  {
   "cell_type": "markdown",
   "metadata": {
    "id": "T9kKHTIUzGDe"
   },
   "source": [
    "$$\n",
    "\\Large\n",
    "y = b + w_1x_1 + w_2x_2 + \\epsilon\n",
    "$$"
   ]
  },
  {
   "cell_type": "markdown",
   "metadata": {
    "id": "IzysbCWUzGDe"
   },
   "source": [
    "$$\n",
    "\\Large\n",
    "y =\n",
    "\\begin{cases}\n",
    "1,\\ if\\ \\ b + w_1x_1 + w_2x_2 \\ge 0\n",
    "\\\\\n",
    "0,\\ if \\ \\ b + w_1x_1 + w_2x_2 \\lt 0\n",
    "\\end{cases}\n",
    "$$"
   ]
  },
  {
   "cell_type": "markdown",
   "metadata": {
    "id": "Sd1wkIvvzGDe"
   },
   "source": [
    "### Logits"
   ]
  },
  {
   "cell_type": "markdown",
   "metadata": {
    "id": "1STlDMJxzGDe"
   },
   "source": [
    "$$\n",
    "\\Large\n",
    "z = b + w_1x_1 + w_2x_2\n",
    "$$"
   ]
  },
  {
   "cell_type": "markdown",
   "metadata": {
    "id": "QPl5nQBgzGDe"
   },
   "source": [
    "### Probabilities"
   ]
  },
  {
   "cell_type": "markdown",
   "metadata": {
    "id": "fkZb8bMxzGDe"
   },
   "source": [
    "$$\n",
    "\\Large\n",
    "\\begin{array}{ccc}\n",
    "& P(y=1) \\approx 1.0, & if\\ &z \\gg 0\n",
    "\\\\\n",
    "& P(y=1) = 0.5, & if\\ &z = 0\n",
    "\\\\\n",
    "& P(y=1) \\approx 0.0, & if\\ &z \\ll 0\n",
    "\\end{array}\n",
    "$$"
   ]
  },
  {
   "cell_type": "markdown",
   "metadata": {
    "id": "8lu7eJwVzGDf"
   },
   "source": [
    "### Odds Ratio"
   ]
  },
  {
   "cell_type": "markdown",
   "metadata": {
    "id": "U_1vreRYzGDf"
   },
   "source": [
    "$$\n",
    "\\Large\n",
    "odds\\ ratio(p) = \\frac{p}{q} = \\frac{p}{1-p}\n",
    "$$"
   ]
  },
  {
   "cell_type": "code",
   "execution_count": null,
   "metadata": {
    "id": "EHXyqPjnzGDf"
   },
   "outputs": [],
   "source": [
    "def odds_ratio(prob):\n",
    "    return prob / (1 - prob)"
   ]
  },
  {
   "cell_type": "code",
   "execution_count": null,
   "metadata": {
    "id": "6Q8WPFiPzGDf"
   },
   "outputs": [],
   "source": [
    "p = .75\n",
    "q = 1 - p\n",
    "odds_ratio(p), odds_ratio(q)"
   ]
  },
  {
   "cell_type": "code",
   "execution_count": null,
   "metadata": {
    "id": "t8Guu2xCzGDg"
   },
   "outputs": [],
   "source": [
    "fig = figure2(p)"
   ]
  },
  {
   "cell_type": "markdown",
   "metadata": {
    "id": "KkgWV0sBzGDg"
   },
   "source": [
    "### Log Odds Ratio"
   ]
  },
  {
   "cell_type": "markdown",
   "metadata": {
    "id": "3axPJkCuzGDg"
   },
   "source": [
    "$$\n",
    "\\Large\n",
    "log\\ odds\\ ratio(p) = log\\left(\\frac{p}{1-p}\\right)\n",
    "$$"
   ]
  },
  {
   "cell_type": "code",
   "execution_count": null,
   "metadata": {
    "id": "5h4tOjRFzGDg"
   },
   "outputs": [],
   "source": [
    "def log_odds_ratio(prob):\n",
    "    return np.log(odds_ratio(prob))\n",
    "\n",
    "p = .75\n",
    "q = 1 - p\n",
    "log_odds_ratio(p), log_odds_ratio(q)"
   ]
  },
  {
   "cell_type": "code",
   "execution_count": null,
   "metadata": {
    "id": "whqJ3dPPzGDh"
   },
   "outputs": [],
   "source": [
    "fig = figure3(p)"
   ]
  },
  {
   "cell_type": "markdown",
   "metadata": {
    "id": "VUTAbtwDzGDh"
   },
   "source": [
    "### From Logits to Probabilities"
   ]
  },
  {
   "cell_type": "markdown",
   "metadata": {
    "id": "gSpp7Tq5zGDh"
   },
   "source": [
    "$$\n",
    "\\Large\n",
    "\\begin{array}{rrl}\n",
    "b + w_1x_1 + w_2x_2 = &z& = &log\\left(\\frac{p}{1-p}\\right)\n",
    "\\\\\n",
    "e^{b + w_1x_1 + w_2x_2} = &e^z& = &\\frac{p}{1-p}\n",
    "\\end{array}\n",
    "$$"
   ]
  },
  {
   "cell_type": "markdown",
   "metadata": {
    "id": "lc0vEKxizGDh"
   },
   "source": [
    "$$\n",
    "\\Large\n",
    "\\begin{array}{rl}\n",
    "\\frac{1}{e^z}& = &\\frac{1-p}{p}\n",
    "\\\\\n",
    "e^{-z}& = &\\frac{1}{p} - 1\n",
    "\\\\\n",
    "1 + e^{-z}& = &\\frac{1}{p}\n",
    "\\\\\n",
    "p& = &\\frac{1}{1 + e^{-z}}\n",
    "\\end{array}\n",
    "$$"
   ]
  },
  {
   "cell_type": "markdown",
   "metadata": {
    "id": "HB-zuXTRzGDh"
   },
   "source": [
    "$$\n",
    "\\Large\n",
    "p = \\sigma(z) = \\frac{1}{1+e^{-z}}\n",
    "$$"
   ]
  },
  {
   "cell_type": "code",
   "execution_count": null,
   "metadata": {
    "id": "_mgsIbu7zGDi"
   },
   "outputs": [],
   "source": [
    "def sigmoid(z):\n",
    "    return 1 / (1 + np.exp(-z))\n",
    "\n",
    "p = .75\n",
    "q = 1 - p\n",
    "sigmoid(log_odds_ratio(p)), sigmoid(log_odds_ratio(q))"
   ]
  },
  {
   "cell_type": "markdown",
   "metadata": {
    "id": "SCFr_liizGDi"
   },
   "source": [
    "### Sigmoid"
   ]
  },
  {
   "cell_type": "code",
   "execution_count": null,
   "metadata": {
    "id": "bESVepZUzGDi"
   },
   "outputs": [],
   "source": [
    "torch.sigmoid(torch.tensor(1.0986)), torch.sigmoid(torch.tensor(-1.0986))"
   ]
  },
  {
   "cell_type": "code",
   "execution_count": null,
   "metadata": {
    "id": "ocp8kwA4zGDi"
   },
   "outputs": [],
   "source": [
    "fig = figure4(p)"
   ]
  },
  {
   "cell_type": "markdown",
   "metadata": {
    "id": "N4h-KBPWzGDj"
   },
   "source": [
    "### Logistic Regression"
   ]
  },
  {
   "cell_type": "markdown",
   "metadata": {
    "id": "4R3i-q6JzGDj"
   },
   "source": [
    "$$\n",
    "\\Large P(y=1) = \\sigma(z) = \\sigma(b+w_1x_1+w_2x_2)\n",
    "$$"
   ]
  },
  {
   "cell_type": "markdown",
   "metadata": {
    "id": "pezIRN1lzGDj"
   },
   "source": [
    "![](images/logistic_model.png)"
   ]
  },
  {
   "cell_type": "code",
   "execution_count": null,
   "metadata": {
    "id": "faS20oO6zGDj"
   },
   "outputs": [],
   "source": [
    "torch.manual_seed(42)\n",
    "model1 = nn.Sequential()\n",
    "model1.add_module('linear', nn.Linear(2, 1))\n",
    "model1.add_module('sigmoid', nn.Sigmoid())\n",
    "print(model1.state_dict())"
   ]
  },
  {
   "cell_type": "markdown",
   "metadata": {
    "id": "vnXAgEeOzGDj"
   },
   "source": [
    "### A Note on Notation"
   ]
  },
  {
   "cell_type": "markdown",
   "metadata": {
    "id": "6WaTp88CzGDj"
   },
   "source": [
    "$$\n",
    "\\large W =\n",
    "\\underset{(3 \\times 1)}{\n",
    "\\begin{bmatrix}\n",
    "b \\\\\n",
    "w_1 \\\\\n",
    "w_2\n",
    "\\end{bmatrix}};\n",
    "X = \n",
    "\\underset{(3 \\times 1)}{\n",
    "\\begin{bmatrix}\n",
    "1 \\\\\n",
    "x_1 \\\\\n",
    "x_2\n",
    "\\end{bmatrix}}\n",
    "$$"
   ]
  },
  {
   "cell_type": "markdown",
   "metadata": {
    "id": "54lPrMixzGDk"
   },
   "source": [
    "$$\n",
    "\\large \n",
    "\\begin{aligned}\n",
    "z\n",
    "& = W^T \\cdot X\n",
    "=\n",
    "\\underset{(1 \\times 3)}{\n",
    "\\begin{bmatrix}\n",
    "- & w^{T} & -\\\\\n",
    "\\end{bmatrix}}\n",
    "\\cdot\n",
    "\\underset{(3 \\times 1)}{\n",
    "\\begin{bmatrix}\n",
    "1 \\\\\n",
    "x_1 \\\\\n",
    "x_2\n",
    "\\end{bmatrix}}\n",
    "= \\underset{(1 \\times 3)}{\n",
    "\\begin{bmatrix}\n",
    "b & w_1 & w_2\n",
    "\\end{bmatrix}}\n",
    "\\cdot\n",
    "\\underset{(3 \\times 1)}{\n",
    "\\begin{bmatrix}\n",
    "1 \\\\\n",
    "x_1 \\\\\n",
    "x_2\n",
    "\\end{bmatrix}}\\\\\n",
    "& = b + w_1x_1 + w_2x_2\n",
    "\\end{aligned}\n",
    "$$"
   ]
  },
  {
   "cell_type": "markdown",
   "metadata": {
    "id": "zewHFf6qzGDk"
   },
   "source": [
    "## Loss"
   ]
  },
  {
   "cell_type": "markdown",
   "metadata": {
    "id": "D9_34cX3zGDk"
   },
   "source": [
    "$$\n",
    "\\Large y_i = 1 \\Rightarrow error_i=log(P(y_i=1))\n",
    "$$"
   ]
  },
  {
   "cell_type": "markdown",
   "metadata": {
    "id": "tBVkohD0zGDk"
   },
   "source": [
    "$$\n",
    "\\Large P(y_i=0)=1-P(y_i=1)\n",
    "$$"
   ]
  },
  {
   "cell_type": "markdown",
   "metadata": {
    "id": "GqB5iqPmzGDk"
   },
   "source": [
    "$$\n",
    "\\Large y_i = 0 \\Rightarrow error_i=log(1-P(y_i=1))\n",
    "$$"
   ]
  },
  {
   "cell_type": "markdown",
   "metadata": {
    "id": "kzVayAcFzGDk"
   },
   "source": [
    "$$\n",
    "\\Large BCE(y)={-\\frac{1}{(N_{pos}+N_{neg})}\\Bigg[{\\sum_{i=1}^{N_{pos}}{log(P(y_i=1))} + \\sum_{i=1}^{N_{neg}}{log(1 - P(y_i=1))}}\\Bigg]}\n",
    "$$"
   ]
  },
  {
   "cell_type": "code",
   "execution_count": null,
   "metadata": {
    "id": "r1L51Z1KzGDl"
   },
   "outputs": [],
   "source": [
    "dummy_labels = torch.tensor([1.0, 0.0])\n",
    "dummy_predictions = torch.tensor([.9, .2])\n",
    "\n",
    "# Positive class (labels == 1)\n",
    "positive_pred = dummy_predictions[dummy_labels == 1]\n",
    "first_summation = torch.log(positive_pred).sum()\n",
    "# Negative class (labels == 0)\n",
    "negative_pred = dummy_predictions[dummy_labels == 0]\n",
    "second_summation = torch.log(1 - negative_pred).sum()\n",
    "# n_total = n_pos + n_neg\n",
    "n_total = dummy_labels.size(0)\n",
    "\n",
    "loss = -(first_summation + second_summation) / n_total\n",
    "loss"
   ]
  },
  {
   "cell_type": "markdown",
   "metadata": {
    "id": "kEhs454VzGDl"
   },
   "source": [
    "$$\n",
    "\\Large BCE(y)={-\\frac{1}{N}\\sum_{i=1}^{N}{\\left[y_i \\cdot log(P(y_i=1)) + (1-y_i) \\cdot log(1-P(y_i=1))\\right]}}\n",
    "$$"
   ]
  },
  {
   "cell_type": "code",
   "execution_count": null,
   "metadata": {
    "id": "ki8MmNR2zGDm"
   },
   "outputs": [],
   "source": [
    "summation = torch.sum(\n",
    "    dummy_labels * torch.log(dummy_predictions) +\n",
    "    (1 - dummy_labels) * torch.log(1 - dummy_predictions)\n",
    ")\n",
    "loss = -summation / n_total\n",
    "loss"
   ]
  },
  {
   "cell_type": "markdown",
   "metadata": {
    "id": "J3DVb9uHzGDm"
   },
   "source": [
    "### BCELoss"
   ]
  },
  {
   "cell_type": "code",
   "execution_count": null,
   "metadata": {
    "id": "R7mlYx7mzGDm"
   },
   "outputs": [],
   "source": [
    "loss_fn = nn.BCELoss(reduction='mean')\n",
    "\n",
    "loss_fn"
   ]
  },
  {
   "cell_type": "code",
   "execution_count": null,
   "metadata": {
    "id": "gKedIFgLzGDn"
   },
   "outputs": [],
   "source": [
    "dummy_labels = torch.tensor([1.0, 0.0])\n",
    "dummy_predictions = torch.tensor([.9, .2])\n",
    "\n",
    "# RIGHT\n",
    "right_loss = loss_fn(dummy_predictions, dummy_labels)\n",
    "\n",
    "# WRONG\n",
    "wrong_loss = loss_fn(dummy_labels, dummy_predictions)\n",
    "\n",
    "print(right_loss, wrong_loss)"
   ]
  },
  {
   "cell_type": "markdown",
   "metadata": {
    "id": "Qsb5qgJnzGDn"
   },
   "source": [
    "### BCEWithLogitsLoss"
   ]
  },
  {
   "cell_type": "code",
   "execution_count": null,
   "metadata": {
    "id": "v20s0J3-zGDn"
   },
   "outputs": [],
   "source": [
    "loss_fn_logits = nn.BCEWithLogitsLoss(reduction='mean')\n",
    "\n",
    "loss_fn_logits"
   ]
  },
  {
   "cell_type": "code",
   "execution_count": null,
   "metadata": {
    "id": "On-MJh6SzGDn"
   },
   "outputs": [],
   "source": [
    "logit1 = log_odds_ratio(.9)\n",
    "logit2 = log_odds_ratio(.2)\n",
    "\n",
    "dummy_labels = torch.tensor([1.0, 0.0])\n",
    "dummy_logits = torch.tensor([logit1, logit2])\n",
    "\n",
    "print(dummy_logits)"
   ]
  },
  {
   "cell_type": "code",
   "execution_count": null,
   "metadata": {
    "id": "lmlHCdwezGDn"
   },
   "outputs": [],
   "source": [
    "loss = loss_fn_logits(dummy_logits, dummy_labels)\n",
    "loss"
   ]
  },
  {
   "cell_type": "markdown",
   "metadata": {
    "id": "dW8Fkd0jzGDo"
   },
   "source": [
    "### Imbalanced Dataset"
   ]
  },
  {
   "cell_type": "code",
   "execution_count": null,
   "metadata": {
    "id": "ehHKoWXezGDo"
   },
   "outputs": [],
   "source": [
    "dummy_imb_labels = torch.tensor([1.0, 0.0, 0.0, 0.0])\n",
    "dummy_imb_logits = torch.tensor([logit1, logit2, logit2, logit2])"
   ]
  },
  {
   "cell_type": "markdown",
   "metadata": {
    "id": "Ql85gmlWzGDo"
   },
   "source": [
    "$$\n",
    "\\Large pos\\_weight = \\frac{\\# points\\ in\\ negative\\ class}{\\# points\\ in\\ positive\\ class}\n",
    "$$"
   ]
  },
  {
   "cell_type": "code",
   "execution_count": null,
   "metadata": {
    "id": "uZ6TNnNyzGDo"
   },
   "outputs": [],
   "source": [
    "n_neg = (dummy_imb_labels == 0).sum().float()\n",
    "n_pos = (dummy_imb_labels == 1).sum().float()\n",
    "\n",
    "pos_weight = (n_neg / n_pos).view(1,)\n",
    "pos_weight"
   ]
  },
  {
   "cell_type": "code",
   "execution_count": null,
   "metadata": {
    "id": "r_6rw8KTzGDp"
   },
   "outputs": [],
   "source": [
    "loss_fn_imb = nn.BCEWithLogitsLoss(reduction='mean', pos_weight=pos_weight)"
   ]
  },
  {
   "cell_type": "code",
   "execution_count": null,
   "metadata": {
    "id": "15aNeI5IzGDp"
   },
   "outputs": [],
   "source": [
    "loss = loss_fn_imb(dummy_imb_logits, dummy_imb_labels)\n",
    "loss"
   ]
  },
  {
   "cell_type": "markdown",
   "metadata": {
    "id": "E5ulP-oFzGDp"
   },
   "source": [
    "$$\n",
    "\\Large weighted\\ average = \\frac{pos\\_weight \\cdot \\sum_{i=1}^{N_{pos}}{loss_i}+\\sum_{i=1}^{N_{neg}}{loss_i}}{pos\\_weight \\cdot N_{pos}+N_{neg}}\n",
    "$$"
   ]
  },
  {
   "cell_type": "markdown",
   "metadata": {
    "id": "NXJ8D4RZzGDp"
   },
   "source": [
    "$$\n",
    "\\Large BCEWithLogitsLoss = \\frac{pos\\_weight \\cdot \\sum_{i=1}^{N_{pos}}{loss_i}+\\sum_{i=1}^{N_{neg}}{loss_i}}{N_{pos}+N_{neg}}\n",
    "$$"
   ]
  },
  {
   "cell_type": "code",
   "execution_count": null,
   "metadata": {
    "id": "3Y5QcIlozGDp"
   },
   "outputs": [],
   "source": [
    "loss_fn_imb_sum = nn.BCEWithLogitsLoss(reduction='sum', pos_weight=pos_weight)\n",
    "\n",
    "loss = loss_fn_imb_sum(dummy_imb_logits, dummy_imb_labels)\n",
    "\n",
    "loss = loss / (pos_weight * n_pos + n_neg)\n",
    "loss"
   ]
  },
  {
   "cell_type": "markdown",
   "metadata": {
    "id": "FZHWiH_GzGDq"
   },
   "source": [
    "## Model Configuration"
   ]
  },
  {
   "cell_type": "code",
   "execution_count": null,
   "metadata": {
    "id": "cnLIHNQnzGDq"
   },
   "outputs": [],
   "source": [
    "# Sets learning rate - this is \"eta\" ~ the \"n\" like Greek letter\n",
    "lr = 0.1\n",
    "\n",
    "torch.manual_seed(42)\n",
    "model = nn.Sequential()\n",
    "model.add_module('linear', nn.Linear(2, 1))\n",
    "\n",
    "# Defines a SGD optimizer to update the parameters\n",
    "optimizer = optim.SGD(model.parameters(), lr=lr)\n",
    "\n",
    "# Defines a BCE loss function\n",
    "loss_fn = nn.BCEWithLogitsLoss()"
   ]
  },
  {
   "cell_type": "markdown",
   "metadata": {
    "id": "dpNaFB6fzGDq"
   },
   "source": [
    "## Model Training"
   ]
  },
  {
   "cell_type": "code",
   "execution_count": null,
   "metadata": {
    "id": "y9bxDjpSzGDq"
   },
   "outputs": [],
   "source": [
    "n_epochs = 100\n",
    "\n",
    "sbs = StepByStep(model, loss_fn, optimizer)\n",
    "sbs.set_loaders(train_loader, val_loader)\n",
    "sbs.train(n_epochs)"
   ]
  },
  {
   "cell_type": "code",
   "execution_count": null,
   "metadata": {
    "id": "JpTBbhcxzGDr"
   },
   "outputs": [],
   "source": [
    "fig = sbs.plot_losses()"
   ]
  },
  {
   "cell_type": "code",
   "execution_count": null,
   "metadata": {
    "id": "VMkUnbYrzGDr"
   },
   "outputs": [],
   "source": [
    "print(model.state_dict())"
   ]
  },
  {
   "cell_type": "markdown",
   "metadata": {
    "id": "PFn4DJAYzGDr"
   },
   "source": [
    "$$\n",
    "\\large\n",
    "\\begin{array}{ccccccc}\n",
    "z & = & b & + & w_1x_1 & + & w_2x_2\n",
    "\\\\\n",
    "z & = & -0.0587 & + & 1.1822x_1 & - & 1.8684x_2\n",
    "\\end{array}\n",
    "$$"
   ]
  },
  {
   "cell_type": "markdown",
   "metadata": {
    "id": "BP-2OBRNzGDr"
   },
   "source": [
    "#### Making Predictions (Logits)"
   ]
  },
  {
   "cell_type": "code",
   "execution_count": null,
   "metadata": {
    "id": "FAkQ_-GqzGDr"
   },
   "outputs": [],
   "source": [
    "predictions = sbs.predict(x_train_tensor[:4])\n",
    "predictions"
   ]
  },
  {
   "cell_type": "markdown",
   "metadata": {
    "id": "3Gx4g3btzGDr"
   },
   "source": [
    "#### Making Predictions (Probabilities)"
   ]
  },
  {
   "cell_type": "code",
   "execution_count": null,
   "metadata": {
    "id": "anii2eYRzGDs"
   },
   "outputs": [],
   "source": [
    "probabilities = sigmoid(predictions)\n",
    "probabilities"
   ]
  },
  {
   "cell_type": "markdown",
   "metadata": {
    "id": "WOvyg4HPzGDs"
   },
   "source": [
    "#### Making Predictions (Classes)"
   ]
  },
  {
   "cell_type": "markdown",
   "metadata": {
    "id": "OVRv4_hgzGDs"
   },
   "source": [
    "$$\n",
    "\\Large y =\n",
    "\\begin{cases}\n",
    "1,\\ if\\ P(y=1) \\ge 0.5\n",
    "\\\\\n",
    "0,\\ if \\ P(y=1) < 0.5\n",
    "\\end{cases}\n",
    "$$"
   ]
  },
  {
   "cell_type": "markdown",
   "metadata": {
    "id": "JRZCHbDSzGDs"
   },
   "source": [
    "$$\n",
    "\\Large y =\n",
    "\\begin{cases}\n",
    "1,\\ if\\ \\sigma(z) \\ge 0.5\n",
    "\\\\\n",
    "0,\\ if \\ \\sigma(z) < 0.5\n",
    "\\end{cases}\n",
    "$$"
   ]
  },
  {
   "cell_type": "markdown",
   "metadata": {
    "id": "DuX22H_qzGDs"
   },
   "source": [
    "$$\n",
    "\\Large y =\n",
    "\\begin{cases}\n",
    "1,\\ if\\ z \\ge 0\n",
    "\\\\\n",
    "0,\\ if \\ z < 0\n",
    "\\end{cases}\n",
    "$$"
   ]
  },
  {
   "cell_type": "code",
   "execution_count": null,
   "metadata": {
    "id": "E7dhcHoxzGDs"
   },
   "outputs": [],
   "source": [
    "classes = (predictions >= 0).astype(np.int)\n",
    "classes"
   ]
  },
  {
   "cell_type": "markdown",
   "metadata": {
    "id": "LHW-mqC_zGDt"
   },
   "source": [
    "## Decision Boundary"
   ]
  },
  {
   "cell_type": "markdown",
   "metadata": {
    "id": "jOXYKXIIzGDt"
   },
   "source": [
    "$$\n",
    "\\Large\n",
    "\\begin{array}{ccccccccc}\n",
    "z & = &   0 & =   & b & + & w_1x_1 & + & w_2x_2\n",
    "\\\\\n",
    "& & -w_2x_2 & = & b & + & w_1x_1 & &\n",
    "\\\\\n",
    "& & x_2 & = & -\\frac{b}{w_2} & - &\\frac{w_1}{w_2}x_1 & &\n",
    "\\end{array}\n",
    "$$"
   ]
  },
  {
   "cell_type": "markdown",
   "metadata": {
    "id": "XgtPotnBzGDt"
   },
   "source": [
    "$$\n",
    "\\Large\n",
    "\\begin{array}{ccccccccc}\n",
    "& & x_2 & = & -\\frac{0.0587}{1.8684} & + &\\frac{1.1822}{1.8684}x_1 & &\n",
    "\\\\\n",
    "& & x_2 & = & -0.0314 & + &0.6327x_1 & &\n",
    "\\end{array}\n",
    "$$"
   ]
  },
  {
   "cell_type": "code",
   "execution_count": null,
   "metadata": {
    "id": "keUymYK0zGDt"
   },
   "outputs": [],
   "source": [
    "# Training set\n",
    "fig = figure7(X_train, y_train, sbs.model, sbs.device)"
   ]
  },
  {
   "cell_type": "code",
   "execution_count": null,
   "metadata": {
    "id": "Lkx9QfzbzGDt"
   },
   "outputs": [],
   "source": [
    "# Validation set\n",
    "fig = figure7(X_val, y_val, sbs.model, sbs.device)"
   ]
  },
  {
   "cell_type": "markdown",
   "metadata": {
    "id": "jFRNvkpwzGDu"
   },
   "source": [
    "### Are my data points separable?"
   ]
  },
  {
   "cell_type": "code",
   "execution_count": null,
   "metadata": {
    "id": "P8EPUt1uzGDu"
   },
   "outputs": [],
   "source": [
    "x = np.array([-2.8, -2.2, -1.8, -1.3, -.4, 0.3, 0.6, 1.3, 1.9, 2.5])\n",
    "y = np.array([0., 0., 0., 0., 1., 1., 1., 0., 0., 0.])\n",
    "\n",
    "fig = one_dimension(x, y)"
   ]
  },
  {
   "cell_type": "markdown",
   "metadata": {
    "id": "_Dl2CYiqzGDu"
   },
   "source": [
    "$$\n",
    "\\Large X_2 = f(X_1)= X_1^2\n",
    "$$"
   ]
  },
  {
   "cell_type": "code",
   "execution_count": null,
   "metadata": {
    "id": "AqNJMdukzGDu"
   },
   "outputs": [],
   "source": [
    "fig = two_dimensions(x, y)"
   ]
  },
  {
   "cell_type": "code",
   "execution_count": null,
   "metadata": {
    "id": "ttV6hIvxzGDu"
   },
   "outputs": [],
   "source": [
    "model = nn.Sequential()\n",
    "model.add_module('hidden', nn.Linear(2, 10))\n",
    "model.add_module('activation', nn.ReLU())\n",
    "model.add_module('output', nn.Linear(10, 1))\n",
    "model.add_module('sigmoid', nn.Sigmoid())\n",
    "\n",
    "loss_fn = nn.BCELoss()"
   ]
  },
  {
   "cell_type": "markdown",
   "metadata": {
    "id": "6veP4pq2zGDv"
   },
   "source": [
    "## Classification Threshold"
   ]
  },
  {
   "cell_type": "code",
   "execution_count": null,
   "metadata": {
    "id": "zhVydAPYzGDv"
   },
   "outputs": [],
   "source": [
    "logits_val = sbs.predict(X_val)\n",
    "probabilities_val = sigmoid(logits_val).squeeze()\n",
    "threshold = 0.5"
   ]
  },
  {
   "cell_type": "code",
   "execution_count": null,
   "metadata": {
    "id": "M7Ej-0j7zGDv"
   },
   "outputs": [],
   "source": [
    "fig = figure9(X_val, y_val, sbs.model, sbs.device, probabilities_val, threshold)"
   ]
  },
  {
   "cell_type": "code",
   "execution_count": null,
   "metadata": {
    "id": "26T1y8XTzGDv"
   },
   "outputs": [],
   "source": [
    "fig = figure10(y_val, probabilities_val, threshold, 0.04, False)"
   ]
  },
  {
   "cell_type": "markdown",
   "metadata": {
    "id": "YhCWt5-9zGDw"
   },
   "source": [
    "### Confusion Matrix"
   ]
  },
  {
   "cell_type": "code",
   "execution_count": null,
   "metadata": {
    "id": "Wfve_Z4ezGDw"
   },
   "outputs": [],
   "source": [
    "fig = figure10(y_val, probabilities_val, threshold, 0.04, True)"
   ]
  },
  {
   "cell_type": "code",
   "execution_count": null,
   "metadata": {
    "id": "R5xCD0CzzGDw"
   },
   "outputs": [],
   "source": [
    "cm_thresh50 = confusion_matrix(y_val, (probabilities_val >= .5))\n",
    "cm_thresh50"
   ]
  },
  {
   "cell_type": "markdown",
   "metadata": {
    "id": "pO2xhASfzGDw"
   },
   "source": [
    "#### True and False Positives and Negatives"
   ]
  },
  {
   "cell_type": "code",
   "execution_count": null,
   "metadata": {
    "id": "9kDVsywIzGDx"
   },
   "outputs": [],
   "source": [
    "def split_cm(cm):\n",
    "    # Actual negatives go in the top row, \n",
    "    # above the probability line\n",
    "    actual_negative = cm[0]\n",
    "    # Predicted negatives go in the first column\n",
    "    tn = actual_negative[0]\n",
    "    # Predicted positives go in the second column\n",
    "    fp = actual_negative[1]\n",
    "\n",
    "    # Actual positives go in the bottow row, \n",
    "    # below the probability line\n",
    "    actual_positive = cm[1]\n",
    "    # Predicted negatives go in the first column\n",
    "    fn = actual_positive[0]\n",
    "    # Predicted positives go in the second column\n",
    "    tp = actual_positive[1]\n",
    "    \n",
    "    return tn, fp, fn, tp"
   ]
  },
  {
   "cell_type": "markdown",
   "metadata": {
    "id": "w19eeW5gzGDx"
   },
   "source": [
    "### Metrics"
   ]
  },
  {
   "cell_type": "markdown",
   "metadata": {
    "id": "bNWDnB6PzGDx"
   },
   "source": [
    "### True and False Positive Rates"
   ]
  },
  {
   "cell_type": "markdown",
   "metadata": {
    "id": "-UXsAXQPzGDx"
   },
   "source": [
    "$$\n",
    "\\Large TPR = \\frac{TP}{TP + FN} \\ \\ \\  FPR = \\frac{FP}{FP + TN}\n",
    "$$"
   ]
  },
  {
   "cell_type": "code",
   "execution_count": null,
   "metadata": {
    "id": "dwO4VarDzGDx"
   },
   "outputs": [],
   "source": [
    "def tpr_fpr(cm):\n",
    "    tn, fp, fn, tp = split_cm(cm)\n",
    "    \n",
    "    tpr = tp / (tp + fn)\n",
    "    fpr = fp / (fp + tn)\n",
    "    \n",
    "    return tpr, fpr"
   ]
  },
  {
   "cell_type": "code",
   "execution_count": null,
   "metadata": {
    "id": "Un8NZwG2zGDy"
   },
   "outputs": [],
   "source": [
    "tpr_fpr(cm_thresh50)"
   ]
  },
  {
   "cell_type": "markdown",
   "metadata": {
    "id": "rBsN8jELzGDy"
   },
   "source": [
    "### Precision and Recall"
   ]
  },
  {
   "cell_type": "markdown",
   "metadata": {
    "id": "Vq6ggQNYzGDy"
   },
   "source": [
    "$$\n",
    "\\Large Recall = \\frac{TP}{TP + FN} \\ \\ \\  Precision = \\frac{TP}{TP + FP}\n",
    "$$"
   ]
  },
  {
   "cell_type": "code",
   "execution_count": null,
   "metadata": {
    "id": "IAurQS2dzGDy"
   },
   "outputs": [],
   "source": [
    "def precision_recall(cm):\n",
    "    tn, fp, fn, tp = split_cm(cm)\n",
    "    \n",
    "    precision = tp / (tp + fp)\n",
    "    recall = tp / (tp + fn)\n",
    "    \n",
    "    return precision, recall"
   ]
  },
  {
   "cell_type": "code",
   "execution_count": null,
   "metadata": {
    "id": "jLXGE8IYzGDy"
   },
   "outputs": [],
   "source": [
    "precision_recall(cm_thresh50)"
   ]
  },
  {
   "cell_type": "markdown",
   "metadata": {
    "id": "Om_Jiq7OzGDz"
   },
   "source": [
    "### Accuracy"
   ]
  },
  {
   "cell_type": "markdown",
   "metadata": {
    "id": "hzcqGSCDzGDz"
   },
   "source": [
    "$$\n",
    "\\Large Accuracy = \\frac{TP+TN}{TP+TN+FP+FN}\n",
    "$$"
   ]
  },
  {
   "cell_type": "markdown",
   "metadata": {
    "id": "8WcqFntDzGDz"
   },
   "source": [
    "## Trade-offs and Curves"
   ]
  },
  {
   "cell_type": "code",
   "execution_count": null,
   "metadata": {
    "id": "DwdFjxE_zGDz"
   },
   "outputs": [],
   "source": [
    "fig = eval_curves_from_probs(y_val, probabilities_val, [.5], annot=True)"
   ]
  },
  {
   "cell_type": "markdown",
   "metadata": {
    "id": "qv8BG7EZzGDz"
   },
   "source": [
    "### Low Threshold"
   ]
  },
  {
   "cell_type": "code",
   "execution_count": null,
   "metadata": {
    "id": "Ij1jXxP3zGDz"
   },
   "outputs": [],
   "source": [
    "fig = figure9(X_val, y_val, sbs.model, sbs.device, probabilities_val, threshold=0.3, shift=0.04, annot=True)"
   ]
  },
  {
   "cell_type": "code",
   "execution_count": null,
   "metadata": {
    "id": "PJsXcDFEzGD0"
   },
   "outputs": [],
   "source": [
    "confusion_matrix(y_val, (probabilities_val >= 0.3))"
   ]
  },
  {
   "cell_type": "code",
   "execution_count": null,
   "metadata": {
    "id": "7Ooy2UjkzGD0"
   },
   "outputs": [],
   "source": [
    "fig = eval_curves_from_probs(y_val, probabilities_val, [.3, .5], annot=True)"
   ]
  },
  {
   "cell_type": "markdown",
   "metadata": {
    "id": "6T9RP7bJzGD0"
   },
   "source": [
    "### High Threshold"
   ]
  },
  {
   "cell_type": "code",
   "execution_count": null,
   "metadata": {
    "id": "NO3wK8c6zGD0"
   },
   "outputs": [],
   "source": [
    "fig = figure9(X_val, y_val, sbs.model, sbs.device, probabilities_val, threshold=0.7, shift=0.04, annot=True)"
   ]
  },
  {
   "cell_type": "code",
   "execution_count": null,
   "metadata": {
    "id": "9EwUQpfSzGD0"
   },
   "outputs": [],
   "source": [
    "confusion_matrix(y_val, (probabilities_val >= 0.7))"
   ]
  },
  {
   "cell_type": "code",
   "execution_count": null,
   "metadata": {
    "id": "zGuiOjgIzGD1"
   },
   "outputs": [],
   "source": [
    "fig = eval_curves_from_probs(y_val, probabilities_val, [.3, .5, .7], annot=True)"
   ]
  },
  {
   "cell_type": "markdown",
   "metadata": {
    "id": "HPVWYfIezGD2"
   },
   "source": [
    "### ROC and PR Curves"
   ]
  },
  {
   "cell_type": "code",
   "execution_count": null,
   "metadata": {
    "id": "J3m1Wm2kzGD2"
   },
   "outputs": [],
   "source": [
    "threshs = np.linspace(0.,1,11)"
   ]
  },
  {
   "cell_type": "code",
   "execution_count": null,
   "metadata": {
    "id": "3CmS0uC6zGD2"
   },
   "outputs": [],
   "source": [
    "fig = figure17(y_val, probabilities_val, threshs)"
   ]
  },
  {
   "cell_type": "code",
   "execution_count": null,
   "metadata": {
    "id": "5Gb49s1CzGD2"
   },
   "outputs": [],
   "source": [
    "fpr, tpr, thresholds1 = roc_curve(y_val, probabilities_val)\n",
    "prec, rec, thresholds2 = precision_recall_curve(y_val, probabilities_val)"
   ]
  },
  {
   "cell_type": "code",
   "execution_count": null,
   "metadata": {
    "id": "9SDUFBQEzGD2"
   },
   "outputs": [],
   "source": [
    "fig = eval_curves(fpr, tpr, rec, prec, thresholds1, thresholds2, line=True)"
   ]
  },
  {
   "cell_type": "markdown",
   "metadata": {
    "id": "SUhlwhibzGD3"
   },
   "source": [
    "### The Precision Quirk"
   ]
  },
  {
   "cell_type": "code",
   "execution_count": null,
   "metadata": {
    "id": "OaXWsUUDzGD3"
   },
   "outputs": [],
   "source": [
    "fig = figure19(y_val, probabilities_val)"
   ]
  },
  {
   "cell_type": "markdown",
   "metadata": {
    "id": "l16-2qbVzGD3"
   },
   "source": [
    "$$\n",
    "\\Large Precision(thresh=0.40)=\\frac{13}{13+2}=0.8666\n",
    "$$"
   ]
  },
  {
   "cell_type": "markdown",
   "metadata": {
    "id": "JYWWGlsTzGD3"
   },
   "source": [
    "$$\n",
    "\\Large Precision(thresh=0.50)=\\frac{(13-1)}{(13-1)+2}=\\frac{12}{12+2}=0.8571\n",
    "$$"
   ]
  },
  {
   "cell_type": "markdown",
   "metadata": {
    "id": "dJE-CPz-zGD3"
   },
   "source": [
    "$$\n",
    "\\Large Precision(thresh=0.57)=\\frac{12}{12+(2-1)}=\\frac{12}{12+1}=0.9230\n",
    "$$"
   ]
  },
  {
   "cell_type": "markdown",
   "metadata": {
    "id": "I8BLEhljzGD3"
   },
   "source": [
    "### Best and Worst Curves"
   ]
  },
  {
   "cell_type": "code",
   "execution_count": null,
   "metadata": {
    "id": "xXPfd12lzGD3"
   },
   "outputs": [],
   "source": [
    "# Best\n",
    "fig = figure20(y_val)"
   ]
  },
  {
   "cell_type": "code",
   "execution_count": null,
   "metadata": {
    "id": "XaZwq7fyzGD4"
   },
   "outputs": [],
   "source": [
    "np.random.seed(39)\n",
    "random_probs = np.random.uniform(size=y_val.shape)"
   ]
  },
  {
   "cell_type": "code",
   "execution_count": null,
   "metadata": {
    "id": "q9ZVWQivzGD4"
   },
   "outputs": [],
   "source": [
    "fpr_random, tpr_random, thresholds1_random = roc_curve(y_val, random_probs)\n",
    "prec_random, rec_random, thresholds2_random = precision_recall_curve(y_val, random_probs)"
   ]
  },
  {
   "cell_type": "code",
   "execution_count": null,
   "metadata": {
    "id": "GVUuzLPGzGD4"
   },
   "outputs": [],
   "source": [
    "# Worst\n",
    "fig = figure21(y_val, random_probs)"
   ]
  },
  {
   "cell_type": "markdown",
   "metadata": {
    "id": "qnAiMZc5zGD4"
   },
   "source": [
    "### Comparing Models"
   ]
  },
  {
   "cell_type": "code",
   "execution_count": null,
   "metadata": {
    "id": "ipCUFKTOzGD4"
   },
   "outputs": [],
   "source": [
    "# Area under the curves of our model\n",
    "auroc = auc(fpr, tpr)\n",
    "aupr = auc(rec, prec)\n",
    "print(auroc, aupr)"
   ]
  },
  {
   "cell_type": "code",
   "execution_count": null,
   "metadata": {
    "id": "kiiPfS4rzGD4"
   },
   "outputs": [],
   "source": [
    "# Area under the curves of the random model\n",
    "auroc_random = auc(fpr_random, tpr_random)\n",
    "aupr_random = auc(rec_random, prec_random)\n",
    "print(auroc_random, aupr_random)"
   ]
  },
  {
   "cell_type": "markdown",
   "metadata": {
    "id": "vVXIrt2HzGD5"
   },
   "source": [
    "## Putting It All Together"
   ]
  },
  {
   "cell_type": "code",
   "execution_count": null,
   "metadata": {
    "id": "WKNmtjSozGD5"
   },
   "outputs": [],
   "source": [
    "torch.manual_seed(13)\n",
    "\n",
    "# Builds tensors from numpy arrays\n",
    "x_train_tensor = torch.as_tensor(X_train).float()\n",
    "y_train_tensor = torch.as_tensor(y_train.reshape(-1, 1)).float()\n",
    "\n",
    "x_val_tensor = torch.as_tensor(X_val).float()\n",
    "y_val_tensor = torch.as_tensor(y_val.reshape(-1, 1)).float()\n",
    "\n",
    "# Builds dataset containing ALL data points\n",
    "train_dataset = TensorDataset(x_train_tensor, y_train_tensor)\n",
    "val_dataset = TensorDataset(x_val_tensor, y_val_tensor)\n",
    "\n",
    "# Builds a loader of each set\n",
    "train_loader = DataLoader(\n",
    "    dataset=train_dataset, \n",
    "    batch_size=16, \n",
    "    shuffle=True\n",
    ")\n",
    "val_loader = DataLoader(dataset=val_dataset, batch_size=16)"
   ]
  },
  {
   "cell_type": "code",
   "execution_count": null,
   "metadata": {
    "id": "15XBLzgJzGD5"
   },
   "outputs": [],
   "source": [
    "# Sets learning rate - this is \"eta\" ~ the \"n\" like Greek letter\n",
    "lr = 0.1\n",
    "\n",
    "torch.manual_seed(42)\n",
    "model = nn.Sequential()\n",
    "model.add_module('linear', nn.Linear(2, 1))\n",
    "\n",
    "# Defines a SGD optimizer to update the parameters\n",
    "optimizer = optim.SGD(model.parameters(), lr=lr)\n",
    "\n",
    "# Defines a BCE loss function\n",
    "loss_fn = nn.BCEWithLogitsLoss()"
   ]
  },
  {
   "cell_type": "code",
   "execution_count": null,
   "metadata": {
    "id": "MaPkKL-UzGD5"
   },
   "outputs": [],
   "source": [
    "n_epochs = 100\n",
    "\n",
    "sbs = StepByStep(model, loss_fn, optimizer)\n",
    "sbs.set_loaders(train_loader, val_loader)\n",
    "sbs.train(n_epochs)"
   ]
  },
  {
   "cell_type": "code",
   "execution_count": null,
   "metadata": {
    "id": "CphmglvPzGD5"
   },
   "outputs": [],
   "source": [
    "print(model.state_dict())"
   ]
  },
  {
   "cell_type": "code",
   "execution_count": null,
   "metadata": {
    "id": "PbJc53q3zGD6"
   },
   "outputs": [],
   "source": [
    "logits_val = sbs.predict(X_val)\n",
    "probabilities_val = sigmoid(logits_val).squeeze()\n",
    "cm_thresh50 = confusion_matrix(y_val, (probabilities_val >= 0.5))\n",
    "cm_thresh50"
   ]
  },
  {
   "cell_type": "code",
   "execution_count": null,
   "metadata": {
    "id": "mTh2COuxzGD6"
   },
   "outputs": [],
   "source": []
  }
 ],
 "metadata": {
  "colab": {
   "collapsed_sections": [
    "7w9gcuNbzGDZ",
    "JS4JPAQyzGDb",
    "JWaSES4PzGDb",
    "2hNzPI5qzGDd",
    "7Rq_AxOUzGDd",
    "QPl5nQBgzGDe",
    "8lu7eJwVzGDf",
    "KkgWV0sBzGDg",
    "VUTAbtwDzGDh",
    "SCFr_liizGDi",
    "N4h-KBPWzGDj",
    "vnXAgEeOzGDj",
    "zewHFf6qzGDk",
    "J3DVb9uHzGDm",
    "Qsb5qgJnzGDn",
    "dW8Fkd0jzGDo",
    "FZHWiH_GzGDq",
    "dpNaFB6fzGDq",
    "BP-2OBRNzGDr",
    "3Gx4g3btzGDr",
    "WOvyg4HPzGDs",
    "LHW-mqC_zGDt",
    "jFRNvkpwzGDu",
    "6veP4pq2zGDv",
    "YhCWt5-9zGDw",
    "pO2xhASfzGDw",
    "w19eeW5gzGDx",
    "bNWDnB6PzGDx",
    "rBsN8jELzGDy",
    "Om_Jiq7OzGDz",
    "8WcqFntDzGDz",
    "qv8BG7EZzGDz",
    "6T9RP7bJzGD0",
    "HPVWYfIezGD2",
    "SUhlwhibzGD3",
    "I8BLEhljzGD3",
    "qnAiMZc5zGD4",
    "vVXIrt2HzGD5"
   ],
   "name": "Chapter06.ipynb",
   "provenance": []
  },
  "kernelspec": {
   "display_name": "Python 3 (ipykernel)",
   "language": "python",
   "name": "python3"
  },
  "language_info": {
   "codemirror_mode": {
    "name": "ipython",
    "version": 3
   },
   "file_extension": ".py",
   "mimetype": "text/x-python",
   "name": "python",
   "nbconvert_exporter": "python",
   "pygments_lexer": "ipython3",
   "version": "3.8.10"
  }
 },
 "nbformat": 4,
 "nbformat_minor": 1
}
