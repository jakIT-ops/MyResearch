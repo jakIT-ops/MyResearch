{
 "cells": [
  {
   "cell_type": "markdown",
   "metadata": {
    "id": "VgNWoqp1x-dF"
   },
   "source": [
    "# Deep Learning with PyTorch Step-by-Step: A Beginner's Guide"
   ]
  },
  {
   "cell_type": "markdown",
   "metadata": {
    "id": "X8rAAkKfx-dG"
   },
   "source": [
    "# Chapter 2"
   ]
  },
  {
   "cell_type": "code",
   "execution_count": null,
   "metadata": {
    "id": "EmLjbtesx-dH"
   },
   "outputs": [],
   "source": [
    "from config_dl import *\n",
    "from plots.chapter0 import *"
   ]
  },
  {
   "cell_type": "code",
   "execution_count": null,
   "metadata": {
    "id": "r4dWgFy1x-dH"
   },
   "outputs": [],
   "source": [
    "import numpy as np\n",
    "from sklearn.linear_model import LinearRegression\n",
    "from sklearn.preprocessing import StandardScaler"
   ]
  },
  {
   "cell_type": "markdown",
   "metadata": {
    "id": "RUAZ-ffrx-dI"
   },
   "source": [
    "# Visualizing Gradient Descent"
   ]
  },
  {
   "cell_type": "markdown",
   "metadata": {
    "id": "8lh_aRsdx-dI"
   },
   "source": [
    "## Model"
   ]
  },
  {
   "cell_type": "markdown",
   "metadata": {
    "id": "jg-PXERCx-dI"
   },
   "source": [
    "$$\n",
    "\\Large y = b + w x + \\epsilon\n",
    "$$"
   ]
  },
  {
   "cell_type": "markdown",
   "metadata": {
    "id": "83ylj_c9x-dI"
   },
   "source": [
    "## Data Generation"
   ]
  },
  {
   "cell_type": "markdown",
   "metadata": {
    "id": "gyif243dx-dJ"
   },
   "source": [
    "### Synthetic Data Generation"
   ]
  },
  {
   "cell_type": "code",
   "execution_count": null,
   "metadata": {
    "id": "J_4mZkxNx-dJ"
   },
   "outputs": [],
   "source": [
    "true_b = 1\n",
    "true_w = 2\n",
    "N = 100\n",
    "\n",
    "# Data Generation\n",
    "np.random.seed(42)\n",
    "x = np.random.rand(N, 1)\n",
    "epsilon = (.1 * np.random.randn(N, 1))\n",
    "y = true_b + true_w * x + epsilon"
   ]
  },
  {
   "cell_type": "markdown",
   "metadata": {
    "id": "u0BVdYK6x-dJ"
   },
   "source": [
    "### Train-Validation-Test Split"
   ]
  },
  {
   "cell_type": "code",
   "execution_count": null,
   "metadata": {
    "id": "GcW8AuTUx-dJ"
   },
   "outputs": [],
   "source": [
    "# Shuffles the indices\n",
    "idx = np.arange(N)\n",
    "np.random.shuffle(idx)\n",
    "\n",
    "# Uses first 80 random indices for train\n",
    "train_idx = idx[:int(N*.8)]\n",
    "# Uses the remaining indices for validation\n",
    "val_idx = idx[int(N*.8):]\n",
    "\n",
    "# Generates train and validation sets\n",
    "x_train, y_train = x[train_idx], y[train_idx]\n",
    "x_val, y_val = x[val_idx], y[val_idx]"
   ]
  },
  {
   "cell_type": "code",
   "execution_count": null,
   "metadata": {
    "id": "j6cA7J6Lx-dK"
   },
   "outputs": [],
   "source": [
    "figure1(x_train, y_train, x_val, y_val)"
   ]
  },
  {
   "cell_type": "markdown",
   "metadata": {
    "id": "om93R6p9x-dL"
   },
   "source": [
    "## Step 0: Random Initialization"
   ]
  },
  {
   "cell_type": "code",
   "execution_count": null,
   "metadata": {
    "id": "wj7Ts-3qx-dL"
   },
   "outputs": [],
   "source": [
    "# Step 0 - Initializes parameters \"b\" and \"w\" randomly\n",
    "np.random.seed(42)\n",
    "b = np.random.randn(1)\n",
    "w = np.random.randn(1)\n",
    "\n",
    "print(b, w)"
   ]
  },
  {
   "cell_type": "markdown",
   "metadata": {
    "id": "9X-eMlKsx-dL"
   },
   "source": [
    "## Step 1: Compute Model's Predictions"
   ]
  },
  {
   "cell_type": "code",
   "execution_count": null,
   "metadata": {
    "id": "yyeCSVfPx-dL"
   },
   "outputs": [],
   "source": [
    "# Step 1 - Computes our model's predicted output - forward pass\n",
    "yhat = b + w * x_train"
   ]
  },
  {
   "cell_type": "code",
   "execution_count": null,
   "metadata": {
    "id": "yb7eWPEOx-dM"
   },
   "outputs": [],
   "source": [
    "figure2(x_train, y_train, b, w)"
   ]
  },
  {
   "cell_type": "markdown",
   "metadata": {
    "id": "zBckPpfax-dM"
   },
   "source": [
    "## Step 2: Compute the Loss"
   ]
  },
  {
   "cell_type": "markdown",
   "metadata": {
    "id": "wzfHayZGx-dM"
   },
   "source": [
    "$$\n",
    "\\Large error_i = \\hat{y_i} - y_i\n",
    "$$"
   ]
  },
  {
   "cell_type": "code",
   "execution_count": null,
   "metadata": {
    "id": "rbtRcsLhx-dM"
   },
   "outputs": [],
   "source": [
    "figure3(x_train, y_train, b, w)"
   ]
  },
  {
   "cell_type": "markdown",
   "metadata": {
    "id": "mwRfod9-x-dM"
   },
   "source": [
    "$$\n",
    "\\Large\n",
    "\\begin{aligned}\n",
    "MSE &= \\frac{1}{n} \\sum_{i=1}^n{error_i}^2\n",
    "\\\\\n",
    "&= \\frac{1}{n} \\sum_{i=1}^n{(\\hat{y_i} - y_i)}^2\n",
    "\\\\\n",
    "&= \\frac{1}{n} \\sum_{i=1}^n{(b + w x_i - y_i)}^2\n",
    "\\end{aligned}\n",
    "$$"
   ]
  },
  {
   "cell_type": "code",
   "execution_count": null,
   "metadata": {
    "id": "aQ2hMNhJx-dN"
   },
   "outputs": [],
   "source": [
    "# Step 2 - Computing the loss\n",
    "# We are using ALL data points, so this is BATCH gradient\n",
    "# descent. How wrong is our model? That's the error!\n",
    "error = (yhat - y_train)\n",
    "\n",
    "# It is a regression, so it computes mean squared error (MSE)\n",
    "loss = (error ** 2).mean()\n",
    "print(loss)"
   ]
  },
  {
   "cell_type": "markdown",
   "metadata": {
    "id": "mH77H-dwx-dN"
   },
   "source": [
    "### Loss Surface"
   ]
  },
  {
   "cell_type": "code",
   "execution_count": null,
   "metadata": {
    "id": "SuvZqSoZx-dN"
   },
   "outputs": [],
   "source": [
    "# Reminder:\n",
    "# true_b = 1\n",
    "# true_w = 2\n",
    "\n",
    "# we have to split the ranges in 100 evenly spaced intervals each\n",
    "b_range = np.linspace(true_b - 3, true_b + 3, 101)\n",
    "w_range = np.linspace(true_w - 3, true_w + 3, 101)\n",
    "# meshgrid is a handy function that generates a grid of b and w\n",
    "# values for all combinations\n",
    "bs, ws = np.meshgrid(b_range, w_range)\n",
    "bs.shape, ws.shape"
   ]
  },
  {
   "cell_type": "code",
   "execution_count": null,
   "metadata": {
    "id": "pAp8kRopx-dN"
   },
   "outputs": [],
   "source": [
    "bs"
   ]
  },
  {
   "cell_type": "code",
   "execution_count": null,
   "metadata": {
    "id": "T9STH4T5x-dN"
   },
   "outputs": [],
   "source": [
    "sample_x = x_train[0]\n",
    "sample_yhat = bs + ws * sample_x\n",
    "sample_yhat.shape"
   ]
  },
  {
   "cell_type": "code",
   "execution_count": null,
   "metadata": {
    "id": "WOOQ-8m4x-dO"
   },
   "outputs": [],
   "source": [
    "all_predictions = np.apply_along_axis(\n",
    "    func1d=lambda x: bs + ws * x, \n",
    "    axis=1, \n",
    "    arr=x_train\n",
    ")\n",
    "all_predictions.shape"
   ]
  },
  {
   "cell_type": "code",
   "execution_count": null,
   "metadata": {
    "id": "iCFChH79x-dO"
   },
   "outputs": [],
   "source": [
    "all_labels = y_train.reshape(-1, 1, 1)\n",
    "all_labels.shape"
   ]
  },
  {
   "cell_type": "code",
   "execution_count": null,
   "metadata": {
    "id": "wn7j_N1ux-dO"
   },
   "outputs": [],
   "source": [
    "all_errors = (all_predictions - all_labels)\n",
    "all_errors.shape"
   ]
  },
  {
   "cell_type": "code",
   "execution_count": null,
   "metadata": {
    "id": "KRY6Npsfx-dO"
   },
   "outputs": [],
   "source": [
    "all_losses = (all_errors ** 2).mean(axis=0)\n",
    "all_losses.shape"
   ]
  },
  {
   "cell_type": "code",
   "execution_count": null,
   "metadata": {
    "id": "oZoRy3qWx-dP"
   },
   "outputs": [],
   "source": [
    "figure4(x_train, y_train, b, w, bs, ws, all_losses)"
   ]
  },
  {
   "cell_type": "markdown",
   "metadata": {
    "id": "ve6dqGzhx-dP"
   },
   "source": [
    "### Cross Sections"
   ]
  },
  {
   "cell_type": "code",
   "execution_count": null,
   "metadata": {
    "id": "Om-SQKg6x-dP"
   },
   "outputs": [],
   "source": [
    "figure5(x_train, y_train, b, w, bs, ws, all_losses)"
   ]
  },
  {
   "cell_type": "code",
   "execution_count": null,
   "metadata": {
    "id": "0Ys5f4upx-dP"
   },
   "outputs": [],
   "source": [
    "figure6(x_train, y_train, b, w, bs, ws, all_losses)"
   ]
  },
  {
   "cell_type": "markdown",
   "metadata": {
    "id": "L8Hn1qgox-dP"
   },
   "source": [
    "## Step 3: Compute the Gradients"
   ]
  },
  {
   "cell_type": "markdown",
   "metadata": {
    "id": "hcvXJbtix-dQ"
   },
   "source": [
    "$$\n",
    "\\large\n",
    "\\begin{aligned}\n",
    "\\frac{\\partial{MSE}}{\\partial{b}} = \\frac{\\partial{MSE}}{\\partial{\\hat{y_i}}} \\cdot \\frac{\\partial{\\hat{y_i}}}{\\partial{b}} &= \\frac{1}{n} \\sum_{i=1}^n{2(b + w x_i - y_i)} \n",
    "\\\\\n",
    "&= 2 \\frac{1}{n} \\sum_{i=1}^n{(\\hat{y_i} - y_i)}\n",
    "\\\\\n",
    "\\frac{\\partial{MSE}}{\\partial{w}} = \\frac{\\partial{MSE}}{\\partial{\\hat{y_i}}} \\cdot \\frac{\\partial{\\hat{y_i}}}{\\partial{w}} &= \\frac{1}{n} \\sum_{i=1}^n{2(b + w x_i - y_i) \\cdot x_i} \n",
    "\\\\\n",
    "&= 2 \\frac{1}{n} \\sum_{i=1}^n{x_i (\\hat{y_i} - y_i)}\n",
    "\\end{aligned}\n",
    "$$"
   ]
  },
  {
   "cell_type": "code",
   "execution_count": null,
   "metadata": {
    "id": "WcanwtYUx-dQ"
   },
   "outputs": [],
   "source": [
    "# Step 3 - Computes gradients for both \"b\" and \"w\" parameters\n",
    "b_grad = 2 * error.mean()\n",
    "w_grad = 2 * (x_train * error).mean()\n",
    "print(b_grad, w_grad)"
   ]
  },
  {
   "cell_type": "markdown",
   "metadata": {
    "id": "T_-aPhRtx-dQ"
   },
   "source": [
    "### Visualizing the Gradients"
   ]
  },
  {
   "cell_type": "code",
   "execution_count": null,
   "metadata": {
    "id": "JJMmXcHUx-dQ"
   },
   "outputs": [],
   "source": [
    "figure7(b, w, bs, ws, all_losses)"
   ]
  },
  {
   "cell_type": "code",
   "execution_count": null,
   "metadata": {
    "id": "vDqsgGQGx-dQ"
   },
   "outputs": [],
   "source": [
    "figure8(b, w, bs, ws, all_losses)"
   ]
  },
  {
   "cell_type": "markdown",
   "metadata": {
    "id": "xDBf91jkx-dR"
   },
   "source": [
    "### Backpropagation"
   ]
  },
  {
   "cell_type": "markdown",
   "metadata": {
    "id": "pHm9BQ4sx-dR"
   },
   "source": [
    "## Step 4: Update the Parameters"
   ]
  },
  {
   "cell_type": "markdown",
   "metadata": {
    "id": "ZRfKanfdx-dR"
   },
   "source": [
    "$$\n",
    "\\Large\n",
    "\\begin{aligned}\n",
    "& b = b - \\eta \\frac{\\partial{MSE}}{\\partial{b}}\n",
    "\\\\\n",
    "& w = w - \\eta \\frac{\\partial{MSE}}{\\partial{w}}\n",
    "\\end{aligned}\n",
    "$$"
   ]
  },
  {
   "cell_type": "code",
   "execution_count": null,
   "metadata": {
    "id": "xS4J-_5lx-dR"
   },
   "outputs": [],
   "source": [
    "# Sets learning rate - this is \"eta\" ~ the \"n\" like Greek letter\n",
    "lr = 0.1\n",
    "print(b, w)\n",
    "\n",
    "# Step 4 - Updates parameters using gradients and the \n",
    "# learning rate\n",
    "b = b - lr * b_grad\n",
    "w = w - lr * w_grad\n",
    "\n",
    "print(b, w)"
   ]
  },
  {
   "cell_type": "code",
   "execution_count": null,
   "metadata": {
    "id": "xQ6gwXPZx-dS"
   },
   "outputs": [],
   "source": [
    "figure9(x_train, y_train, b, w)"
   ]
  },
  {
   "cell_type": "markdown",
   "metadata": {
    "id": "a9cBF8SNx-dS"
   },
   "source": [
    "### Learning Rate"
   ]
  },
  {
   "cell_type": "code",
   "execution_count": null,
   "metadata": {
    "id": "n4rXobg9x-dS"
   },
   "outputs": [],
   "source": [
    "manual_grad_b = -2.90\n",
    "manual_grad_w = -1.79\n",
    "\n",
    "np.random.seed(42)\n",
    "b_initial = np.random.randn(1)\n",
    "w_initial = np.random.randn(1)"
   ]
  },
  {
   "cell_type": "markdown",
   "metadata": {
    "id": "oaALqNsRx-dS"
   },
   "source": [
    "#### Small Learning Rate"
   ]
  },
  {
   "cell_type": "code",
   "execution_count": null,
   "metadata": {
    "id": "qz3ayj7Ox-dS"
   },
   "outputs": [],
   "source": [
    "# Learning rate - greek letter \"eta\" that looks like an \"n\"\n",
    "lr = .2\n",
    "\n",
    "figure10(b_initial, w_initial, bs, ws, all_losses, manual_grad_b, manual_grad_w, lr)"
   ]
  },
  {
   "cell_type": "markdown",
   "metadata": {
    "id": "EAbSfd8Tx-dT"
   },
   "source": [
    "#### Big Learning Rate"
   ]
  },
  {
   "cell_type": "code",
   "execution_count": null,
   "metadata": {
    "id": "o0RYN4Ibx-dT"
   },
   "outputs": [],
   "source": [
    "# Learning rate - greek letter \"eta\" that looks like an \"n\"\n",
    "lr = .8\n",
    "\n",
    "figure10(b_initial, w_initial, bs, ws, all_losses, manual_grad_b, manual_grad_w, lr)"
   ]
  },
  {
   "cell_type": "markdown",
   "metadata": {
    "id": "vSv4k3xBx-dT"
   },
   "source": [
    "#### Very Big Learning Rate"
   ]
  },
  {
   "cell_type": "code",
   "execution_count": null,
   "metadata": {
    "id": "NxTBjIA-x-dU"
   },
   "outputs": [],
   "source": [
    "# Learning rate - greek letter \"eta\" that looks like an \"n\"\n",
    "lr = 1.1\n",
    "\n",
    "figure10(b_initial, w_initial, bs, ws, all_losses, manual_grad_b, manual_grad_w, lr)"
   ]
  },
  {
   "cell_type": "markdown",
   "metadata": {
    "id": "p6Muhe17x-dU"
   },
   "source": [
    "#### \"Bad\" Feature"
   ]
  },
  {
   "cell_type": "code",
   "execution_count": null,
   "metadata": {
    "id": "DmrWJx8Yx-dU"
   },
   "outputs": [],
   "source": [
    "true_b = 1\n",
    "true_w = 2\n",
    "N = 100\n",
    "\n",
    "# Data Generation\n",
    "np.random.seed(42)\n",
    "\n",
    "# We divide w by 10\n",
    "bad_w = true_w / 10\n",
    "# And multiply x by 10\n",
    "bad_x = np.random.rand(N, 1) * 10\n",
    "\n",
    "# So, the net effect on y is zero - it is still\n",
    "# the same as before\n",
    "y = true_b + bad_w * bad_x + (.1 * np.random.randn(N, 1))"
   ]
  },
  {
   "cell_type": "code",
   "execution_count": null,
   "metadata": {
    "id": "jdXNYo2Jx-dU"
   },
   "outputs": [],
   "source": [
    "# Generates train and validation sets\n",
    "# It uses the same train_idx and val_idx as before,\n",
    "# but it applies to bad_x\n",
    "bad_x_train, y_train = bad_x[train_idx], y[train_idx]\n",
    "bad_x_val, y_val = bad_x[val_idx], y[val_idx]"
   ]
  },
  {
   "cell_type": "code",
   "execution_count": null,
   "metadata": {
    "id": "PHv1bBYYx-dU"
   },
   "outputs": [],
   "source": [
    "fig, ax = plt.subplots(1, 2, figsize=(12, 6))\n",
    "ax[0].scatter(x_train, y_train)\n",
    "ax[0].set_xlabel('x')\n",
    "ax[0].set_ylabel('y')\n",
    "ax[0].set_ylim([0, 3.1])\n",
    "ax[0].set_title('Train - Original')\n",
    "ax[1].scatter(bad_x_train, y_train, c='k')\n",
    "ax[1].set_xlabel('x')\n",
    "ax[1].set_ylabel('y')\n",
    "ax[1].set_ylim([0, 3.1])\n",
    "ax[1].set_title('Train - \"Bad\"')\n",
    "fig.tight_layout()"
   ]
  },
  {
   "cell_type": "code",
   "execution_count": null,
   "metadata": {
    "id": "gwpzPYS0x-dV"
   },
   "outputs": [],
   "source": [
    "# The ranges CHANGED because we are centering at the new minimum, using \"bad\" data\n",
    "bad_b_range = np.linspace(-2, 4, 101)\n",
    "bad_w_range = np.linspace(-2.8, 3.2, 101)\n",
    "bad_bs, bad_ws = np.meshgrid(bad_b_range, bad_w_range)"
   ]
  },
  {
   "cell_type": "code",
   "execution_count": null,
   "metadata": {
    "id": "0IJPZ5Drx-dV"
   },
   "outputs": [],
   "source": [
    "figure14(x_train, y_train, b_initial, w_initial, bad_bs, bad_ws, bad_x_train)"
   ]
  },
  {
   "cell_type": "code",
   "execution_count": null,
   "metadata": {
    "id": "MSTVo8OEx-dV",
    "scrolled": false
   },
   "outputs": [],
   "source": [
    "figure15(x_train, y_train, b_initial, w_initial, bad_bs, bad_ws, bad_x_train)"
   ]
  },
  {
   "cell_type": "markdown",
   "metadata": {
    "id": "veXEYrPPx-dV"
   },
   "source": [
    "#### Scaling / Standardizing / Normalizing"
   ]
  },
  {
   "cell_type": "markdown",
   "metadata": {
    "id": "oNtT7efDx-dV"
   },
   "source": [
    "$$\n",
    "\\Large\n",
    "\\overline{X} = \\frac{1}{N}\\sum_{i=1}^N{x_i}\n",
    "\\\\\n",
    "\\Large\n",
    "\\sigma(X) = \\sqrt{\\frac{1}{N}\\sum_{i=1}^N{(x_i - \\overline{X})^2}}\n",
    "\\\\\n",
    "\\Large\n",
    "scaled x_i=\\frac{x_i-\\overline{X}}{\\sigma(X)}\n",
    "$$"
   ]
  },
  {
   "cell_type": "code",
   "execution_count": null,
   "metadata": {
    "id": "GO6XLvH2x-dV"
   },
   "outputs": [],
   "source": [
    "scaler = StandardScaler(with_mean=True, with_std=True)\n",
    "# We use the TRAIN set ONLY to fit the scaler\n",
    "scaler.fit(x_train)\n",
    "\n",
    "# Now we can use the already fit scaler to TRANSFORM\n",
    "# both TRAIN and VALIDATION sets\n",
    "scaled_x_train = scaler.transform(x_train)\n",
    "scaled_x_val = scaler.transform(x_val)"
   ]
  },
  {
   "cell_type": "code",
   "execution_count": null,
   "metadata": {
    "id": "ThEk21SLx-dW"
   },
   "outputs": [],
   "source": [
    "fig, ax = plt.subplots(1, 3, figsize=(15, 6))\n",
    "ax[0].scatter(x_train, y_train, c='b')\n",
    "ax[0].set_xlabel('x')\n",
    "ax[0].set_ylabel('y')\n",
    "ax[0].set_ylim([0, 3.1])\n",
    "ax[0].set_title('Train - Original')\n",
    "ax[1].scatter(bad_x_train, y_train, c='k')\n",
    "ax[1].set_xlabel('x')\n",
    "ax[1].set_ylabel('y')\n",
    "ax[1].set_ylim([0, 3.1])\n",
    "ax[1].set_title('Train - \"Bad\"')\n",
    "ax[1].label_outer()\n",
    "ax[2].scatter(scaled_x_train, y_train, c='g')\n",
    "ax[2].set_xlabel('x')\n",
    "ax[2].set_ylabel('y')\n",
    "ax[2].set_ylim([0, 3.1])\n",
    "ax[2].set_title('Train - Scaled')\n",
    "ax[2].label_outer()\n",
    "\n",
    "fig.tight_layout()"
   ]
  },
  {
   "cell_type": "code",
   "execution_count": null,
   "metadata": {
    "id": "JTrqWCb4x-dW"
   },
   "outputs": [],
   "source": [
    "# The ranges CHANGED AGAIN because we are centering at the new minimum, using \"scaled\" data\n",
    "scaled_b_range = np.linspace(-1, 5, 101)\n",
    "scaled_w_range = np.linspace(-2.4, 3.6, 101)\n",
    "scaled_bs, scaled_ws = np.meshgrid(scaled_b_range, scaled_w_range)"
   ]
  },
  {
   "cell_type": "code",
   "execution_count": null,
   "metadata": {
    "id": "BR0GlbgAx-dW"
   },
   "outputs": [],
   "source": [
    "figure17(x_train, y_train, scaled_bs, scaled_ws, bad_x_train, scaled_x_train)"
   ]
  },
  {
   "cell_type": "markdown",
   "metadata": {
    "id": "rXqKKgYKx-dW"
   },
   "source": [
    "## Step 5: Rinse and Repeat!"
   ]
  },
  {
   "cell_type": "code",
   "execution_count": null,
   "metadata": {
    "id": "K7ae_6d4x-dW"
   },
   "outputs": [],
   "source": [
    "figure18(x_train, y_train)"
   ]
  },
  {
   "cell_type": "markdown",
   "metadata": {
    "id": "CM9Rqn06x-dX"
   },
   "source": [
    "### The Path of Gradient Descent"
   ]
  },
  {
   "cell_type": "markdown",
   "metadata": {
    "id": "Sy2uuGCnx-dX"
   },
   "source": [
    "Even though the plots are important to illustrate the paths, the corresponding code is beyond the scope of this chapter."
   ]
  },
  {
   "cell_type": "markdown",
   "metadata": {
    "id": "nQRLu2oYx-dX"
   },
   "source": [
    "![](images/paths.png)"
   ]
  },
  {
   "cell_type": "code",
   "execution_count": null,
   "metadata": {
    "id": "jiszBFQix-dX"
   },
   "outputs": [],
   "source": []
  }
 ],
 "metadata": {
  "colab": {
   "collapsed_sections": [
    "oaALqNsRx-dS",
    "p6Muhe17x-dU"
   ],
   "name": "Chapter02.ipynb",
   "provenance": []
  },
  "kernelspec": {
   "display_name": "Python 3 (ipykernel)",
   "language": "python",
   "name": "python3"
  },
  "language_info": {
   "codemirror_mode": {
    "name": "ipython",
    "version": 3
   },
   "file_extension": ".py",
   "mimetype": "text/x-python",
   "name": "python",
   "nbconvert_exporter": "python",
   "pygments_lexer": "ipython3",
   "version": "3.8.10"
  }
 },
 "nbformat": 4,
 "nbformat_minor": 1
}
