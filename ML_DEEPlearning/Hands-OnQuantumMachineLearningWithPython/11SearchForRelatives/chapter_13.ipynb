{
 "cells": [
  {
   "cell_type": "markdown",
   "metadata": {
    "id": "SHJiyyFlm1Fd"
   },
   "source": [
    "# Chapter 13\n"
   ]
  },
  {
   "cell_type": "code",
   "execution_count": null,
   "metadata": {
    "id": "pP5oXz50mxvA"
   },
   "outputs": [],
   "source": [
    "# Listing Convenience function to evaluate the effect of a relationship\n",
    "def evaluate_relation(relation, value):\n",
    "    # separate the population\n",
    "    population = train[train[relation].eq(value)] if value < 2 else train[train[relation].ge(value)]\n",
    "    p = len(population)/len(train)\n",
    "\n",
    "    # chance to survive\n",
    "    surv = population[population.Survived.eq(1)]\n",
    "    p_surv = len(surv)/len(population)\n",
    "    return (p, p_surv)"
   ]
  },
  {
   "cell_type": "code",
   "execution_count": null,
   "metadata": {
    "id": "T1-rW7hVm6yq"
   },
   "outputs": [],
   "source": [
    "# Additional imports from previous sections\n",
    "import pandas as pd\n",
    "train = pd.read_csv('train.csv')"
   ]
  },
  {
   "cell_type": "code",
   "execution_count": null,
   "metadata": {
    "id": "G47BLKiHm8jV"
   },
   "outputs": [],
   "source": [
    "# Listing The probabilities of the different populations\n",
    "print(\"No Sibling: {:.2f} of the passengers, survival: {:.2f}\".format(*evaluate_relation(\"SibSp\", 0)))\n",
    "print(\"One Sibling: {:.2f} of the passengers, survival: {:.2f}\".format(*evaluate_relation(\"SibSp\", 1)))\n",
    "print(\"More Siblings: {:.2f} of the passengers, survival: {:.2f}\".format(*evaluate_relation(\"SibSp\", 2)))\n",
    "print()\n",
    "print(\"No Parent/Child: {:.2f} of the passengers, survival: {:.2f}\".format(*evaluate_relation(\"Parch\", 0)))\n",
    "print(\"One Parent/Child: {:.2f} of the passengers, survival: {:.2f}\".format(*evaluate_relation(\"Parch\", 1)))\n",
    "print(\"More Parents/Children: {:.2f} of the passengers, survival: {:.2f}\".format(*evaluate_relation(\"Parch\", 2)))"
   ]
  },
  {
   "cell_type": "markdown",
   "metadata": {
    "id": "tLmRf9GVnAa3"
   },
   "source": [
    "## Section Turning the Problem into a Circuit"
   ]
  },
  {
   "cell_type": "code",
   "execution_count": null,
   "metadata": {
    "id": "dVsEynuAm-YC"
   },
   "outputs": [],
   "source": [
    "# Listing Passenger no 250\n",
    "train[train[\"PassengerId\"].eq(250)]"
   ]
  },
  {
   "cell_type": "code",
   "execution_count": null,
   "metadata": {
    "id": "s3JfUeeKnDpA"
   },
   "outputs": [],
   "source": [
    "# Listing Get potential relatives\n",
    "current_passenger = train[train[\"PassengerId\"].eq(250)]\n",
    "last_name = current_passenger.Name.to_string(index=False).split(',')[0]\n",
    "train[train[\"Name\"].str.contains(last_name)]"
   ]
  },
  {
   "cell_type": "code",
   "execution_count": null,
   "metadata": {
    "id": "0Hj2618mnFv6"
   },
   "outputs": [],
   "source": [
    "# Listing A look at the data\n",
    "train.info()"
   ]
  },
  {
   "cell_type": "code",
   "execution_count": null,
   "metadata": {
    "id": "xGFoRNZ-nHsD"
   },
   "outputs": [],
   "source": [
    "# Listing The possible relatives of Mr. Rev. Ernest Courtenay Carter\n",
    "ticket = current_passenger[\"Ticket\"].to_string(index=False)\n",
    "passengerId = current_passenger[\"PassengerId\"]\n",
    "\n",
    "group = train[\n",
    "    train[\"PassengerId\"].ne(passengerId) & (\n",
    "    train[\"Name\"].str.contains(last_name) |\n",
    "    train[\"Ticket\"].eq(ticket)\n",
    ")]\n",
    "group"
   ]
  },
  {
   "cell_type": "code",
   "execution_count": null,
   "metadata": {
    "id": "uAMwkdZknJd3"
   },
   "outputs": [],
   "source": [
    "# Listing Encoding the passengers\n",
    "# number of qubits to represent considered passengers\n",
    "QUBITS = 3\n",
    "\n",
    "def encode(pos):\n",
    "    bpos = \"{:0{}b}\".format(pos, QUBITS)\n",
    "    return bpos\n",
    "\n",
    "\n",
    "number_of_rows = len(group.index)\n",
    "for pos in range(0, 2**QUBITS):\n",
    "    if pos >= number_of_rows:\n",
    "        break\n",
    "\n",
    "    passenger = group.iloc[[pos]]\n",
    "    print(pos, encode(pos), passenger.Name.to_string(index=False)) "
   ]
  },
  {
   "cell_type": "code",
   "execution_count": null,
   "metadata": {
    "id": "GRbWeMqcnLWM"
   },
   "outputs": [],
   "source": [
    "# Listing Equal superposition of the Hadamard gates\n",
    "from qiskit import QuantumCircuit, Aer, execute\n",
    "from qiskit import ClassicalRegister, QuantumRegister\n",
    "from qiskit.visualization import plot_histogram\n",
    "import matplotlib.pyplot as plt\n",
    "from math import asin, sqrt\n",
    "\n",
    "RULES=2\n",
    "\n",
    "q_pass = QuantumRegister(QUBITS, name='passengers')\n",
    "q_rules = QuantumRegister(RULES, name='rules')\n",
    "\n",
    "qc = QuantumCircuit(q_pass, q_rules)\n",
    "\n",
    "# put passenger qubits into superposition\n",
    "qc.h(q_pass)\n",
    "qc.barrier()\n",
    "\n",
    "qc.draw()"
   ]
  },
  {
   "cell_type": "code",
   "execution_count": null,
   "metadata": {
    "id": "8xIgNTIrnNdb"
   },
   "outputs": [],
   "source": [
    "# Listing The oracle‐function\n",
    "def oracle(passenger, group, q_p, q_r, draw=False):\n",
    "    # Create a sub-circuit\n",
    "    o_qc = QuantumCircuit(q_p, q_r)\n",
    "\n",
    "    # loop through all passengers\n",
    "    for pos in range(0, 2**QUBITS):\n",
    "        if pos >= len(group.index):\n",
    "            break\n",
    "\n",
    "        bpos = encode(pos)\n",
    "        \n",
    "        # select the state representing the passenger\n",
    "        select_state(bpos, o_qc, q_p)\n",
    "\n",
    "        # apply the rules\n",
    "        apply_rules(passenger, group.iloc[[pos]], o_qc, q_p, q_r)\n",
    "\n",
    "        # un-select the state representing the passenger\n",
    "        select_state(bpos, o_qc, q_p)\n",
    "\n",
    "        if draw:\n",
    "            o_qc.barrier()\n",
    "\n",
    "    if draw:\n",
    "        return o_qc.draw()\n",
    "    else:\n",
    "        # We return the oracle as a gate\n",
    "        Oracle = o_qc.to_gate()\n",
    "        Oracle.name = \"oracle\"\n",
    "        return Oracle"
   ]
  },
  {
   "cell_type": "code",
   "execution_count": null,
   "metadata": {
    "id": "xlpcLrXvnPkr"
   },
   "outputs": [],
   "source": [
    "# Listing The select state function\n",
    "def select_state(bpos, qc, qubits):\n",
    "    for i in range(0, QUBITS):\n",
    "        if bpos[::-1][i] == \"0\":\n",
    "            qc.x(qubits[i])"
   ]
  },
  {
   "cell_type": "code",
   "execution_count": null,
   "metadata": {
    "id": "l3A-vkq2nRcl"
   },
   "outputs": [],
   "source": [
    "# Listing Apply the rules\n",
    "from qiskit.circuit.library import ZGate\n",
    "\n",
    "def apply_rules(passenger, current, qc, q_p, q_r):\n",
    "    # apply first rule\n",
    "    if passenger.Ticket.to_string(index=False) == current.Ticket.to_string(index=False):\n",
    "        qc.mcx(q_p, q_r[0])\n",
    "\n",
    "    # apply second rule\n",
    "    if passenger.Name.to_string(index=False).split(',')[0] == current.Name.to_string(index=False).split(',')[0]:\n",
    "        qc.mcx(q_p, q_r[1])\n",
    "\n",
    "    # all conditions must be met\n",
    "    qc.append(ZGate().control(QUBITS+RULES-1), [*q_p, *q_r])\n",
    "\n",
    "    # unapply second rule\n",
    "    if passenger.Name.to_string(index=False).split(',')[0] == current.Name.to_string(index=False).split(',')[0]:\n",
    "        qc.mcx(q_p, q_r[1])\n",
    "\n",
    "    # unapply first rule\n",
    "    if passenger.Ticket.to_string(index=False) == current.Ticket.to_string(index=False):\n",
    "        qc.mcx(q_p, q_r[0])\n"
   ]
  },
  {
   "cell_type": "code",
   "execution_count": null,
   "metadata": {
    "id": "wOe6waDznTFk"
   },
   "outputs": [],
   "source": [
    "# Listing Showing the oracle circuit\n",
    "oracle(current_passenger, group, q_pass, q_rules, True)"
   ]
  },
  {
   "cell_type": "code",
   "execution_count": null,
   "metadata": {
    "id": "JA_bnYSAnU6k"
   },
   "outputs": [],
   "source": [
    "# Listing The amplifier‐function\n",
    "def amplifier(passenger, q_p, draw=False):\n",
    "    # Create a sub-circuit\n",
    "    a_qc = QuantumCircuit(q_p)\n",
    "    \n",
    "    a_qc.h(q_p)\n",
    "    a_qc.x(q_p)\n",
    "    a_qc.append(ZGate().control(QUBITS-1), q_p)\n",
    "    a_qc.x(q_p)\n",
    "    a_qc.h(q_p)\n",
    "\n",
    "    if draw:\n",
    "        return a_qc.draw()\n",
    "    else:\n",
    "        # We return the oracle as a gate\n",
    "        Amplifier = a_qc.to_gate()\n",
    "        Amplifier.name = \"amplifier\"\n",
    "        return Amplifier"
   ]
  },
  {
   "cell_type": "code",
   "execution_count": null,
   "metadata": {
    "id": "5UUOqrnunXAv"
   },
   "outputs": [],
   "source": [
    "# Listing Showing the amplifier circuit\n",
    "amplifier(current_passenger, q_pass, draw=True)"
   ]
  },
  {
   "cell_type": "code",
   "execution_count": null,
   "metadata": {
    "id": "SDaLGx8GnYvw"
   },
   "outputs": [],
   "source": [
    "# Listing The search‐algorithm\n",
    "qc = QuantumCircuit(q_pass, q_rules)\n",
    "\n",
    "# put passenger qubits into superposition\n",
    "qc.h(q_pass)\n",
    "\n",
    "# Apply the oracle\n",
    "qc.append(oracle(current_passenger, group, q_pass, q_rules), [*q_pass, *q_rules])\n",
    "\n",
    "# Apply the amplifier\n",
    "qc.append(amplifier(current_passenger, q_pass), q_pass)\n",
    "\n",
    "qc.draw()"
   ]
  },
  {
   "cell_type": "code",
   "execution_count": null,
   "metadata": {
    "id": "iTBkJVTZnasJ"
   },
   "outputs": [],
   "source": [
    "# Listing Result of the search algorithm\n",
    "results = execute(qc,Aer.get_backend('statevector_simulator')).result()\n",
    "plot_histogram(results.get_counts())"
   ]
  },
  {
   "cell_type": "code",
   "execution_count": null,
   "metadata": {
    "id": "YBELnaBCncmZ"
   },
   "outputs": [],
   "source": [
    "# Listing Apply the amplifier multiple times\n",
    "def rounds(number_of_rounds, qc, current_passenger, group, q_pass, q_rules):\n",
    "    print (\"{} iterations\".format(number_of_rounds))\n",
    "    for i in range(0,round(number_of_rounds)):\n",
    "        qc.append(oracle(current_passenger, group, q_pass, q_rules), [*q_pass, *q_rules])\n",
    "        qc.append(amplifier(current_passenger, q_pass), q_pass)"
   ]
  },
  {
   "cell_type": "code",
   "execution_count": null,
   "metadata": {
    "id": "zc8LhSMcned4"
   },
   "outputs": [],
   "source": [
    "# Listing Search algorithm with repeated amplification\n",
    "from math import pi\n",
    "qc = QuantumCircuit(q_pass, q_rules)\n",
    "\n",
    "# put passenger qubits into superposition\n",
    "qc.h(q_pass)\n",
    "rounds(pi*sqrt(2**QUBITS)/4, qc, current_passenger, group, q_pass, q_rules)\n",
    "qc.draw()"
   ]
  },
  {
   "cell_type": "code",
   "execution_count": null,
   "metadata": {
    "id": "rQI325JHngSQ"
   },
   "outputs": [],
   "source": [
    "# Listing Results of the repeated amplification\n",
    "results = execute(qc,Aer.get_backend('statevector_simulator')).result()\n",
    "plot_histogram(results.get_counts())"
   ]
  },
  {
   "cell_type": "code",
   "execution_count": null,
   "metadata": {
    "id": "L6kfK-_Dnkf7"
   },
   "outputs": [],
   "source": [
    "# Listing Running a circuit with 10 passenger‐qubits\n",
    "# CAUTION: THIS CIRCUIT TAKES SOME TIME\n",
    "QUBITS=10\n",
    "\n",
    "q_pass = QuantumRegister(QUBITS, name='passengers')\n",
    "q_rules = QuantumRegister(RULES, name='rules')\n",
    "qc = QuantumCircuit(q_pass, q_rules)\n",
    "\n",
    "# put passenger qubits into superposition\n",
    "qc.h(q_pass)\n",
    "rounds(pi*sqrt(2**QUBITS)/4, qc, current_passenger, group, q_pass, q_rules)\n",
    "results = execute(qc,Aer.get_backend('statevector_simulator')).result()\n",
    "\"Probability of finding '100': {}\".format(results.get_counts()['000000000100'])"
   ]
  },
  {
   "cell_type": "markdown",
   "metadata": {
    "id": "A7U2lB_snlDz"
   },
   "source": [
    "## Section Multiple Results"
   ]
  },
  {
   "cell_type": "code",
   "execution_count": null,
   "metadata": {
    "id": "Hd8viPkknnRH"
   },
   "outputs": [],
   "source": [
    "# Listing Prepare the search\n",
    "def prepare_group(passengerId):\n",
    "    current_passenger = train[train[\"PassengerId\"].eq(passengerId)]\n",
    "    last_name = current_passenger.Name.to_string(index=False).split(',')[0]\n",
    "    train[train[\"Name\"].str.contains(last_name)]\n",
    "\n",
    "    ticket = current_passenger[\"Ticket\"].to_string(index=False)\n",
    "    passengerId = current_passenger[\"PassengerId\"]\n",
    "\n",
    "    group = train[\n",
    "        train[\"PassengerId\"].ne(passengerId) & (\n",
    "        train[\"Name\"].str.contains(last_name) |\n",
    "        train[\"Ticket\"].eq(ticket)\n",
    "    )]\n",
    "    return (current_passenger, group)"
   ]
  },
  {
   "cell_type": "code",
   "execution_count": null,
   "metadata": {
    "id": "OC_XwwqDnpKP"
   },
   "outputs": [],
   "source": [
    "# Listing Run the search for a passenger's relatives\n",
    "def find_relatives(current_passenger, group):\n",
    "    q_pass = QuantumRegister(QUBITS, name='passengers')\n",
    "    q_rules = QuantumRegister(RULES, name='rules')\n",
    "    qc = QuantumCircuit(q_pass, q_rules)\n",
    "\n",
    "    # put passenger qubits into superposition\n",
    "    qc.h(q_pass)\n",
    "    rounds(pi*sqrt(2**QUBITS)/4, qc, current_passenger, group, q_pass, q_rules)\n",
    "    results = execute(qc,Aer.get_backend('statevector_simulator')).result()\n",
    "    return plot_histogram(results.get_counts())"
   ]
  },
  {
   "cell_type": "code",
   "execution_count": null,
   "metadata": {
    "id": "-_fANLxmnq2s"
   },
   "outputs": [],
   "source": [
    "# Listing Search for the relatives of Mr. William Ernest Carter\n",
    "QUBITS=3\n",
    "(current_passenger, group) = prepare_group(391)\n",
    "find_relatives(current_passenger, group)"
   ]
  },
  {
   "cell_type": "code",
   "execution_count": null,
   "metadata": {
    "id": "3bMRp3SAnsqZ"
   },
   "outputs": [],
   "source": [
    "# Listing Run the search for mutliple relatives\n",
    "def find_relatives(current_passenger, group, cnt_searched):\n",
    "    q_pass = QuantumRegister(QUBITS, name='passengers')\n",
    "    q_rules = QuantumRegister(RULES, name='rules')\n",
    "    qc = QuantumCircuit(q_pass, q_rules)\n",
    "\n",
    "    # put passenger qubits into superposition\n",
    "    qc.h(q_pass)\n",
    "    rounds(pi/4*sqrt(2**QUBITS/cnt_searched), qc, current_passenger, group, q_pass, q_rules)\n",
    "    results = execute(qc,Aer.get_backend('statevector_simulator')).result()\n",
    "    return plot_histogram(results.get_counts())"
   ]
  },
  {
   "cell_type": "code",
   "execution_count": null,
   "metadata": {
    "id": "enTolN5snuhD"
   },
   "outputs": [],
   "source": [
    "# Listing Result of the search with adjusted number of iterations\n",
    "find_relatives(current_passenger, group, current_passenger[\"SibSp\"]+current_passenger[\"Parch\"])"
   ]
  }
 ],
 "metadata": {
  "colab": {
   "authorship_tag": "ABX9TyNqldXm4szir6luIHIPAkHk",
   "collapsed_sections": [
    "tLmRf9GVnAa3",
    "A7U2lB_snlDz"
   ],
   "name": "chapter_13.ipynb",
   "provenance": []
  },
  "kernelspec": {
   "display_name": "Python 3 (ipykernel)",
   "language": "python",
   "name": "python3"
  },
  "language_info": {
   "codemirror_mode": {
    "name": "ipython",
    "version": 3
   },
   "file_extension": ".py",
   "mimetype": "text/x-python",
   "name": "python",
   "nbconvert_exporter": "python",
   "pygments_lexer": "ipython3",
   "version": "3.8.10"
  }
 },
 "nbformat": 4,
 "nbformat_minor": 1
}
