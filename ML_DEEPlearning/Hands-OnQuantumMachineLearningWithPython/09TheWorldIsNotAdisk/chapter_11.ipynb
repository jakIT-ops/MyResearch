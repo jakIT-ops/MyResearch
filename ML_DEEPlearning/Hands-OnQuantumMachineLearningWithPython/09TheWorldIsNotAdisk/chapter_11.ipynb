{
 "cells": [
  {
   "cell_type": "markdown",
   "metadata": {
    "id": "eohqzqcslFUu"
   },
   "source": [
    "# Chapter 11\n",
    "\n",
    "## Section The Qubit Phase"
   ]
  },
  {
   "cell_type": "code",
   "execution_count": null,
   "metadata": {
    "id": "IivaNIShlCdl"
   },
   "outputs": [],
   "source": [
    "# Listing Convenience function to plot a Bloch Sphere using sphericalcoordinates\n",
    "from math import pi, sin, cos\n",
    "import matplotlib.pyplot as plt\n",
    "import matplotlib\n",
    "from qutip import Bloch\n",
    "\n",
    "def plot_bloch_vector_spherical(theta, phi):\n",
    "    b = Bloch()\n",
    "    b.clear()\n",
    "    vec = [sin(theta)*cos(phi),sin(theta)*sin(phi),cos(theta)]\n",
    "    b.add_vectors(vec)\n",
    "    return b.show()\n",
    "#CAPTION Convenience function to plot a Bloch Sphere using spherical coordinates"
   ]
  },
  {
   "cell_type": "code",
   "execution_count": null,
   "metadata": {
    "id": "etitZp5RlKAV"
   },
   "outputs": [],
   "source": [
    "# Listing The qubit state |+>\n",
    "plot_bloch_vector_spherical(pi/2, 0)"
   ]
  },
  {
   "cell_type": "code",
   "execution_count": null,
   "metadata": {
    "id": "eM_uLJXdlMTb"
   },
   "outputs": [],
   "source": [
    "# Listing The qubit state |‐>\n",
    "plot_bloch_vector_spherical(-pi/2, 0)"
   ]
  },
  {
   "cell_type": "code",
   "execution_count": null,
   "metadata": {
    "id": "9WiFJuielOOI"
   },
   "outputs": [],
   "source": [
    "# Listing The constructed qubit state |‐>\n",
    "plot_bloch_vector_spherical(pi/2, pi)"
   ]
  },
  {
   "cell_type": "code",
   "execution_count": null,
   "metadata": {
    "id": "CKLqgHRYlQHq"
   },
   "outputs": [],
   "source": [
    "# Listing Qubit in state |0>\n",
    "plot_bloch_vector_spherical(0, pi/2)"
   ]
  },
  {
   "cell_type": "markdown",
   "metadata": {
    "id": "cJWAaC0clUgt"
   },
   "source": [
    "## Section Visualize The Invisible Qubit Phase"
   ]
  },
  {
   "cell_type": "code",
   "execution_count": null,
   "metadata": {
    "id": "z_IfxkQ2lSCu"
   },
   "outputs": [],
   "source": [
    "# Listing Putting qubit 0 into state |+> and qubit 1 into state |‐>\n",
    "from qiskit import QuantumCircuit, Aer, execute\n",
    "from qiskit.visualization import plot_bloch_multivector\n",
    "\n",
    "qc = QuantumCircuit(2) \n",
    "\n",
    "# put qubit 0 into state |+>\n",
    "qc.h(0)\n",
    "\n",
    "# put qubit 1 into state |->\n",
    "qc.h(1)\n",
    "qc.z(1)\n",
    "\n",
    "out = execute(qc,Aer.get_backend('statevector_simulator')).result().get_statevector()\n",
    "plot_bloch_multivector(out)"
   ]
  },
  {
   "cell_type": "code",
   "execution_count": null,
   "metadata": {
    "id": "7_mL_nXLlX7M"
   },
   "outputs": [],
   "source": [
    "# Listing Reflection on the Z-axis\n",
    "from math import pi\n",
    "qc = QuantumCircuit(2) \n",
    "qc.ry(pi/12, 0)\n",
    "qc.ry(pi/12, 1)\n",
    "qc.z(1)\n",
    "\n",
    "out = execute(qc,Aer.get_backend('statevector_simulator')).result().get_statevector()\n",
    "plot_bloch_multivector(out)"
   ]
  },
  {
   "cell_type": "code",
   "execution_count": null,
   "metadata": {
    "id": "8TeXhAgklbeA"
   },
   "outputs": [],
   "source": [
    "# Listing Apply the Z‐gate on a qubit in state |0>\n",
    "qc = QuantumCircuit(2) \n",
    "\n",
    "# qubit 0 remains in state |0>\n",
    "qc.i(0)\n",
    "\n",
    "# Apply the Z-gate on qubit 1\n",
    "qc.z(1)\n",
    "\n",
    "out = execute(qc,Aer.get_backend('statevector_simulator')).result().get_statevector()\n",
    "plot_bloch_multivector(out)"
   ]
  },
  {
   "cell_type": "code",
   "execution_count": null,
   "metadata": {
    "id": "1-y8BzboldjR"
   },
   "outputs": [],
   "source": [
    "# Listing Apply the Z‐gate on a qubit in state |1>\n",
    "qc = QuantumCircuit(2) \n",
    "\n",
    "# a qubit in state |1>\n",
    "qc.x(0)\n",
    "\n",
    "# The effect of the Z-gate on state |1>\n",
    "qc.x(1)\n",
    "qc.z(1)\n",
    "\n",
    "out = execute(qc,Aer.get_backend('statevector_simulator')).result().get_statevector()\n",
    "plot_bloch_multivector(out)"
   ]
  },
  {
   "cell_type": "code",
   "execution_count": null,
   "metadata": {
    "id": "OHJW97IPlfgR"
   },
   "outputs": [],
   "source": [
    "# Listing Apply the ZH‐gates on a qubit in state |1>\n",
    "qc = QuantumCircuit(2) \n",
    "\n",
    "# Apply H-gate on a qubit in state |1>\n",
    "qc.x(0)\n",
    "qc.h(0)\n",
    "\n",
    "# Apply ZH-gates on a qubit in state |1>\n",
    "qc.x(1)\n",
    "qc.z(1)\n",
    "qc.h(1)\n",
    "\n",
    "out = execute(qc,Aer.get_backend('statevector_simulator')).result().get_statevector()\n",
    "plot_bloch_multivector(out)"
   ]
  },
  {
   "cell_type": "code",
   "execution_count": null,
   "metadata": {
    "id": "EjItSACrlhl8"
   },
   "outputs": [],
   "source": [
    "# Listing create state (|0>‐|1>)/sqrt(2)\n",
    "from qiskit.visualization import plot_state_qsphere\n",
    "\n",
    "# Create a quantum circuit with one qubit\n",
    "qc = QuantumCircuit(1) \n",
    "\n",
    "# create state (|0>-|1>)/sqrt(2)\n",
    "qc.h(0)\n",
    "qc.z(0)\n",
    "\n",
    "out = execute(qc,Aer.get_backend('statevector_simulator')).result().get_statevector()\n",
    "plot_state_qsphere(out)"
   ]
  },
  {
   "cell_type": "code",
   "execution_count": null,
   "metadata": {
    "id": "w8QL31q8ljo3"
   },
   "outputs": [],
   "source": [
    "# Listing Apply the ZH‐gates on a qubit in state |1>\n",
    "qc = QuantumCircuit(1) \n",
    "\n",
    "# Apply ZH-gates on a qubit in state |1>\n",
    "qc.x(0)\n",
    "qc.z(0)\n",
    "qc.h(0)\n",
    "\n",
    "out = execute(qc,Aer.get_backend('statevector_simulator')).result().get_statevector()\n",
    "plot_state_qsphere(out)"
   ]
  },
  {
   "cell_type": "code",
   "execution_count": null,
   "metadata": {
    "id": "ZldZbrxalljE"
   },
   "outputs": [],
   "source": [
    "# Listing Show the phases of a two‐qubit system\n",
    "qc = QuantumCircuit(2) \n",
    "\n",
    "# put qubit 0 into state (|0>-|1>)/sqrt(2)\n",
    "qc.x(0)\n",
    "qc.h(0)\n",
    "\n",
    "# put qubit 1 into state (-|0>+|1>)/sqrt(2)\n",
    "qc.x(1)\n",
    "qc.z(1)\n",
    "qc.h(1)\n",
    "\n",
    "out = execute(qc,Aer.get_backend('statevector_simulator')).result().get_statevector()\n",
    "plot_state_qsphere(out)"
   ]
  },
  {
   "cell_type": "code",
   "execution_count": null,
   "metadata": {
    "id": "LJaMPf4plnn2"
   },
   "outputs": [],
   "source": [
    "# Listing Phases of two qubits in state (|0>‐|1>)/sqrt(2)\n",
    "qc = QuantumCircuit(2) \n",
    "# put qubit 0 into state (|0>-|1>)/sqrt(2)\n",
    "qc.x(0)\n",
    "qc.h(0)\n",
    "# put qubit 1 into state (|0>-|1>)/sqrt(2)\n",
    "qc.x(1)\n",
    "qc.h(1)\n",
    "out = execute(qc,Aer.get_backend('statevector_simulator')).result().get_statevector()\n",
    "plot_state_qsphere(out)"
   ]
  },
  {
   "cell_type": "code",
   "execution_count": null,
   "metadata": {
    "id": "UjeNx7tClpoN"
   },
   "outputs": [],
   "source": [
    "# Listing create state (|0>‐|1>)/sqrt(2) in a single‐qubit circuit\n",
    "# Create a quantum circuit with one qubit\n",
    "qc = QuantumCircuit(1) \n",
    "\n",
    "# create state (|0>-|1>)/sqrt(2)\n",
    "qc.h(0)\n",
    "qc.z(0)\n",
    "\n",
    "out = execute(qc,Aer.get_backend('statevector_simulator')).result().get_statevector()\n",
    "plot_state_qsphere(out)"
   ]
  },
  {
   "cell_type": "code",
   "execution_count": null,
   "metadata": {
    "id": "kOAsHn5Rlrx9"
   },
   "outputs": [],
   "source": [
    "# Listing create state (|0>‐|1>)/sqrt(2) in a two‐qubit circuit\n",
    "# Create a quantum circuit with one qubit\n",
    "qc = QuantumCircuit(2) \n",
    "\n",
    "# create state (|0>-|1>)/sqrt(2)\n",
    "qc.h(0)\n",
    "qc.z(0)\n",
    "\n",
    "out = execute(qc,Aer.get_backend('statevector_simulator')).result().get_statevector()\n",
    "plot_state_qsphere(out)"
   ]
  },
  {
   "cell_type": "code",
   "execution_count": null,
   "metadata": {
    "id": "8l_ixCgmltwU"
   },
   "outputs": [],
   "source": [
    "# Listing Show the phases of a two‐qubit system\n",
    "qc = QuantumCircuit(2) \n",
    "\n",
    "# Apply H-gates on both qubits\n",
    "qc.h(0)\n",
    "qc.h(1)\n",
    "\n",
    "# Shift the phase of qubit 0\n",
    "qc.z(0)\n",
    "\n",
    "out = execute(qc,Aer.get_backend('statevector_simulator')).result().get_statevector()\n",
    "plot_state_qsphere(out)"
   ]
  },
  {
   "cell_type": "code",
   "execution_count": null,
   "metadata": {
    "id": "Ny_bDpWHlvz4"
   },
   "outputs": [],
   "source": [
    "# Listing The effect of the CZ‐gate\n",
    "qc = QuantumCircuit(2) \n",
    "# Apply H-gates on both qubits\n",
    "qc.h(0)\n",
    "qc.h(1)\n",
    "# Shift the phase of qubit 0\n",
    "qc.cz(0,1)\n",
    "out = execute(qc,Aer.get_backend('statevector_simulator')).result().get_statevector()\n",
    "plot_state_qsphere(out)"
   ]
  },
  {
   "cell_type": "markdown",
   "metadata": {
    "id": "Fgp7ZstUl0SS"
   },
   "source": [
    "## Section Phase Kickback"
   ]
  },
  {
   "cell_type": "code",
   "execution_count": null,
   "metadata": {
    "id": "UBW5t8vTlx1a"
   },
   "outputs": [],
   "source": [
    "# Listing Show state |+‐>\n",
    "# Create a quantum circuit with one qubit\n",
    "qc = QuantumCircuit(2) \n",
    "\n",
    "# put qubit 0 into |+>\n",
    "qc.h(0)\n",
    "\n",
    "# put qubit 1 into |->\n",
    "qc.x(1)\n",
    "qc.h(1)\n",
    "\n",
    "out = execute(qc,Aer.get_backend('statevector_simulator')).result().get_statevector()\n",
    "plot_bloch_multivector(out)"
   ]
  },
  {
   "cell_type": "code",
   "execution_count": null,
   "metadata": {
    "id": "XPKuRI1il3oW"
   },
   "outputs": [],
   "source": [
    "# Listing Show effect of CNOT‐gate on state |+‐>\n",
    "# Create a quantum circuit with one qubit\n",
    "qc = QuantumCircuit(2) \n",
    "\n",
    "# put qubit 0 into |+>\n",
    "qc.h(0)\n",
    "\n",
    "# put qubit 1 into |->\n",
    "qc.x(1)\n",
    "qc.h(1)\n",
    "\n",
    "# apply CNOT gate with qubit 0 as control qubit\n",
    "qc.cx(0,1)\n",
    "\n",
    "out = execute(qc,Aer.get_backend('statevector_simulator')).result().get_statevector()\n",
    "plot_bloch_multivector(out)"
   ]
  },
  {
   "cell_type": "code",
   "execution_count": null,
   "metadata": {
    "id": "72-ofrcXl5oT"
   },
   "outputs": [],
   "source": [
    "# Listing Show effect of RZ-gate on state |+->\n",
    "# Create a quantum circuit with one qubit\n",
    "qc = QuantumCircuit(2) \n",
    "\n",
    "# put qubit 0 into |+>\n",
    "qc.h(0)\n",
    "\n",
    "# apply phase to qubit 1\n",
    "qc.h(1)\n",
    "qc.rz(pi/2,1)\n",
    "\n",
    "out = execute(qc,Aer.get_backend('statevector_simulator')).result().get_statevector()\n",
    "plot_bloch_multivector(out)"
   ]
  },
  {
   "cell_type": "code",
   "execution_count": null,
   "metadata": {
    "id": "ZqyYlL4zl7Xb"
   },
   "outputs": [],
   "source": [
    "# Listing The phase kickback\n",
    "# Create a quantum circuit with one qubit\n",
    "qc = QuantumCircuit(2) \n",
    "\n",
    "# put qubit 0 into |+>\n",
    "qc.h(0)\n",
    "\n",
    "# apply phase to qubit 1\n",
    "qc.h(1)\n",
    "qc.rz(pi/2,1)\n",
    "\n",
    "# apply CNOT gate with qubit 0 as control qubit\n",
    "qc.cx(0,1)\n",
    "\n",
    "out = execute(qc,Aer.get_backend('statevector_simulator')).result().get_statevector()\n",
    "plot_state_qsphere(out)"
   ]
  },
  {
   "cell_type": "markdown",
   "metadata": {
    "id": "UODA50nJl9hu"
   },
   "source": [
    "## Section Quantum Amplitudes andProbabilities"
   ]
  },
  {
   "cell_type": "code",
   "execution_count": null,
   "metadata": {
    "id": "qxxQ3rcRmAYC"
   },
   "outputs": [],
   "source": [
    "# Listing Negating the amplitude\n",
    "from qiskit import QuantumCircuit, Aer, execute\n",
    "    \n",
    "qc = QuantumCircuit(1)\n",
    "qc.h(0)\n",
    "qc.z(0)\n",
    "\n",
    "# execute the qc\n",
    "results = execute(qc,Aer.get_backend('statevector_simulator')).result().get_statevector()"
   ]
  },
  {
   "cell_type": "code",
   "execution_count": null,
   "metadata": {
    "id": "AIhblc-amCUX"
   },
   "outputs": [],
   "source": [
    "# Listing Working with amplitudes\n",
    "from qiskit.visualization import plot_histogram\n",
    "\n",
    "qc = QuantumCircuit(2)\n",
    "qc.h(0)\n",
    "qc.h(1)\n",
    "qc.cz(0,1)\n",
    "qc.h(0)\n",
    "qc.h(1)\n",
    "qc.z(0)\n",
    "qc.z(1)\n",
    "qc.cz(0,1)\n",
    "qc.h(0)\n",
    "qc.h(1)\n",
    "\n",
    "# execute the qc\n",
    "results = execute(qc,Aer.get_backend('statevector_simulator')).result().get_counts()\n",
    "plot_histogram(results)"
   ]
  }
 ],
 "metadata": {
  "colab": {
   "authorship_tag": "ABX9TyPsYHJ2KP42j1SgvqYQFAU6",
   "collapsed_sections": [
    "Fgp7ZstUl0SS"
   ],
   "name": "chapter_11.ipynb",
   "provenance": []
  },
  "kernelspec": {
   "display_name": "Python 3 (ipykernel)",
   "language": "python",
   "name": "python3"
  },
  "language_info": {
   "codemirror_mode": {
    "name": "ipython",
    "version": 3
   },
   "file_extension": ".py",
   "mimetype": "text/x-python",
   "name": "python",
   "nbconvert_exporter": "python",
   "pygments_lexer": "ipython3",
   "version": "3.8.10"
  }
 },
 "nbformat": 4,
 "nbformat_minor": 1
}
