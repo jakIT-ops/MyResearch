{
 "cells": [
  {
   "cell_type": "markdown",
   "metadata": {
    "id": "yj9XkO6HiSuv"
   },
   "source": [
    "# Chapter 9\n",
    "\n",
    "## Section Bayesian Networks"
   ]
  },
  {
   "cell_type": "code",
   "execution_count": null,
   "metadata": {
    "id": "Lh8pn8upiPPQ"
   },
   "outputs": [],
   "source": [
    "import pandas as pd\n",
    "train = pd.read_csv('train.csv')"
   ]
  },
  {
   "cell_type": "code",
   "execution_count": null,
   "metadata": {
    "id": "nQ6sLjUwiXlm"
   },
   "outputs": [],
   "source": [
    "# Listing The chances of survival\n",
    "def chance_to_survive(age):\n",
    "    pop = train[train.Age.eq(age)]\n",
    "    surv = pop[pop.Survived.eq(1)]\n",
    "    prob = len(surv)/(len(pop)+1)\n",
    "    return \"A {}-year old passenger had a chance to survive of {}\".format(age, prob)\n",
    "\n",
    "print(chance_to_survive(47))\n",
    "print(chance_to_survive(48))"
   ]
  },
  {
   "cell_type": "code",
   "execution_count": null,
   "metadata": {
    "id": "xofH_Fd7iZQI"
   },
   "outputs": [],
   "source": [
    "# Listing Survival of children\n",
    "# max age of a child\n",
    "max_child_age = 8\n",
    "\n",
    "# probability to survive of children\n",
    "pop_child = train[train.Age.le(max_child_age)]\n",
    "surv_child = pop_child[pop_child.Survived.eq(1)]\n",
    "p_child = len(surv_child)/len(pop_child)\n",
    "\n",
    "# probability to survive of adults\n",
    "pop_adult = train[train.Age.gt(max_child_age)]\n",
    "surv_adult = pop_adult[pop_adult.Survived.eq(1)]\n",
    "p_adult = len(surv_adult)/len(pop_adult)\n",
    "\n",
    "print(\"{} children had a chance to survive of {}\".format(len(pop_child), round(p_child, 2)))\n",
    "print(\"{} adults had a chance to survive of {}\".format(len(pop_adult), round(p_adult, 2)))"
   ]
  },
  {
   "cell_type": "markdown",
   "metadata": {
    "id": "i2j46_KZidEK"
   },
   "source": [
    "## Section Composing Quantum ComputingControls"
   ]
  },
  {
   "cell_type": "code",
   "execution_count": null,
   "metadata": {
    "id": "x6rQX9atibBj"
   },
   "outputs": [],
   "source": [
    "# Listing Specify the marginal probability\n",
    "from qiskit import QuantumCircuit, Aer, execute\n",
    "from qiskit.visualization import plot_histogram\n",
    "import matplotlib.pyplot as plt\n",
    "from math import asin, sqrt\n",
    "\n",
    "def prob_to_angle(prob):\n",
    "    \"\"\"\n",
    "    Converts a given P(psi) value into an equivalent theta value.\n",
    "    \"\"\"\n",
    "    return 2*asin(sqrt(prob))\n",
    "    \n",
    "qc = QuantumCircuit(1)\n",
    "\n",
    "# Set qubit to prior\n",
    "qc.ry(prob_to_angle(0.4), 0)\n",
    "\n",
    "# execute the qc\n",
    "results = execute(qc,Aer.get_backend('statevector_simulator')).result().get_counts()\n",
    "plot_histogram(results)"
   ]
  },
  {
   "cell_type": "code",
   "execution_count": null,
   "metadata": {
    "id": "PQj-mx14iim0"
   },
   "outputs": [],
   "source": [
    "# Listing Use the X‐gate to work with the remainder\n",
    "qc = QuantumCircuit(1)\n",
    "\n",
    "# Set qubit to prior\n",
    "qc.ry(prob_to_angle(0.4), 0)\n",
    "\n",
    "# Switch the qubit's value\n",
    "qc.x(0)\n",
    "\n",
    "# execute the qc\n",
    "results = execute(qc,Aer.get_backend('statevector_simulator')).result().get_counts()\n",
    "plot_histogram(results)"
   ]
  },
  {
   "cell_type": "code",
   "execution_count": null,
   "metadata": {
    "id": "jcjCVb8Lilf5"
   },
   "outputs": [],
   "source": [
    "# Listing Calculate the joint probability\n",
    "qc = QuantumCircuit(2)\n",
    "\n",
    "# Set qubit to prior\n",
    "qc.ry(prob_to_angle(0.4), 0)\n",
    "\n",
    "# Switch the qubit's value\n",
    "qc.x(0)\n",
    "\n",
    "# Calculate the joint probability of NOT-prior and an event\n",
    "qc.cry(prob_to_angle(0.8), 0,1)\n",
    "\n",
    "# execute the qc\n",
    "results = execute(qc,Aer.get_backend('statevector_simulator')).result().get_counts()\n",
    "plot_histogram(results)"
   ]
  },
  {
   "cell_type": "code",
   "execution_count": null,
   "metadata": {
    "id": "As1TOLNzinvo"
   },
   "outputs": [],
   "source": [
    "# Listing Decomposition of the CRY‐gate\n",
    "qc = QuantumCircuit(2)\n",
    "\n",
    "# Set qubit to prior\n",
    "qc.ry(prob_to_angle(0.4), 0)\n",
    "\n",
    "# Switch the qubit's value\n",
    "qc.x(0)\n",
    "\n",
    "# Apply half of the event's probability\n",
    "qc.ry(prob_to_angle(0.8)/2, 1)\n",
    "\n",
    "# entangle qubits 0 and 1\n",
    "qc.cx(0,1)\n",
    "\n",
    "# Apply the other half of ev_b\n",
    "qc.ry(-prob_to_angle(0.8)/2, 1)\n",
    "\n",
    "# unentganle qubits 0 and 1\n",
    "qc.cx(0,1)\n",
    "\n",
    "# execute the qc\n",
    "results = execute(qc,Aer.get_backend('statevector_simulator')).result().get_counts()\n",
    "plot_histogram(results)"
   ]
  },
  {
   "cell_type": "code",
   "execution_count": null,
   "metadata": {
    "id": "AZNJB0K1ip-d"
   },
   "outputs": [],
   "source": [
    "# Listing The CCNOT‐function\n",
    "from math import pi\n",
    "theta = pi/2\n",
    "\n",
    "def ccnot(qc):\n",
    "    # Apply the first half of the rotatione\n",
    "    qc.cry(theta, 1,2)\n",
    "\n",
    "    # This sequence has no effect if both control qubits\n",
    "    # are in state |1>\n",
    "    qc.cx(0,1)\n",
    "    qc.cry(-theta,1,2)\n",
    "    qc.cx(0,1)\n",
    "\n",
    "    # Apply the second half of the rotation\n",
    "    qc.cry(theta, 0,2)\n",
    "\n",
    "    # execute the qc\n",
    "    return execute(qc,Aer.get_backend('statevector_simulator')).result().get_counts()"
   ]
  },
  {
   "cell_type": "code",
   "execution_count": null,
   "metadata": {
    "id": "Jci4dRrUisAz"
   },
   "outputs": [],
   "source": [
    "# Listing The CCNOT‐gate with both control qubits in state |1>\n",
    "qc = QuantumCircuit(3)\n",
    "\n",
    "# set both qubits to |1>\n",
    "qc.x(0)\n",
    "qc.x(1)\n",
    "\n",
    "# apply the ccnot-gate and execute the qc\n",
    "results = ccnot(qc)\n",
    "plot_histogram(results)"
   ]
  },
  {
   "cell_type": "code",
   "execution_count": null,
   "metadata": {
    "id": "iUn56igwiuG9"
   },
   "outputs": [],
   "source": [
    "# Listing The CCNOT‐gate with only control qubit q1 in state |1>\n",
    "qc = QuantumCircuit(3)\n",
    "\n",
    "# set only qubit q_1 to |1>\n",
    "qc.x(1)\n",
    "\n",
    "# apply the ccnot-gate and execute the qc\n",
    "results = ccnot(qc)\n",
    "plot_histogram(results)"
   ]
  },
  {
   "cell_type": "code",
   "execution_count": null,
   "metadata": {
    "id": "QO1mddL2iwPd"
   },
   "outputs": [],
   "source": [
    "# Listing The CCNOT‐gate with only control qubit q0 in state |1>\n",
    "qc = QuantumCircuit(3)\n",
    "\n",
    "# set only qubit q_0 to |1>\n",
    "qc.x(0)\n",
    "\n",
    "# apply the ccnot-gate and execute the qc\n",
    "results = ccnot(qc)\n",
    "plot_histogram(results)"
   ]
  },
  {
   "cell_type": "markdown",
   "metadata": {
    "id": "bqw3Q0BSi1L3"
   },
   "source": [
    "## Section Circuit implementation"
   ]
  },
  {
   "cell_type": "code",
   "execution_count": null,
   "metadata": {
    "id": "KH5HGFs7izMd"
   },
   "outputs": [],
   "source": [
    "from qiskit import QuantumCircuit, Aer, execute\n",
    "from qiskit import ClassicalRegister, QuantumRegister\n",
    "from qiskit.visualization import plot_histogram\n",
    "import matplotlib.pyplot as plt\n",
    "from math import asin, sqrt\n",
    "\n",
    "import pandas as pd\n",
    "train = pd.read_csv('train.csv')\n",
    "\n",
    "def prob_to_angle(prob):\n",
    "    \"\"\"\n",
    "    Converts a given P(psi) value into an equivalent theta value.\n",
    "    \"\"\"\n",
    "    return 2*asin(sqrt(prob))"
   ]
  },
  {
   "cell_type": "code",
   "execution_count": null,
   "metadata": {
    "id": "sdjak2Ugi4fc"
   },
   "outputs": [],
   "source": [
    "# Listing 9Initialize the parent nodes\n",
    "# the maximum age of a passenger we consider as a child\n",
    "max_child_age = 8\n",
    "\n",
    "# probability of being a child\n",
    "population_child = train[train.Age.le(max_child_age)]\n",
    "p_child = len(population_child)/len(train)\n",
    "\n",
    "# probability of being female\n",
    "population_female = train[train.Sex.eq(\"female\")]\n",
    "p_female = len(population_female)/len(train)\n",
    "\n",
    "# Initialize the quantum circuit\n",
    "qc = QuantumCircuit(3)\n",
    "\n",
    "# Set qubit0 to p_child\n",
    "qc.ry(prob_to_angle(p_child), 0)\n",
    "\n",
    "# Set qubit1 to p_female\n",
    "qc.ry(prob_to_angle(p_female), 1)"
   ]
  },
  {
   "cell_type": "code",
   "execution_count": null,
   "metadata": {
    "id": "Q9nDzhQCi6ZF"
   },
   "outputs": [],
   "source": [
    "# Listing Definition of the CCRY‐gate\n",
    "def ccry(qc, theta, control1, control2, controlled):\n",
    "    qc.cry(theta/2, control2, controlled)\n",
    "    qc.cx(control1, control2)\n",
    "    qc.cry(-theta/2, control2, controlled)\n",
    "    qc.cx(control1, control2)\n",
    "    qc.cry(theta/2, control1, controlled)"
   ]
  },
  {
   "cell_type": "code",
   "execution_count": null,
   "metadata": {
    "id": "l187KqVOi8c4"
   },
   "outputs": [],
   "source": [
    "# Listing Calculate the conditional probabilities\n",
    "# female children\n",
    "population_female=train[train.Sex.eq(\"female\")]\n",
    "population_f_c=population_female[population_female.Age.le(max_child_age)]\n",
    "surv_f_c=population_f_c[population_f_c.Survived.eq(1)]\n",
    "p_surv_f_c=len(surv_f_c)/len(population_f_c)\n",
    "\n",
    "# female adults\n",
    "population_f_a=population_female[population_female.Age.gt(max_child_age)]\n",
    "surv_f_a=population_f_a[population_f_a.Survived.eq(1)]\n",
    "p_surv_f_a=len(surv_f_a)/len(population_f_a)\n",
    "\n",
    "# male children\n",
    "population_male=train[train.Sex.eq(\"male\")]\n",
    "population_m_c=population_male[population_male.Age.le(max_child_age)]\n",
    "surv_m_c=population_m_c[population_m_c.Survived.eq(1)]\n",
    "p_surv_m_c=len(surv_m_c)/len(population_m_c)\n",
    "\n",
    "# male adults\n",
    "population_m_a=population_male[population_male.Age.gt(max_child_age)]\n",
    "surv_m_a=population_m_a[population_m_a.Survived.eq(1)]\n",
    "p_surv_m_a=len(surv_m_a)/len(population_m_a)"
   ]
  },
  {
   "cell_type": "code",
   "execution_count": null,
   "metadata": {
    "id": "ex99KAq1i-UA"
   },
   "outputs": [],
   "source": [
    "# Listing Initialize the child node\n",
    "# set state |00> to conditional probability of male adults\n",
    "qc.x(0)\n",
    "qc.x(1)\n",
    "ccry(qc,prob_to_angle(p_surv_m_a),0,1,2)\n",
    "qc.x(0)\n",
    "qc.x(1)\n",
    "\n",
    "# set state |01> to conditional probability of male children\n",
    "qc.x(0)\n",
    "ccry(qc,prob_to_angle(p_surv_m_c),0,1,2)\n",
    "qc.x(0)\n",
    "\n",
    "# set state |10> to conditional probability of female adults\n",
    "qc.x(1)\n",
    "ccry(qc,prob_to_angle(p_surv_f_a),0,1,2)\n",
    "qc.x(1)\n",
    "\n",
    "# set state |11> to conditional probability of female children\n",
    "ccry(qc,prob_to_angle(p_surv_f_c),0,1,2)"
   ]
  },
  {
   "cell_type": "code",
   "execution_count": null,
   "metadata": {
    "id": "zAOeUhXsjAuR"
   },
   "outputs": [],
   "source": [
    "# Listing Execute the circuit\n",
    "# execute the qc\n",
    "results = execute(qc,Aer.get_backend('statevector_simulator')).result().get_counts()\n",
    "plot_histogram(results)"
   ]
  },
  {
   "cell_type": "code",
   "execution_count": null,
   "metadata": {
    "id": "0zUgdqsEjCuZ"
   },
   "outputs": [],
   "source": [
    "# Listing A quantum circuit with classical register\n",
    "qr = QuantumRegister(3)\n",
    "cr = ClassicalRegister(1)\n",
    "qc = QuantumCircuit(qr, cr)"
   ]
  },
  {
   "cell_type": "code",
   "execution_count": null,
   "metadata": {
    "id": "t1OoWFD9jEqX"
   },
   "outputs": [],
   "source": [
    "# Listing Run the circuit including a measurement\n",
    "\n",
    "# -- INCLUDE ALL GATES HERE --\n",
    "# Set qubit0 to p_child\n",
    "qc.ry(prob_to_angle(p_child), 0)\n",
    "\n",
    "# Set qubit1 to p_female\n",
    "qc.ry(prob_to_angle(p_female), 1)\n",
    "\n",
    "# set state |00> to conditional probability of male adults\n",
    "qc.x(0)\n",
    "qc.x(1)\n",
    "ccry(qc,prob_to_angle(p_surv_m_a),0,1,2)\n",
    "qc.x(0)\n",
    "qc.x(1)\n",
    "\n",
    "# set state |01> to conditional probability of male children\n",
    "qc.x(0)\n",
    "ccry(qc,prob_to_angle(p_surv_m_c),0,1,2)\n",
    "qc.x(0)\n",
    "\n",
    "# set state |10> to conditional probability of female adults\n",
    "qc.x(1)\n",
    "ccry(qc,prob_to_angle(p_surv_f_a),0,1,2)\n",
    "qc.x(1)\n",
    "\n",
    "# set state |11> to conditional probability of female children\n",
    "ccry(qc,prob_to_angle(p_surv_f_c),0,1,2)\n",
    "\n",
    "qc.measure(qr[2], cr[0])\n",
    "results = execute(qc,Aer.get_backend('qasm_simulator'), shots=1000).result().get_counts()\n",
    "plot_histogram(results)"
   ]
  }
 ],
 "metadata": {
  "colab": {
   "authorship_tag": "ABX9TyOBUROu6NAtrxt7jiPbBJI5",
   "collapsed_sections": [
    "bqw3Q0BSi1L3"
   ],
   "name": "chapter_09.ipynb",
   "provenance": []
  },
  "kernelspec": {
   "display_name": "Python 3 (ipykernel)",
   "language": "python",
   "name": "python3"
  },
  "language_info": {
   "codemirror_mode": {
    "name": "ipython",
    "version": 3
   },
   "file_extension": ".py",
   "mimetype": "text/x-python",
   "name": "python",
   "nbconvert_exporter": "python",
   "pygments_lexer": "ipython3",
   "version": "3.8.10"
  }
 },
 "nbformat": 4,
 "nbformat_minor": 1
}
