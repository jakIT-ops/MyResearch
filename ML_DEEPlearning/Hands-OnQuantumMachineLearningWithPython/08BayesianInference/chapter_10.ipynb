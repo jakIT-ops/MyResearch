{
 "cells": [
  {
   "cell_type": "markdown",
   "metadata": {
    "id": "NZull7DujTau"
   },
   "source": [
    "# Chapter 10\n",
    "\n",
    "## Section Estimating A Single Data Point"
   ]
  },
  {
   "cell_type": "code",
   "execution_count": null,
   "metadata": {
    "id": "YpuAOUjzjQ3N"
   },
   "outputs": [],
   "source": [
    "# Listing Dataset with missing value\n",
    "data = [\n",
    "    (1, 1), (1, 1), (0, 0), (0, 0), (0, 0), (0, None), (0, 1), (1, 0)\n",
    "]"
   ]
  },
  {
   "cell_type": "code",
   "execution_count": null,
   "metadata": {
    "id": "LUqmR8L0jb5K"
   },
   "outputs": [],
   "source": [
    "# Listing The log‐likelihood function adapted for our data\n",
    "from math import log\n",
    "\n",
    "def log_likelihood(data, prob_a_b, prob_a_nb, prob_na_b, prob_na_nb):\n",
    "    def get_prob(point):    \n",
    "        if point[0] == 1 and point[1] == 1:\n",
    "            return log(prob_a_b)\n",
    "        elif point[0] == 1 and point[1] == 0:\n",
    "            return log(prob_a_nb)\n",
    "        elif point[0] == 0 and point[1] == 1:\n",
    "            return log(prob_na_b)\n",
    "        elif point[0] == 0 and point[1] == 0:\n",
    "            return log(prob_na_nb)\n",
    "        else:\n",
    "            return log(prob_na_b+prob_na_nb)\n",
    "\n",
    "    return sum(map(get_prob, data))"
   ]
  },
  {
   "cell_type": "code",
   "execution_count": null,
   "metadata": {
    "id": "pFE739VZjdvz"
   },
   "outputs": [],
   "source": [
    "# Listing Our known convenience function\n",
    "from qiskit import QuantumCircuit, Aer, execute\n",
    "from qiskit import ClassicalRegister, QuantumRegister\n",
    "from qiskit.visualization import plot_histogram\n",
    "import matplotlib.pyplot as plt\n",
    "from math import asin, sqrt\n",
    "\n",
    "def prob_to_angle(prob):\n",
    "    return 2*asin(sqrt(prob))"
   ]
  },
  {
   "cell_type": "code",
   "execution_count": null,
   "metadata": {
    "id": "GFBpZt57jfz5"
   },
   "outputs": [],
   "source": [
    "# Listing the as‐pqc function\n",
    "def as_pqc(cnt_quantum, with_qc, cnt_classical=1, shots=1, hist=False, measure=False):\n",
    "    # Prepare the circuit with qubits and a classical bit to hold the measurement\n",
    "    qr = QuantumRegister(cnt_quantum)\n",
    "    cr = ClassicalRegister(cnt_classical)\n",
    "    qc = QuantumCircuit(qr, cr) if measure else QuantumCircuit(qr)\n",
    "\n",
    "    with_qc(qc, qr=qr, cr=cr)\n",
    "    \n",
    "    results = execute(\n",
    "        qc,\n",
    "        Aer.get_backend('statevector_simulator') if measure is False else Aer.get_backend('qasm_simulator'),\n",
    "        shots=shots\n",
    "    ).result().get_counts()\n",
    "    \n",
    "    return plot_histogram(results, figsize=(12,4)) if hist else results"
   ]
  },
  {
   "cell_type": "code",
   "execution_count": null,
   "metadata": {
    "id": "ZcuzFqU3jiqd"
   },
   "outputs": [],
   "source": [
    "# Listing The quantum bayesian network\n",
    "def qbn(data, hist=True): \n",
    "    def circuit(qc, qr=None, cr=None):\n",
    "        list_a = list(filter(lambda item: item[0] == 1, data))\n",
    "        list_na = list(filter(lambda item: item[0] == 0, data))\n",
    "   \n",
    "        # set the marginal probability of A\n",
    "        qc.ry(prob_to_angle(\n",
    "            len(list_a) / len(data)\n",
    "        ), 0)\n",
    "\n",
    "        # set the conditional probability of NOT A and (B / not B)\n",
    "        qc.x(0)\n",
    "        qc.cry(prob_to_angle(\n",
    "            sum(list(map(lambda item: item[1], list_na))) /  len(list_na)\n",
    "        ),0,1)\n",
    "        qc.x(0)\n",
    "\n",
    "        # set the conditional probability of A and (B / not B)\n",
    "        qc.cry(prob_to_angle(\n",
    "            sum(list(map(lambda item: item[1], list_a))) /  len(list_a)\n",
    "        ),0,1)\n",
    "\n",
    "    return as_pqc(2, circuit, hist=hist)"
   ]
  },
  {
   "cell_type": "code",
   "execution_count": null,
   "metadata": {
    "id": "kn4BQC8EjknH"
   },
   "outputs": [],
   "source": [
    "# Listing Ignoring the missing data\n",
    "qbn(list(filter(lambda item: item[1] is not None ,data)))"
   ]
  },
  {
   "cell_type": "code",
   "execution_count": null,
   "metadata": {
    "id": "b1kYbCQBjm7F"
   },
   "outputs": [],
   "source": [
    "# Listing Calculate the log‐likelihood when ignoring the missing data\n",
    "def eval_qbn(model, prepare_data, data):\n",
    "    results = model(prepare_data(data), hist=False)\n",
    "    return round(log_likelihood(data, \n",
    "        results['11'], # prob_a_b\n",
    "        results['01'], # prob_a_nb\n",
    "        results['10'], # prob_na_b\n",
    "        results['00']  # prob_na_nb\n",
    "    ), 3)\n",
    "\n",
    "eval_qbn(qbn, lambda dataset: list(filter(lambda item: item[1] is not None ,dataset)), data)"
   ]
  },
  {
   "cell_type": "code",
   "execution_count": null,
   "metadata": {
    "id": "s7GAJ2Uzjo0k"
   },
   "outputs": [],
   "source": [
    "# Listing Calculate the log‐likelihood when filling in 0\n",
    "eval_qbn(qbn, lambda dataset: list(map(lambda item: item if item[1] is not None else (item[0], 0) ,dataset)), data)"
   ]
  },
  {
   "cell_type": "code",
   "execution_count": null,
   "metadata": {
    "id": "WmlXAz1rjqr8"
   },
   "outputs": [],
   "source": [
    "# Listing 10.9: The updated eval‐qbn\n",
    "def eval_qbn(model, prepare_data, data):\n",
    "    results = model(prepare_data(data), hist=False)\n",
    "    return (\n",
    "        round(log_likelihood(data, \n",
    "            results['11'], # prob_a_b\n",
    "            results['01'], # prob_a_nb\n",
    "            results['10'], # prob_na_b\n",
    "            results['00']  # prob_na_nb\n",
    "        ), 3),\n",
    "        results['10'] / (results['10'] + results['00'])\n",
    "    )"
   ]
  },
  {
   "cell_type": "code",
   "execution_count": null,
   "metadata": {
    "id": "jnATNpdZjsic"
   },
   "outputs": [],
   "source": [
    "# Listing Evaluation of the guess\n",
    "eval_qbn(qbn, lambda dataset: list(map(lambda item: item if item[1] is not None else (item[0], 0.5) ,dataset)), data)"
   ]
  },
  {
   "cell_type": "code",
   "execution_count": null,
   "metadata": {
    "id": "wa-enbuWjudz"
   },
   "outputs": [],
   "source": [
    "# Listing Refining the model\n",
    "eval_qbn(qbn, lambda dataset: list(map(lambda item: item if item[1] is not None else (item[0], 0.3) ,dataset)), data)"
   ]
  },
  {
   "cell_type": "code",
   "execution_count": null,
   "metadata": {
    "id": "IJ-QIhpojwjX"
   },
   "outputs": [],
   "source": [
    "# Listing Further refining the model\n",
    "eval_qbn(qbn, lambda dataset: list(map(lambda item: item if item[1] is not None else (item[0], 0.26) ,dataset)), data)"
   ]
  },
  {
   "cell_type": "code",
   "execution_count": null,
   "metadata": {
    "id": "6TD8fGHpjym0"
   },
   "outputs": [],
   "source": [
    "# Listing Another iteration\n",
    "eval_qbn(qbn, lambda dataset: list(map(lambda item: item if item[1] is not None else (item[0], 0.252) ,dataset)), data)"
   ]
  },
  {
   "cell_type": "markdown",
   "metadata": {
    "id": "zbFQ2HkIj0oR"
   },
   "source": [
    "## Section Estimating A Variable"
   ]
  },
  {
   "cell_type": "code",
   "execution_count": null,
   "metadata": {
    "id": "95PaGw3rj36-"
   },
   "outputs": [],
   "source": [
    "# Listing Apply the known\n",
    "import pandas as pd\n",
    "train = pd.read_csv('train.csv')\n",
    "\n",
    "# the maximum age of a passenger we consider as a child\n",
    "max_child_age = 8\n",
    "\n",
    "# probability of being a child\n",
    "population_child = train[train.Age.le(max_child_age)]\n",
    "p_child = len(population_child)/len(train)\n",
    "\n",
    "# probability of being female\n",
    "population_female = train[train.Sex.eq(\"female\")]\n",
    "p_female = len(population_female)/len(train)\n",
    "\n",
    "# positions of the qubits\n",
    "QPOS_ISCHILD = 0\n",
    "QPOS_SEX = 1\n",
    "\n",
    "def apply_ischild_sex(qc):\n",
    "    # set the marginal probability of isChild\n",
    "    qc.ry(prob_to_angle(p_child), QPOS_ISCHILD)\n",
    "\n",
    "    # set the marginal probability of Sex\n",
    "    qc.ry(prob_to_angle(p_female), QPOS_SEX)"
   ]
  },
  {
   "cell_type": "code",
   "execution_count": null,
   "metadata": {
    "id": "6CMwsK3Pj8Ol"
   },
   "outputs": [],
   "source": [
    "def ccry(qc, theta, control1, control2, controlled):\n",
    "    qc.cry(theta/2, control2, controlled)\n",
    "    qc.cx(control1, control2)\n",
    "    qc.cry(-theta/2, control2, controlled)\n",
    "    qc.cx(control1, control2)\n",
    "    qc.cry(theta/2, control1, controlled)"
   ]
  },
  {
   "cell_type": "code",
   "execution_count": null,
   "metadata": {
    "id": "JONYzwvaj-l-"
   },
   "outputs": [],
   "source": [
    "# Listing Represent the norm\n",
    "# position of the qubit representing the norm\n",
    "QPOS_NORM = 2\n",
    "\n",
    "def apply_norm(qc, norm_params):\n",
    "    \"\"\"\n",
    "    norm_params = {\n",
    "        'p_norm_am': 0.25,\n",
    "        'p_norm_af': 0.35,\n",
    "        'p_norm_cm': 0.45,\n",
    "        'p_norm_cf': 0.55\n",
    "    }\n",
    "    \"\"\"\n",
    "\n",
    "    # set the conditional probability of Norm given adult/male\n",
    "    qc.x(QPOS_ISCHILD)\n",
    "    qc.x(QPOS_SEX)\n",
    "    ccry(qc, prob_to_angle(\n",
    "        norm_params['p_norm_am']\n",
    "    ),QPOS_ISCHILD, QPOS_SEX, QPOS_NORM)\n",
    "    qc.x(QPOS_ISCHILD)\n",
    "    qc.x(QPOS_SEX)\n",
    "\n",
    "    # set the conditional probability of Norm given adult/female\n",
    "    qc.x(QPOS_ISCHILD)\n",
    "    ccry(qc, prob_to_angle(\n",
    "        norm_params['p_norm_af']\n",
    "    ),QPOS_ISCHILD, QPOS_SEX, QPOS_NORM)\n",
    "    qc.x(QPOS_ISCHILD)\n",
    "\n",
    "    # set the conditional probability of Norm given child/male\n",
    "    qc.x(QPOS_SEX)\n",
    "    ccry(qc, prob_to_angle(\n",
    "        norm_params['p_norm_cm']\n",
    "    ),QPOS_ISCHILD, QPOS_SEX, QPOS_NORM)\n",
    "    qc.x(QPOS_SEX)\n",
    "\n",
    "    # set the conditional probability of Norm given child/female\n",
    "    ccry(qc, prob_to_angle(\n",
    "        norm_params['p_norm_cf']\n",
    "    ),QPOS_ISCHILD, QPOS_SEX, QPOS_NORM)"
   ]
  },
  {
   "cell_type": "code",
   "execution_count": null,
   "metadata": {
    "id": "EEox9Ey6kAa3"
   },
   "outputs": [],
   "source": [
    "# Listing Calculate the probabilities related to the ticket‐class\n",
    "pop_first = train[train.Pclass.eq(1)]\n",
    "surv_first =  round(len(pop_first[pop_first.Survived.eq(1)])/len(pop_first), 2)\n",
    "p_first = round(len(pop_first)/len(train), 2)\n",
    "\n",
    "pop_second = train[train.Pclass.eq(2)]\n",
    "surv_second =  round(len(pop_second[pop_second.Survived.eq(1)])/len(pop_second), 2)\n",
    "p_second = round(len(pop_second)/len(train), 2)\n",
    "\n",
    "pop_third = train[train.Pclass.eq(3)]\n",
    "surv_third =  round(len(pop_third[pop_third.Survived.eq(1)])/len(pop_third), 2)\n",
    "p_third = round(len(pop_third)/len(train), 2)\n",
    "\n",
    "print(\"First class: {} of the passengers, survived: {}\".format(p_first,surv_first))\n",
    "print(\"Second class: {} of the passengers, survived: {}\".format(p_second,surv_second))\n",
    "print(\"Third class: {} of the passengers, survived: {}\".format(p_third,surv_third))"
   ]
  },
  {
   "cell_type": "code",
   "execution_count": null,
   "metadata": {
    "id": "bMuBRNHGkCdP"
   },
   "outputs": [],
   "source": [
    "# Listing Represent the ticket‐class\n",
    "# positions of the qubits\n",
    "QPOS_FIRST = 3\n",
    "QPOS_SECOND = 4\n",
    "QPOS_THIRD = 5\n",
    "\n",
    "def apply_class(qc):\n",
    "    # set the marginal probability of Pclass=1st\n",
    "    qc.ry(prob_to_angle(p_first), QPOS_FIRST)\n",
    "\n",
    "    qc.x(QPOS_FIRST)\n",
    "    # set the marginal probability of Pclass=2nd\n",
    "    qc.cry(prob_to_angle(p_second/(1-p_first)), QPOS_FIRST, QPOS_SECOND)\n",
    "\n",
    "    # set the marginal probability of Pclass=3rd    \n",
    "    qc.x(QPOS_SECOND)\n",
    "    ccry(qc, prob_to_angle(p_third/(1-p_first-p_second)), QPOS_FIRST, QPOS_SECOND, QPOS_THIRD)\n",
    "    qc.x(QPOS_SECOND)\n",
    "    qc.x(QPOS_FIRST)"
   ]
  },
  {
   "cell_type": "code",
   "execution_count": null,
   "metadata": {
    "id": "HIizn3S5kEeE"
   },
   "outputs": [],
   "source": [
    "# Listing Represent survival\n",
    "# position of the qubit\n",
    "QPOS_SURV = 6\n",
    "\n",
    "def apply_survival(qc, surv_params):    \n",
    "    \"\"\"\n",
    "    surv_params = {\n",
    "        'p_surv_f1': 0.3,\n",
    "        'p_surv_f2': 0.4,\n",
    "        'p_surv_f3': 0.5,\n",
    "        'p_surv_u1': 0.6,\n",
    "        'p_surv_u2': 0.7,\n",
    "        'p_surv_u3': 0.8\n",
    "    }\n",
    "    \"\"\"\n",
    "\n",
    "    # set the conditional probability of Survival given unfavored by norm\n",
    "    qc.x(QPOS_NORM)\n",
    "    ccry(qc, prob_to_angle(\n",
    "        surv_params['p_surv_u1']\n",
    "    ),QPOS_NORM, QPOS_FIRST, QPOS_SURV)\n",
    "\n",
    "    ccry(qc, prob_to_angle(\n",
    "        surv_params['p_surv_u2']\n",
    "    ),QPOS_NORM, QPOS_SECOND, QPOS_SURV)\n",
    "\n",
    "    ccry(qc, prob_to_angle(\n",
    "        surv_params['p_surv_u3']\n",
    "    ),QPOS_NORM, QPOS_THIRD, QPOS_SURV)\n",
    "    qc.x(QPOS_NORM)\n",
    "\n",
    "    # set the conditional probability of Survival given favored by norm\n",
    "    ccry(qc, prob_to_angle(\n",
    "        surv_params['p_surv_f1']\n",
    "    ),QPOS_NORM, QPOS_FIRST, QPOS_SURV)\n",
    "\n",
    "    ccry(qc, prob_to_angle(\n",
    "        surv_params['p_surv_f2']\n",
    "    ),QPOS_NORM, QPOS_SECOND, QPOS_SURV)\n",
    "\n",
    "    ccry(qc, prob_to_angle(\n",
    "        surv_params['p_surv_f3']\n",
    "    ),QPOS_NORM, QPOS_THIRD, QPOS_SURV)"
   ]
  },
  {
   "cell_type": "code",
   "execution_count": null,
   "metadata": {
    "id": "ei-cSfNWkGwB"
   },
   "outputs": [],
   "source": [
    "# Listing The quantum bayesian network\n",
    "QUBITS = 7\n",
    "\n",
    "def qbn_titanic(norm_params, surv_params, hist=True, measure=False, shots=1): \n",
    "    def circuit(qc, qr=None, cr=None):\n",
    "        apply_ischild_sex(qc)\n",
    "        apply_norm(qc, norm_params)\n",
    "        apply_class(qc)\n",
    "        apply_survival(qc, surv_params)\n",
    "\n",
    "    return as_pqc(QUBITS, circuit, hist=hist, measure=measure, shots=shots)"
   ]
  },
  {
   "cell_type": "code",
   "execution_count": null,
   "metadata": {
    "id": "jwDbYfFCkI0e"
   },
   "outputs": [],
   "source": [
    "# Listing Try the QBN\n",
    "norm_params = {\n",
    "    'p_norm_am': 0.25,\n",
    "    'p_norm_af': 0.35,\n",
    "    'p_norm_cm': 0.45,\n",
    "    'p_norm_cf': 0.55\n",
    "}\n",
    "\n",
    "surv_params = {\n",
    "    'p_surv_f1': 0.3,\n",
    "    'p_surv_f2': 0.4,\n",
    "    'p_surv_f3': 0.5,\n",
    "    'p_surv_u1': 0.6,\n",
    "    'p_surv_u2': 0.7,\n",
    "    'p_surv_u3': 0.8\n",
    "}\n",
    "\n",
    "qbn_titanic(norm_params, surv_params, hist=True)"
   ]
  },
  {
   "cell_type": "code",
   "execution_count": null,
   "metadata": {
    "id": "ClRA8LCtkKs-"
   },
   "outputs": [],
   "source": [
    "# Listing Calculate the parameters of the norm\n",
    "def calculate_norm_params(passengers):\n",
    "    # the different populations in our data\n",
    "    pop_children = passengers[passengers.IsChild.eq(1)]\n",
    "    pop_adults = passengers[passengers.IsChild.eq(0)]\n",
    "\n",
    "    # combinations of being a child and gender\n",
    "    pop_am = pop_adults[pop_adults.Sex.eq('male')]\n",
    "    pop_af = pop_adults[pop_adults.Sex.eq('female')]\n",
    "    pop_cm = pop_children[pop_children.Sex.eq('male')]\n",
    "    pop_cf = pop_children[pop_children.Sex.eq('female')]\n",
    "\n",
    "    norm_params = {\n",
    "        'p_norm_am': pop_am.Norm.sum() /  len(pop_am),\n",
    "        'p_norm_af': pop_af.Norm.sum() /  len(pop_af),\n",
    "        'p_norm_cm': pop_cm.Norm.sum() /  len(pop_cm),\n",
    "        'p_norm_cf': pop_cf.Norm.sum() /  len(pop_cf),\n",
    "    }\n",
    "\n",
    "    return norm_params"
   ]
  },
  {
   "cell_type": "code",
   "execution_count": null,
   "metadata": {
    "id": "IbXGPnuKkMr2"
   },
   "outputs": [],
   "source": [
    "# Listing Calculate the parameters of survival\n",
    "def calculate_surv_params(passengers):\n",
    "    # all survivors\n",
    "    survivors = passengers[passengers.Survived.eq(1)]\n",
    "    \n",
    "    # weight the passenger\n",
    "    def weight_passenger(norm, pclass):\n",
    "        return lambda passenger: (passenger[0] if norm else 1-passenger[0]) * (1 if passenger[1] == pclass else 0)\n",
    "\n",
    "    # calculate the probability to survive\n",
    "    def calc_prob(norm, pclass):\n",
    "        return sum(list(map(\n",
    "            weight_passenger(norm, pclass),\n",
    "            list(zip(survivors['Norm'], survivors['Pclass']))\n",
    "        ))) / sum(list(map(\n",
    "            weight_passenger(norm, pclass), \n",
    "            list(zip(passengers['Norm'], passengers['Pclass']))\n",
    "        )))\n",
    "    \n",
    "    surv_params = {\n",
    "        'p_surv_f1': calc_prob(True, 1),\n",
    "        'p_surv_f2': calc_prob(True, 2),\n",
    "        'p_surv_f3': calc_prob(True, 3),\n",
    "        'p_surv_u1': calc_prob(False, 1),\n",
    "        'p_surv_u2': calc_prob(False, 2),\n",
    "        'p_surv_u3': calc_prob(False, 3)\n",
    "    }\n",
    "\n",
    "    return surv_params"
   ]
  },
  {
   "cell_type": "code",
   "execution_count": null,
   "metadata": {
    "id": "JVYGjtX7kOik"
   },
   "outputs": [],
   "source": [
    "# Listing Prepare the data\n",
    "def prepare_data(passengers, params):\n",
    "    \"\"\"\n",
    "    params = {\n",
    "        'p_norm_cms': 0.45,\n",
    "        'p_norm_cmd': 0.46,\n",
    "        'p_norm_cfs': 0.47,\n",
    "        'p_norm_cfd': 0.48,\n",
    "        'p_norm_ams': 0.49,\n",
    "        'p_norm_amd': 0.51,\n",
    "        'p_norm_afs': 0.52,\n",
    "        'p_norm_afd': 0.53,\n",
    "    }\n",
    "    \"\"\"\n",
    "    # is the passenger a child?\n",
    "    passengers['IsChild'] = passengers['Age'].map(lambda age: 0 if age > max_child_age else 1)\n",
    "\n",
    "    # the probability of favored by norm given Age, Sex, and Survival\n",
    "    passengers['Norm'] = list(map(\n",
    "        lambda item: params['p_norm_{}{}{}'.format(\n",
    "            'a' if item[0] == 0 else 'c',\n",
    "            item[1][0],\n",
    "            'd' if item[2] == 0 else 's'\n",
    "        )],\n",
    "        list(zip(passengers['IsChild'], passengers['Sex'], passengers['Survived']))\n",
    "    ))\n",
    "    return passengers"
   ]
  },
  {
   "cell_type": "code",
   "execution_count": null,
   "metadata": {
    "id": "v6dXxASekQc0"
   },
   "outputs": [],
   "source": [
    "# Listing Initialize the parameters\n",
    "# Step 0: Initialize the parameter values \n",
    "params = {\n",
    "    'p_norm_cms': 0.45,\n",
    "    'p_norm_cmd': 0.46,\n",
    "    'p_norm_cfs': 0.47,\n",
    "    'p_norm_cfd': 0.48,\n",
    "    'p_norm_ams': 0.49,\n",
    "    'p_norm_amd': 0.51,\n",
    "    'p_norm_afs': 0.52,\n",
    "    'p_norm_afd': 0.53,\n",
    "}"
   ]
  },
  {
   "cell_type": "code",
   "execution_count": null,
   "metadata": {
    "id": "kowQ5UJ0kSZC"
   },
   "outputs": [],
   "source": [
    "# Listing Run the qbn\n",
    "passengers = prepare_data(train, params)\n",
    "results = qbn_titanic(calculate_norm_params(passengers), calculate_surv_params(passengers), hist=False)"
   ]
  },
  {
   "cell_type": "code",
   "execution_count": null,
   "metadata": {
    "id": "K3ScmnKUkUZt"
   },
   "outputs": [],
   "source": [
    "# Listing Get a list of relevant states\n",
    "def filter_states(states, position, value):\n",
    "    return list(filter(lambda item: item[0][QUBITS-1-position] == str(value), states))"
   ]
  },
  {
   "cell_type": "code",
   "execution_count": null,
   "metadata": {
    "id": "okkwfj8CkWWe"
   },
   "outputs": [],
   "source": [
    "# Listing The states with surviving passengers\n",
    "filter_states(results.items(), QPOS_SURV, '1')"
   ]
  },
  {
   "cell_type": "code",
   "execution_count": null,
   "metadata": {
    "id": "gqJ5_at0kYTf"
   },
   "outputs": [],
   "source": [
    "# Listing Calculate the marginal probability to survive\n",
    "def sum_states(states):\n",
    "    return sum(map(lambda item: item[1], states))\n",
    "\n",
    "sum_states(filter_states(results.items(), QPOS_SURV, '1'))"
   ]
  },
  {
   "cell_type": "code",
   "execution_count": null,
   "metadata": {
    "id": "yobZwQuckaKl"
   },
   "outputs": [],
   "source": [
    "# Listing The log‐likelihood function adapted for our data\n",
    "def log_likelihood_titanic(data, results):\n",
    "    states = results.items()\n",
    "    \n",
    "    def calc_prob(norm_val, ischild_val, sex_val, surv_val):\n",
    "        return sum_states(\n",
    "            filter_states(\n",
    "                filter_states(\n",
    "                    filter_states(\n",
    "                        filter_states(states, QPOS_SEX, sex_val),\n",
    "                        QPOS_ISCHILD, ischild_val\n",
    "                    ), QPOS_SURV, surv_val\n",
    "                ), QPOS_NORM, norm_val))\n",
    "        \n",
    "    probs = {\n",
    "        'p_fcms': calc_prob('1', '1', '0', '1'),\n",
    "        'p_fcmd': calc_prob('1', '1', '0', '0'),\n",
    "        'p_fcfs': calc_prob('1', '1', '1', '1'),\n",
    "        'p_fcfd': calc_prob('1', '1', '1', '0'),\n",
    "        'p_fams': calc_prob('1', '0', '0', '1'),\n",
    "        'p_famd': calc_prob('1', '0', '0', '0'),\n",
    "        'p_fafs': calc_prob('1', '0', '1', '1'),\n",
    "        'p_fafd': calc_prob('1', '0', '1', '0'),\n",
    "        'p_ucms': calc_prob('0', '1', '0', '1'),\n",
    "        'p_ucmd': calc_prob('0', '1', '0', '0'),\n",
    "        'p_ucfs': calc_prob('0', '1', '1', '1'),\n",
    "        'p_ucfd': calc_prob('0', '1', '1', '0'),\n",
    "        'p_uams': calc_prob('0', '0', '0', '1'),\n",
    "        'p_uamd': calc_prob('0', '0', '0', '0'),\n",
    "        'p_uafs': calc_prob('0', '0', '1', '1'),\n",
    "        'p_uafd': calc_prob('0', '0', '1', '0'),\n",
    "    }\n",
    "\n",
    "    return round(sum(map(\n",
    "        lambda item: log(probs['p_{}{}{}{}'.format(\n",
    "                'u',\n",
    "                'a' if item[1] == 0 else 'c',\n",
    "                item[2][0],\n",
    "                'd' if item[3] == 0 else 's'\n",
    "            )] + probs['p_{}{}{}{}'.format(\n",
    "                'f',\n",
    "                'a' if item[1] == 0 else 'c',\n",
    "                item[2][0],\n",
    "                'd' if item[3] == 0 else 's'\n",
    "            )]\n",
    "        ),\n",
    "        list(zip(data['Norm'], data['IsChild'], data['Sex'], data['Survived']))\n",
    "    )), 3)"
   ]
  },
  {
   "cell_type": "code",
   "execution_count": null,
   "metadata": {
    "id": "CBGMs7tzkcDE"
   },
   "outputs": [],
   "source": [
    "# Listing Calculate the log‐likelihood\n",
    "log_likelihood_titanic(train, results)"
   ]
  },
  {
   "cell_type": "code",
   "execution_count": null,
   "metadata": {
    "id": "CRV3DAKlkeE4"
   },
   "outputs": [],
   "source": [
    "# Listing Obtain new parameter values from the results\n",
    "def to_params(results):\n",
    "    states = results.items()\n",
    "    \n",
    "    def calc_norm(ischild_val, sex_val, surv_val):\n",
    "        pop = filter_states(filter_states(filter_states(states, QPOS_SEX, sex_val), QPOS_ISCHILD, ischild_val), QPOS_SURV, surv_val)\n",
    "\n",
    "        p_norm = sum(map(lambda item: item[1], filter_states(pop, QPOS_NORM, '1')))\n",
    "        p_total = sum(map(lambda item: item[1], pop))\n",
    "        return p_norm / p_total\n",
    "\n",
    "\n",
    "    return {\n",
    "        'p_norm_cms': calc_norm('1', '0', '1'),\n",
    "        'p_norm_cmd': calc_norm('1', '0', '0'),\n",
    "        'p_norm_cfs': calc_norm('1', '1', '1'),\n",
    "        'p_norm_cfd': calc_norm('1', '1', '0'),\n",
    "        'p_norm_ams': calc_norm('0', '0', '1'),\n",
    "        'p_norm_amd': calc_norm('0', '0', '0'),\n",
    "        'p_norm_afs': calc_norm('0', '1', '1'),\n",
    "        'p_norm_afd': calc_norm('0', '1', '0'),\n",
    "    }"
   ]
  },
  {
   "cell_type": "code",
   "execution_count": null,
   "metadata": {
    "id": "49WQMUCFkgT5"
   },
   "outputs": [],
   "source": [
    "# Listing Calcualte new parameters\n",
    "to_params(results)"
   ]
  },
  {
   "cell_type": "code",
   "execution_count": null,
   "metadata": {
    "id": "S2bSLrkMkiQb"
   },
   "outputs": [],
   "source": [
    "# Listing The recursive training automatism\n",
    "def train_qbn_titanic(passengers, params, iterations):\n",
    "    if iterations > 0:\n",
    "        new_params = train_qbn_titanic(passengers, params, iterations - 1)\n",
    "\n",
    "        passengers = prepare_data(passengers, new_params)\n",
    "        results = qbn_titanic(calculate_norm_params(passengers), calculate_surv_params(passengers), hist=False)\n",
    "\n",
    "        print ('The log-likelihood after {} iteration(s) is {}'.format(iterations, log_likelihood_titanic(passengers, results)))\n",
    "        return to_params(results)\n",
    "    \n",
    "    return params"
   ]
  },
  {
   "cell_type": "code",
   "execution_count": null,
   "metadata": {
    "id": "Rh-G8h9-kkNy"
   },
   "outputs": [],
   "source": [
    "# Listing Train the QBN\n",
    "trained_params = train_qbn_titanic(train, {\n",
    "    'p_norm_cms': 0.45,\n",
    "    'p_norm_cmd': 0.46,\n",
    "    'p_norm_cfs': 0.47,\n",
    "    'p_norm_cfd': 0.48,\n",
    "    'p_norm_ams': 0.49,\n",
    "    'p_norm_amd': 0.51,\n",
    "    'p_norm_afs': 0.52,\n",
    "    'p_norm_afd': 0.53,\n",
    "}, 25)"
   ]
  },
  {
   "cell_type": "code",
   "execution_count": null,
   "metadata": {
    "id": "OFyFcV7fkmVW"
   },
   "outputs": [],
   "source": [
    "# Listing The parameters after training\n",
    "trained_params"
   ]
  },
  {
   "cell_type": "code",
   "execution_count": null,
   "metadata": {
    "id": "o3zEgYkJkohx"
   },
   "outputs": [],
   "source": [
    "# Listing Pre‐processing\n",
    "def pre_process(passenger):\n",
    "    return (passenger['IsChild'] == 1, passenger['Sex'] == 'female', passenger['Pclass'])"
   ]
  },
  {
   "cell_type": "code",
   "execution_count": null,
   "metadata": {
    "id": "Fi-2NfxZkqXo"
   },
   "outputs": [],
   "source": [
    "# Listing Apply the known data on the quantum circuit\n",
    "def apply_known(qc, is_child, is_female, pclass):\n",
    "    if is_child:\n",
    "        qc.x(QPOS_ISCHILD)\n",
    "\n",
    "    if is_female:\n",
    "        qc.x(QPOS_SEX)\n",
    "    \n",
    "    qc.x(QPOS_FIRST if pclass == 1 else (QPOS_SECOND if pclass == 2 else QPOS_THIRD))"
   ]
  },
  {
   "cell_type": "code",
   "execution_count": null,
   "metadata": {
    "id": "6Rj0mecCksXc"
   },
   "outputs": [],
   "source": [
    "# Listing Get the trained QBN\n",
    "def get_trained_qbn(passengers, params):\n",
    "\n",
    "    prepared_passengers = prepare_data(passengers, params)\n",
    "    norm_params = calculate_norm_params(prepared_passengers)\n",
    "    surv_params = calculate_surv_params(prepared_passengers)\n",
    "\n",
    "    def trained_qbn_titanic(passenger):\n",
    "        (is_child, is_female, pclass) = passenger\n",
    "\n",
    "        def circuit(qc, qr, cr):\n",
    "            apply_known(qc, is_child, is_female, pclass)\n",
    "            apply_norm(qc, norm_params)\n",
    "            apply_survival(qc, surv_params)\n",
    "            \n",
    "            qc.measure(qr[QPOS_SURV], cr[0])\n",
    "        \n",
    "        return as_pqc(QUBITS, circuit, hist=False, measure=True, shots=100)\n",
    "\n",
    "    return trained_qbn_titanic"
   ]
  },
  {
   "cell_type": "code",
   "execution_count": null,
   "metadata": {
    "id": "IGbx4YR1kuNe"
   },
   "outputs": [],
   "source": [
    "# Listing Post‐processing\n",
    "def post_process(counts):\n",
    "    \"\"\"\n",
    "    counts -- the result of the quantum circuit execution\n",
    "    returns the prediction\n",
    "    \"\"\"\n",
    "    #print (counts)\n",
    "    p_surv = counts['1'] if '1' in counts.keys() else 0\n",
    "    p_died = counts['0'] if '0' in counts.keys() else 0\n",
    "\n",
    "    #return int(list(map(lambda item: item[0], counts.items()))[0])\n",
    "    return 1 if p_surv > p_died else 0"
   ]
  },
  {
   "cell_type": "code",
   "execution_count": null,
   "metadata": {
    "id": "39VhOfrBkwQp"
   },
   "outputs": [],
   "source": [
    "# REDEFINE OR IMPORT THE FUNCTIONS OF CHAPTER 2\n",
    "from sklearn.metrics import confusion_matrix, precision_score, recall_score\n",
    "def run(f_classify, x):\n",
    "    return list(map(f_classify, x))\n",
    "\n",
    "def specificity(matrix):\n",
    "    return matrix[0][0]/(matrix[0][0]+matrix[0][1]) if (matrix[0][0]+matrix[0][1] > 0) else 0\n",
    "\n",
    "def npv(matrix):\n",
    "    return matrix[0][0]/(matrix[0][0]+matrix[1][0]) if (matrix[0][0]+matrix[1][0] > 0) else 0\n",
    "\n",
    "def classifier_report(name, run, classify, input, labels):\n",
    "    cr_predictions = run(classify, input)\n",
    "    cr_cm = confusion_matrix(labels, cr_predictions)\n",
    "\n",
    "    cr_precision = precision_score(labels, cr_predictions)\n",
    "    cr_recall = recall_score(labels, cr_predictions)\n",
    "    cr_specificity = specificity(cr_cm)\n",
    "    cr_npv = npv(cr_cm)\n",
    "    cr_level = 0.25*(cr_precision + cr_recall + cr_specificity + cr_npv)\n",
    "\n",
    "    print('The precision score of the {} classifier is {:.2f}'\n",
    "        .format(name, cr_precision))\n",
    "    print('The recall score of the {} classifier is {:.2f}'\n",
    "        .format(name, cr_recall))\n",
    "    print('The specificity score of the {} classifier is {:.2f}'\n",
    "        .format(name, cr_specificity))\n",
    "    print('The npv score of the {} classifier is {:.2f}'\n",
    "        .format(name, cr_npv))\n",
    "    print('The information level is: {:.2f}'\n",
    "        .format(cr_level))\n",
    "#CAPTION A reusable function to unmask the hypocrite classifier"
   ]
  },
  {
   "cell_type": "code",
   "execution_count": null,
   "metadata": {
    "id": "8u_9t4UQkyPZ"
   },
   "outputs": [],
   "source": [
    "# Listing Run the Quantum Naive Bayes Classifier\n",
    "# redefine the run-function\n",
    "def run(f_classify, data):\n",
    "    return [f_classify(data.iloc[i]) for i in range(0,len(data))]\n",
    "\n",
    "# get the simple qbn\n",
    "trained_qbn = get_trained_qbn(train, trained_params)\n",
    "\n",
    "# evaluate the Quantum Bayesian Network\n",
    "classifier_report(\"QBN\",\n",
    "    run,\n",
    "    lambda passenger: post_process(trained_qbn(pre_process(passenger))),\n",
    "    passengers,\n",
    "    train['Survived'])"
   ]
  }
 ],
 "metadata": {
  "colab": {
   "authorship_tag": "ABX9TyN9hq3eFJDuTigHPT3Kt5r8",
   "collapsed_sections": [
    "zbFQ2HkIj0oR"
   ],
   "name": "chapter_10.ipynb",
   "provenance": []
  },
  "kernelspec": {
   "display_name": "Python 3 (ipykernel)",
   "language": "python",
   "name": "python3"
  },
  "language_info": {
   "codemirror_mode": {
    "name": "ipython",
    "version": 3
   },
   "file_extension": ".py",
   "mimetype": "text/x-python",
   "name": "python",
   "nbconvert_exporter": "python",
   "pygments_lexer": "ipython3",
   "version": "3.8.10"
  }
 },
 "nbformat": 4,
 "nbformat_minor": 1
}
