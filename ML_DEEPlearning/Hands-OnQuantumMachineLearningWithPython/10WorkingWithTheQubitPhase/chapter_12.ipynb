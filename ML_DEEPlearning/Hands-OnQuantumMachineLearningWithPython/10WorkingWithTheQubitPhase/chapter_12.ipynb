{
 "cells": [
  {
   "cell_type": "markdown",
   "metadata": {
    "id": "qXdj-NdpmV01"
   },
   "source": [
    "# Chapter 12\n",
    "\n",
    "## Section Basic Amplitude Amplification"
   ]
  },
  {
   "cell_type": "code",
   "execution_count": null,
   "metadata": {
    "id": "LKI5fPa_mTQZ"
   },
   "outputs": [],
   "source": [
    "# Listing Equal superposition of two states\n",
    "from qiskit import QuantumCircuit, Aer, execute\n",
    "from qiskit.visualization import plot_histogram, plot_bloch_multivector, plot_state_qsphere\n",
    "\n",
    "qc = QuantumCircuit(1)\n",
    "qc.h(0)\n",
    "\n",
    "# execute the qc\n",
    "results = execute(qc,Aer.get_backend('statevector_simulator')).result()\n",
    "plot_histogram(results.get_counts())"
   ]
  },
  {
   "cell_type": "code",
   "execution_count": null,
   "metadata": {
    "id": "GGkRoRsSmasP"
   },
   "outputs": [],
   "source": [
    "# Listing HZH‐circuit\n",
    "# prepare the circuit\n",
    "qc = QuantumCircuit(1)\n",
    "qc.h(0)\n",
    "qc.z(0)\n",
    "qc.h(0)\n",
    "\n",
    "# execute the qc\n",
    "results = execute(qc,Aer.get_backend('statevector_simulator')).result()\n",
    "plot_histogram(results.get_counts())"
   ]
  },
  {
   "cell_type": "code",
   "execution_count": null,
   "metadata": {
    "id": "Owq4SVvimc1L"
   },
   "outputs": [],
   "source": [
    "# Listing HIH‐circuit\n",
    "# prepare the circuit\n",
    "qc = QuantumCircuit(1)\n",
    "qc.h(0)\n",
    "qc.i(0)\n",
    "qc.h(0)\n",
    "\n",
    "# execute the qc\n",
    "results = execute(qc,Aer.get_backend('statevector_simulator')).result()\n",
    "plot_histogram(results.get_counts())"
   ]
  },
  {
   "cell_type": "markdown",
   "metadata": {
    "id": "KXnMW9elmg30"
   },
   "source": [
    "## Section Two-Qubit Amplification"
   ]
  },
  {
   "cell_type": "code",
   "execution_count": null,
   "metadata": {
    "id": "a0FY06UKmeqO"
   },
   "outputs": [],
   "source": [
    "# Listing Equal superposition of four states\n",
    "from qiskit import QuantumCircuit, Aer, execute\n",
    "from qiskit.visualization import plot_histogram, plot_bloch_multivector, plot_state_qsphere\n",
    "\n",
    "qc = QuantumCircuit(2)\n",
    "qc.h(0)\n",
    "qc.h(1)\n",
    "\n",
    "# execute the qc\n",
    "results = execute(qc,Aer.get_backend('statevector_simulator')).result()\n",
    "plot_histogram(results.get_counts())"
   ]
  },
  {
   "cell_type": "code",
   "execution_count": null,
   "metadata": {
    "id": "uYLTCCN2mkL7"
   },
   "outputs": [],
   "source": [
    "# Listing Two‐qubit Grover searching |10>\n",
    "qc = QuantumCircuit(2)\n",
    "\n",
    "qc.h(0)\n",
    "qc.h(1)\n",
    "qc.barrier()\n",
    "\n",
    "qc.x(0)\n",
    "qc.cz(0, 1)\n",
    "qc.x(0)\n",
    "\n",
    "qc.barrier()\n",
    "qc.h(0)\n",
    "qc.h(1)\n",
    "\n",
    "qc.x(0)\n",
    "qc.x(1)\n",
    "qc.cz(0,1)\n",
    "qc.x(0)\n",
    "qc.x(1)\n",
    "\n",
    "qc.barrier()\n",
    "qc.h(0)\n",
    "qc.h(1)\n",
    "\n",
    "# execute the qc\n",
    "results = execute(qc,Aer.get_backend('statevector_simulator')).result()\n",
    "plot_histogram(results.get_counts())"
   ]
  },
  {
   "cell_type": "code",
   "execution_count": null,
   "metadata": {
    "id": "SSrwVAi_mmLV"
   },
   "outputs": [],
   "source": [
    "# Additional Listing: Two-qubit Grover searching |01>\n",
    "qc = QuantumCircuit(2)\n",
    "qc.h(0)\n",
    "qc.h(1)\n",
    "qc.barrier()\n",
    "qc.x(1)\n",
    "qc.cz(0, 1)\n",
    "qc.x(1)\n",
    "qc.barrier()\n",
    "qc.h(0)\n",
    "qc.h(1)\n",
    "\n",
    "qc.x(0)\n",
    "qc.x(1)\n",
    "qc.cz(0,1)\n",
    "qc.x(0)\n",
    "qc.x(1)\n",
    "qc.h(0)\n",
    "qc.h(1)\n",
    "# execute the qc\n",
    "results = execute(qc,Aer.get_backend('statevector_simulator')).result()\n",
    "plot_histogram(results.get_counts())"
   ]
  },
  {
   "cell_type": "code",
   "execution_count": null,
   "metadata": {
    "id": "wkXDjvB9moKs"
   },
   "outputs": [],
   "source": [
    "# Additional Listing: The full circuit to amplify |00>\n",
    "qc = QuantumCircuit(2)\n",
    "qc.h(0)\n",
    "qc.h(1)\n",
    "qc.barrier()\n",
    "\n",
    "qc.x(0)\n",
    "qc.x(1)\n",
    "qc.cz(0, 1)\n",
    "\n",
    "qc.x(0)\n",
    "qc.x(1)\n",
    "\n",
    "qc.barrier()\n",
    "qc.h(0)\n",
    "qc.h(1)\n",
    "\n",
    "qc.x(0)\n",
    "qc.x(1)\n",
    "qc.cz(0,1)\n",
    "qc.x(0)\n",
    "qc.x(1)\n",
    "qc.barrier()\n",
    "qc.h(0)\n",
    "qc.h(1)\n",
    "# execute the qc\n",
    "results = execute(qc,Aer.get_backend('statevector_simulator')).result()\n",
    "plot_histogram(results.get_counts())"
   ]
  }
 ],
 "metadata": {
  "colab": {
   "authorship_tag": "ABX9TyOVjjo15cWu9K6djuwBEWFS",
   "collapsed_sections": [
    "KXnMW9elmg30"
   ],
   "name": "chapter_12.ipynb",
   "provenance": []
  },
  "kernelspec": {
   "display_name": "Python 3 (ipykernel)",
   "language": "python",
   "name": "python3"
  },
  "language_info": {
   "codemirror_mode": {
    "name": "ipython",
    "version": 3
   },
   "file_extension": ".py",
   "mimetype": "text/x-python",
   "name": "python",
   "nbconvert_exporter": "python",
   "pygments_lexer": "ipython3",
   "version": "3.8.10"
  }
 },
 "nbformat": 4,
 "nbformat_minor": 1
}
