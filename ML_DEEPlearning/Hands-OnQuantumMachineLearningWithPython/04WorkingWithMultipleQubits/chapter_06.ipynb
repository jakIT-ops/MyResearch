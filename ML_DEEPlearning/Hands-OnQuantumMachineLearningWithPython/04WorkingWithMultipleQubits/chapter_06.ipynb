{
 "cells": [
  {
   "cell_type": "markdown",
   "metadata": {
    "id": "2ozc7YiYfTLE"
   },
   "source": [
    "# Chapter 6\n",
    "\n",
    "## Section Hands-On Introduction ToQuantum Entanglement"
   ]
  },
  {
   "cell_type": "code",
   "execution_count": null,
   "metadata": {
    "id": "FPQ9ir4DfRCP"
   },
   "outputs": [],
   "source": [
    "# Listing Apply the CNOT‐gate with |0> as control qubit\n",
    "from math import sqrt\n",
    "from qiskit import QuantumCircuit, Aer, execute\n",
    "from qiskit.visualization import plot_histogram\n",
    "\n",
    "# Redefine the quantum circuit\n",
    "qc = QuantumCircuit(2)\n",
    "\n",
    "# Initialise the qubits\n",
    "qc.initialize([1,0], 0) \n",
    "qc.initialize([1,0], 1)\n",
    "\n",
    "# Apply the CNOT-gate\n",
    "qc.cx(0,1)\n",
    "\n",
    "# Tell Qiskit how to simulate our circuit\n",
    "backend = Aer.get_backend('statevector_simulator')\n",
    "\n",
    "# execute the qc\n",
    "results = execute(qc,backend).result().get_counts()\n",
    "\n",
    "# plot the results\n",
    "plot_histogram(results)"
   ]
  },
  {
   "cell_type": "code",
   "execution_count": null,
   "metadata": {
    "id": "tULYm4UWfbix"
   },
   "outputs": [],
   "source": [
    "# Listing Apply the CNOT‐gate with |1> as control qubit\n",
    "# Redefine the quantum circuit\n",
    "qc = QuantumCircuit(2)\n",
    "\n",
    "# Initialise the 0th qubit in the state `initial_state`\n",
    "qc.initialize([0,1], 0) \n",
    "qc.initialize([1,0], 1) \n",
    "\n",
    "# Apply the CNOT-gate\n",
    "qc.cx(0,1)\n",
    "\n",
    "# Tell Qiskit how to simulate our circuit\n",
    "backend = Aer.get_backend('statevector_simulator')\n",
    "\n",
    "# execute the qc\n",
    "results = execute(qc,backend).result().get_counts()\n",
    "\n",
    "# plot the results\n",
    "plot_histogram(results)"
   ]
  },
  {
   "cell_type": "code",
   "execution_count": null,
   "metadata": {
    "id": "2cf1d2RkfeV5"
   },
   "outputs": [],
   "source": [
    "# Listing Apply the CNOT‐gate with |+> as control qubit\n",
    "# Redefine the quantum circuit\n",
    "qc = QuantumCircuit(2)\n",
    "\n",
    "# Initialise the 0th qubit in the state `initial_state`\n",
    "qc.initialize([1,0], 0) \n",
    "qc.initialize([1,0], 1) \n",
    "\n",
    "# Apply the Hadamard gate\n",
    "qc.h(0)\n",
    "\n",
    "# Apply the CNOT-gate\n",
    "qc.cx(0,1)\n",
    "\n",
    "# Tell Qiskit how to simulate our circuit\n",
    "backend = Aer.get_backend('statevector_simulator')\n",
    "\n",
    "# execute the qc\n",
    "results = execute(qc,backend).result().get_counts()\n",
    "\n",
    "# plot the results\n",
    "plot_histogram(results)"
   ]
  },
  {
   "cell_type": "code",
   "execution_count": null,
   "metadata": {
    "id": "Bpu5jVlxfgQD"
   },
   "outputs": [],
   "source": [
    "# Listing Measure the controlled qubit first\n",
    "from qiskit import ClassicalRegister, QuantumRegister\n",
    "\n",
    "# Prepare a register of two qubits\n",
    "qr = QuantumRegister(2)\n",
    "\n",
    "# Prepare a register of two classical bits\n",
    "cr = ClassicalRegister(2)\n",
    "\n",
    "# Redefine the quantum circuit\n",
    "qc = QuantumCircuit(qr, cr)\n",
    "\n",
    "# Initialise the 0th qubit in the state `initial_state`\n",
    "qc.initialize([1,0], 0) \n",
    "qc.initialize([1,0], 1) \n",
    "\n",
    "# Apply the Hadamard gate\n",
    "qc.h(0)\n",
    "\n",
    "# Apply the CNOT-gate\n",
    "qc.cx(0,1)\n",
    "\n",
    "# Measure the qubits to the classical bits, start with the controlled qubit\n",
    "qc.measure(qr[1], cr[1])\n",
    "qc.measure(qr[0], cr[0])\n",
    "\n",
    "# Tell Qiskit how to simulate our circuit\n",
    "backend = Aer.get_backend('qasm_simulator')\n",
    "\n",
    "# execute the qc\n",
    "results = execute(qc,backend,shots = 1000).result().get_counts(qc)\n",
    "\n",
    "# plot the results\n",
    "plot_histogram(results)"
   ]
  },
  {
   "cell_type": "markdown",
   "metadata": {
    "id": "IdDvoellflOL"
   },
   "source": [
    "## Section The Equation Einstein Could Not Believe"
   ]
  },
  {
   "cell_type": "code",
   "execution_count": null,
   "metadata": {
    "id": "zg2mQtMufid3"
   },
   "outputs": [],
   "source": [
    "# Listing Calculate the transformation matrix\n",
    "from qiskit import QuantumCircuit, Aer, execute\n",
    "\n",
    "# Create a quantum circuit with one qubit\n",
    "qc = QuantumCircuit(2) \n",
    "\n",
    "# apply the Hadamard gate to the qubit\n",
    "qc.i(0)\n",
    "qc.h(1)\n",
    "\n",
    "backend = Aer.get_backend('unitary_simulator')\n",
    "unitary = execute(qc,backend).result().get_unitary()\n",
    "\n",
    "# Display the results\n",
    "unitary"
   ]
  },
  {
   "cell_type": "code",
   "execution_count": null,
   "metadata": {
    "id": "_Mws5S8nfoa7"
   },
   "outputs": [],
   "source": [
    "# Listing The run‐circuit helper function\n",
    "from qiskit import QuantumCircuit, Aer, execute\n",
    "from qiskit.visualization import plot_histogram\n",
    "import matplotlib.pyplot as plt\n",
    "\n",
    "def run_circuit(qc,simulator='statevector_simulator', shots=1, hist=True):\n",
    "    # Tell Qiskit how to simulate our circuit\n",
    "    backend = Aer.get_backend(simulator)\n",
    "\n",
    "    # execute the qc\n",
    "    results = execute(qc,backend, shots=shots).result().get_counts()\n",
    "\n",
    "    # plot the results\n",
    "    return plot_histogram(results, figsize=(18,4)) if hist else results"
   ]
  },
  {
   "cell_type": "code",
   "execution_count": null,
   "metadata": {
    "id": "BoPlGyY2frAJ"
   },
   "outputs": [],
   "source": [
    "# Listing Create an exemplary histogram\n",
    "qc = QuantumCircuit(4)\n",
    "qc.h([0,1,2,3])\n",
    "run_circuit(qc)"
   ]
  },
  {
   "cell_type": "code",
   "execution_count": null,
   "metadata": {
    "id": "_C9uJ63MftLt"
   },
   "outputs": [],
   "source": [
    "# Listing A single Hadamard gate\n",
    "qc = QuantumCircuit(4)\n",
    "qc.h(0)\n",
    "run_circuit(qc)"
   ]
  },
  {
   "cell_type": "code",
   "execution_count": null,
   "metadata": {
    "id": "s9hwrXzYfvOE"
   },
   "outputs": [],
   "source": [
    "# Listing Calculate the angle that represents a certain probability\n",
    "from math import asin, sqrt\n",
    "\n",
    "def prob_to_angle(prob):\n",
    "    \"\"\"\n",
    "    Converts a given P(psi) value into an equivalent theta value.\n",
    "    \"\"\"\n",
    "    return 2*asin(sqrt(prob))"
   ]
  },
  {
   "cell_type": "code",
   "execution_count": null,
   "metadata": {
    "id": "mfsrLUEJfxD0"
   },
   "outputs": [],
   "source": [
    "# Listing Specify the marginal probability\n",
    "# Specify the marginal probability\n",
    "event_a = 0.4\n",
    "\n",
    "qc = QuantumCircuit(4)\n",
    "\n",
    "# Set qubit to prior\n",
    "qc.ry(prob_to_angle(event_a), 0)\n",
    "\n",
    "run_circuit(qc)"
   ]
  },
  {
   "cell_type": "code",
   "execution_count": null,
   "metadata": {
    "id": "nLreA_k6fy7t"
   },
   "outputs": [],
   "source": [
    "# Listing Represent two marginal probabilities with a single qubit\n",
    "# Specify the marginal probabilities\n",
    "event_a = 0.4\n",
    "event_b = 0.8\n",
    "\n",
    "qc = QuantumCircuit(4)\n",
    "\n",
    "# Set qubit to prior\n",
    "qc.ry(prob_to_angle(event_a), 0)\n",
    "\n",
    "# Apply modifier\n",
    "qc.ry(prob_to_angle(event_b), 0)\n",
    "\n",
    "run_circuit(qc)"
   ]
  },
  {
   "cell_type": "code",
   "execution_count": null,
   "metadata": {
    "id": "Mx25QZROf1CA"
   },
   "outputs": [],
   "source": [
    "# Listing Each marginal probability uses a qubit\n",
    "# Specify the marginal probabilities\n",
    "event_a = 0.4\n",
    "event_b = 0.8\n",
    "\n",
    "qc = QuantumCircuit(4)\n",
    "\n",
    "# Set qubit to event_a\n",
    "qc.ry(prob_to_angle(event_a), 0)\n",
    "\n",
    "# Set fresh qubit to event_b\n",
    "qc.ry(prob_to_angle(event_b), 1)\n",
    "\n",
    "run_circuit(qc)"
   ]
  },
  {
   "cell_type": "code",
   "execution_count": null,
   "metadata": {
    "id": "0vjdN7kPf3RN"
   },
   "outputs": [],
   "source": [
    "# Listing A controlled RY‐gate\n",
    "# Specify the marginal probabilities\n",
    "event_a = 0.4\n",
    "event_b = 0.8\n",
    "\n",
    "qc = QuantumCircuit(4)\n",
    "\n",
    "# Set qubit to prior\n",
    "qc.ry(prob_to_angle(event_a), 0)\n",
    "\n",
    "# Apply half of the modifier\n",
    "qc.ry(prob_to_angle(event_b)/2, 1)\n",
    "\n",
    "# entangle qubits 0 and 1\n",
    "qc.cx(0,1)\n",
    "\n",
    "# Apply the other half of the modifier\n",
    "qc.ry(-prob_to_angle(event_b)/2, 1)\n",
    "\n",
    "# unentganle qubits 0 and 1\n",
    "qc.cx(0,1)\n",
    "\n",
    "run_circuit(qc)"
   ]
  },
  {
   "cell_type": "code",
   "execution_count": null,
   "metadata": {
    "id": "XHv9ABGWf5Q8"
   },
   "outputs": [],
   "source": [
    "# Listing The controlled RY‐gate of Qiskit\n",
    "# Specify the marginal probabilities\n",
    "event_a = 0.4\n",
    "event_b = 0.8\n",
    "\n",
    "qc = QuantumCircuit(4)\n",
    "\n",
    "# Set marginal probability\n",
    "qc.ry(prob_to_angle(event_a), 0)\n",
    "\n",
    "# Apply the controlled RY-gate\n",
    "qc.cry(prob_to_angle(event_b), 0, 1)\n",
    "\n",
    "run_circuit(qc)"
   ]
  },
  {
   "cell_type": "code",
   "execution_count": null,
   "metadata": {
    "id": "gUmZTXCkf7Oy"
   },
   "outputs": [],
   "source": [
    "# Listing Calculate the conditional probability for a modifier < 1\n",
    "# Specify the prior probability and the modifier\n",
    "prior = 0.4\n",
    "modifier = 0.9\n",
    "\n",
    "qc = QuantumCircuit(4)\n",
    "\n",
    "# Set qubit to prior\n",
    "qc.ry(prob_to_angle(prior), 0)\n",
    "\n",
    "# Apply the controlled RY-gate\n",
    "qc.cry(prob_to_angle(modifier), 0, 1)\n",
    "\n",
    "run_circuit(qc)"
   ]
  },
  {
   "cell_type": "code",
   "execution_count": null,
   "metadata": {
    "id": "ouM21d9Rf9Vb"
   },
   "outputs": [],
   "source": [
    "# Listing A modifier greater than 1\n",
    "# Specify the prior probability and the modifier\n",
    "prior = 0.4\n",
    "modifier = 1.2\n",
    "\n",
    "qc = QuantumCircuit(4)\n",
    "\n",
    "# Set qubit to prior\n",
    "qc.ry(prob_to_angle(prior), 0)\n",
    "\n",
    "# Apply modifier\n",
    "qc.cry(prob_to_angle(modifier), 0,1)\n",
    "\n",
    "run_circuit(qc)"
   ]
  },
  {
   "cell_type": "markdown",
   "metadata": {
    "id": "VX0KrQNJgBSo"
   },
   "source": [
    "\n",
    "\n",
    "\n",
    "\n",
    "We get a math domain error. Of course, we do because the function `prob_to_angle` is only defined for values between 0 and 1. For values greater than `1.0`, the arcsine is not defined. The arcsine is the reverse of the sine function. Its gradient at `0.0` and `1.0` tends to infinity. Therefore, we can't define the function for values greater than `1.0` in a meaningful way.\n",
    "\n",
    "Let's rethink our approach. If the modifier is greater than `1.0`, it increases the probability. The resulting probability must be bigger than the _prior_ probability. It must be greater by exactly $(modifier-1)\\cdot prior$.\n",
    "\n",
    "The transformation gates let us cut the overall probability of `1.0` into pieces. Why don't we separate the _prior_ not once but twice? Then, we apply the reduced _modifier_ ($modifier-1$) on one of the two states representing the _prior_. The sum of the untouched _prior_ and the applied reduced _modifier_ should be the conditional probability.\n",
    "\n",
    "We apply the prior to qubit 0 (line 8) and qubit 1 (line 11) in the following code. Then, we apply the reduced modifier to qubit 2 through an $R_Y$-gate controlled by qubit 0.\n"
   ]
  },
  {
   "cell_type": "code",
   "execution_count": null,
   "metadata": {
    "id": "Emuwj8r5f_V9"
   },
   "outputs": [],
   "source": [
    "# Listing Working with a reduced modifier\n",
    "# Specify the prior probability and the modifier\n",
    "prior = 0.4\n",
    "modifier = 1.2\n",
    "\n",
    "qc = QuantumCircuit(4)\n",
    "\n",
    "# Apply prior to qubit 0\n",
    "qc.ry(prob_to_angle(prior), 0)\n",
    "\n",
    "# Apply prior to qubit 1\n",
    "qc.ry(prob_to_angle(prior), 1)\n",
    "\n",
    "# Apply modifier to qubit 2\n",
    "qc.cry(prob_to_angle(modifier-1), 0,2)\n",
    "\n",
    "run_circuit(qc)"
   ]
  },
  {
   "cell_type": "code",
   "execution_count": null,
   "metadata": {
    "id": "W2u5EczKgFPW"
   },
   "outputs": [],
   "source": [
    "# Listing The overlap when applying the prior twice\n",
    "# Specify the prior probability and the modifier\n",
    "prior = 0.4\n",
    "modifier = 1.2\n",
    "\n",
    "qc = QuantumCircuit(4)\n",
    "\n",
    "# Apply prior to qubit 0\n",
    "qc.ry(prob_to_angle(prior), 0)\n",
    "\n",
    "# Apply prior to qubit 1\n",
    "qc.ry(prob_to_angle(prior), 1)\n",
    "\n",
    "run_circuit(qc)"
   ]
  },
  {
   "cell_type": "code",
   "execution_count": null,
   "metadata": {
    "id": "i0CCtOg_gHDA"
   },
   "outputs": [],
   "source": [
    "# Listing Applying the prior to qubit 1 from the remainder\n",
    "# Specify the prior probability and the modifier\n",
    "prior = 0.4\n",
    "modifier = 1.2\n",
    "\n",
    "qc = QuantumCircuit(4)\n",
    "\n",
    "# Apply prior to qubit 0\n",
    "qc.ry(prob_to_angle(prior), 0)\n",
    "\n",
    "# Apply prior to qubit 1\n",
    "qc.x(0)\n",
    "qc.cry(prob_to_angle(prior/(1-prior)), 0, 1)\n",
    "qc.x(0)\n",
    "\n",
    "run_circuit(qc)"
   ]
  },
  {
   "cell_type": "code",
   "execution_count": null,
   "metadata": {
    "id": "8FLYN4hLgJA9"
   },
   "outputs": [],
   "source": [
    "# Listing Apply the modifier on a separated prior\n",
    "# Specify the prior probability and the modifier\n",
    "prior = 0.4\n",
    "modifier = 1.2\n",
    "\n",
    "qc = QuantumCircuit(4)\n",
    "\n",
    "# Apply prior to qubit 0\n",
    "qc.ry(prob_to_angle(prior), 0)\n",
    "\n",
    "# Apply prior to qubit 1\n",
    "qc.x(0)\n",
    "qc.cry(prob_to_angle(prior/(1-prior)), 0, 1)\n",
    "qc.x(0)\n",
    "\n",
    "# Apply the modifier to qubit 2\n",
    "qc.cry(prob_to_angle(modifier-1), 0,2)\n",
    "\n",
    "run_circuit(qc)"
   ]
  },
  {
   "cell_type": "code",
   "execution_count": null,
   "metadata": {
    "id": "RghbDRQBgKy7"
   },
   "outputs": [],
   "source": [
    "# Listing Qubit 3 represents the posterior\n",
    "# Specify the prior probability and the modifier\n",
    "prior = 0.4\n",
    "modifier = 1.2\n",
    "\n",
    "qc = QuantumCircuit(4)\n",
    "\n",
    "# Apply prior to qubit 0\n",
    "qc.ry(prob_to_angle(prior), 0)\n",
    "\n",
    "# Apply prior to qubit 1\n",
    "qc.x(0)\n",
    "qc.cry(prob_to_angle(prior/(1-prior)), 0, 1)\n",
    "qc.x(0)\n",
    "\n",
    "# Apply the modifier to qubit 2\n",
    "qc.cry(prob_to_angle(modifier-1), 0,2)\n",
    "\n",
    "# Make qubit 3 represent the posterior\n",
    "qc.cx(1,3)\n",
    "qc.cx(2,3)\n",
    "\n",
    "run_circuit(qc)"
   ]
  },
  {
   "cell_type": "code",
   "execution_count": null,
   "metadata": {
    "id": "v0aeO2t6gM8A"
   },
   "outputs": [],
   "source": [
    "# Listing A prior greater than 0.5 and a modifier greater than 1\n",
    "# Specify the prior probability and the modifier\n",
    "prior = 0.6\n",
    "modifier = 1.2\n",
    "\n",
    "qc = QuantumCircuit(4)\n",
    "\n",
    "# Apply prior to qubit 0\n",
    "qc.ry(prob_to_angle(prior), 0)\n",
    "\n",
    "# Apply prior to qubit 1\n",
    "qc.x(0)\n",
    "qc.cry(prob_to_angle(prior/(1-prior)), 0, 1)\n",
    "qc.x(0)\n",
    "\n",
    "# Apply the modifier to qubit 2\n",
    "qc.cry(prob_to_angle(modifier-1), 0,2)\n",
    "\n",
    "# Make qubit 3 represent the posterior\n",
    "qc.cx(1,3)\n",
    "qc.cx(2,3)\n",
    "\n",
    "run_circuit(qc)"
   ]
  },
  {
   "cell_type": "markdown",
   "metadata": {
    "id": "yr6Un_V3gQ2A"
   },
   "source": [
    "Again, we get a `maths domain error.` Mathematically, it fails when calculating `(prior/(1-prior)` because the term would be greater than `1`, and thus, it is not a valid input for the `prob_to_angle`-function. For instance:\n",
    "$$0.6/(1.0-0.6)=0.6/0.4=1.5$$\n",
    "Solving this situation is a little tricky. I'd argue it is even a hack.\n",
    "\n",
    "If you're a mathematician, I'm quite sure you won't like it. If you're a programmer, you might accept it. Let's have a look first. Then, it's open for criticism.\n",
    "\n",
    "When the _prior_ is greater than `0.5`, and the _modifier_ is greater than `1.0`, the trick with using the _prior_ twice does not work because our overall probability must not exceed `1.0`.\n",
    "Of course, we could use the _prior_ to adjust the remaining probability to precisely apply the _modifier_ afterward. But in this case, we would need to know the _prior_ when we apply the _modifier_. This would not be different than initializing the qubit with the product of $prior*modifier$ in the first place.\n",
    "\n",
    "But we aim for a qubit system that represents a given prior and lets us apply a modifier without knowing the prior. So, we need to prepare the remainder $(1-prior)$ in a way that lets us work with it (that means we apply the reduced _modifier_) without knowing the _prior_.\n",
    "\n",
    "Rather than using the _prior_ when we apply the _modifier_ to the remainder, we pre-apply the _prior_ to the remainder with some auxiliary steps. For instance, we set aside a part that is `0.3` of the `prior.`\n",
    "\n",
    "We can do this in the same way we set aside the entire _prior_ earlier."
   ]
  },
  {
   "cell_type": "code",
   "execution_count": null,
   "metadata": {
    "id": "eRCV2myhgO6w"
   },
   "outputs": [],
   "source": [
    "# Listing Setting aside a part of the prior\n",
    "# Specify the prior probability\n",
    "prior = 0.6\n",
    "\n",
    "qc = QuantumCircuit(4)\n",
    "\n",
    "# Apply prior to qubit 0\n",
    "qc.ry(prob_to_angle(prior), 0)\n",
    "\n",
    "# Apply 0.3*prior to qubit 1\n",
    "qc.x(0)\n",
    "qc.cry(prob_to_angle(0.3*prior/(1-prior)), 0, 1)\n",
    "\n",
    "run_circuit(qc)"
   ]
  },
  {
   "cell_type": "code",
   "execution_count": null,
   "metadata": {
    "id": "MUKprnZfgUVd"
   },
   "outputs": [],
   "source": [
    "# Listing Calculating the posterior for prior > 0.5\n",
    "# Specify the prior probability and the modifier\n",
    "prior = 0.6\n",
    "modifier = 1.2\n",
    "\n",
    "qc = QuantumCircuit(4)\n",
    "\n",
    "# Apply prior to qubit 0\n",
    "qc.ry(prob_to_angle(prior), 0)\n",
    "\n",
    "# Apply 0.3*prior to qubit 1\n",
    "qc.x(0)\n",
    "qc.cry(prob_to_angle(0.3*prior/(1-prior)), 0, 1)\n",
    "\n",
    "# Apply the modifier to qubit 2\n",
    "qc.cry(prob_to_angle((modifier-1)/0.3), 1,2)\n",
    "\n",
    "# Make qubit 3 represent the posterior\n",
    "qc.x(0)\n",
    "qc.cx(0,3)\n",
    "qc.cx(2,3)\n",
    "\n",
    "run_circuit(qc)"
   ]
  },
  {
   "cell_type": "code",
   "execution_count": null,
   "metadata": {
    "id": "b6I-V4rUgWJh"
   },
   "outputs": [],
   "source": [
    "# Listing Calculating the posterior with a prior greater than 0.5\n",
    "from math import ceil\n",
    "from qiskit import ClassicalRegister, QuantumRegister\n",
    "\n",
    "# Specify the prior probability and the modifier\n",
    "prior = 0.6\n",
    "modifier = 1.2\n",
    "\n",
    "# Prepare the circuit with qubits and a classical bit to hold the measurement\n",
    "qr = QuantumRegister(12)\n",
    "cr = ClassicalRegister(1)\n",
    "qc = QuantumCircuit(qr, cr)\n",
    "\n",
    "# Apply prior to qubit 0\n",
    "qc.ry(prob_to_angle(prior), 0)\n",
    "\n",
    "# Separate parts of the prior\n",
    "qc.x(0)\n",
    "for i in range(1,10):\n",
    "    qc.cry(prob_to_angle(min(1, (i*0.1)*prior/(1-prior))), 0,i)\n",
    "\n",
    "\n",
    "# Apply the modifier\n",
    "pos = ceil((modifier-1)*10)\n",
    "qc.cry(prob_to_angle((modifier-1)/(pos*0.1)), pos,11)\n",
    "\n",
    "# Make qubit 11 represent the posterior\n",
    "qc.x(0)\n",
    "qc.cx(0,11)\n",
    "\n",
    "# measure the qubit\n",
    "qc.measure(qr[11], cr[0])\n",
    "\n",
    "run_circuit(qc, simulator='qasm_simulator', shots=1000 )"
   ]
  }
 ],
 "metadata": {
  "colab": {
   "authorship_tag": "ABX9TyOsGNIg3PstvEe1CKuu7Mq0",
   "collapsed_sections": [
    "IdDvoellflOL"
   ],
   "name": "chapter_06.ipynb",
   "provenance": []
  },
  "kernelspec": {
   "display_name": "Python 3 (ipykernel)",
   "language": "python",
   "name": "python3"
  },
  "language_info": {
   "codemirror_mode": {
    "name": "ipython",
    "version": 3
   },
   "file_extension": ".py",
   "mimetype": "text/x-python",
   "name": "python",
   "nbconvert_exporter": "python",
   "pygments_lexer": "ipython3",
   "version": "3.8.10"
  }
 },
 "nbformat": 4,
 "nbformat_minor": 1
}
