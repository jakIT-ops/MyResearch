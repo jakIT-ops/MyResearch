{
 "cells": [
  {
   "cell_type": "markdown",
   "metadata": {
    "id": "vV9LvbNlecmO"
   },
   "source": [
    "# Chapter 5\n",
    "\n",
    "## Section You Don't Need To Be A Mathematician"
   ]
  },
  {
   "cell_type": "code",
   "execution_count": null,
   "metadata": {
    "id": "Nlr7jUvLeUzJ"
   },
   "outputs": [],
   "source": [
    "# Listing If then else in Python Syntax\n",
    "#if x and y:# A statement to evaluate in boolean logic\n",
    "#    doSomething () # if the statement evaluiates to True\n",
    "#else:\n",
    "#    doSomethingElse () #otherwise"
   ]
  },
  {
   "cell_type": "code",
   "execution_count": null,
   "metadata": {
    "id": "_8thuubvefjB"
   },
   "outputs": [],
   "source": [
    "# Listing Boolean logic in Python\n",
    "P = True\n",
    "Q = False\n",
    "\n",
    "print('not P is {}'.format(not P))\n",
    "print('P and Q is {}'.format(P and Q))\n",
    "print('P or Q is {}'.format(P or Q))\n",
    "print('P and not Q is {}'.format(P and not Q))"
   ]
  },
  {
   "cell_type": "code",
   "execution_count": null,
   "metadata": {
    "id": "IN-M97DfehK8"
   },
   "outputs": [],
   "source": [
    "# Listing A reimplementation of or\n",
    "def my_or(p, q):\n",
    "    return not (not p and not q)\n",
    "\n",
    "print('P | Q | P or Q')\n",
    "print('--------------')\n",
    "print('T | T | {}'.format(my_or(True, True)))\n",
    "print('T | F | {}'.format(my_or(True, False)))\n",
    "print('F | T | {}'.format(my_or(False, True)))\n",
    "print('F | F | {}'.format(my_or(False, False)))"
   ]
  },
  {
   "cell_type": "code",
   "execution_count": null,
   "metadata": {
    "id": "q0IR-nnYejPA"
   },
   "outputs": [],
   "source": [
    "# Listing Reversing the qubit states\n",
    "from math import sqrt\n",
    "\n",
    "# define the initital states\n",
    "psi = [0.5, sqrt(3)/2]\n",
    "always_0 = [1, 0]\n",
    "always_1 = [0, 1]\n",
    "\n",
    "def transform(name, state, f):\n",
    "    print ('{}: [{:.2f}, {:.2f}]  result: [{:.2f}, {:.2f}]'.format(name, *state, *f(state)))\n",
    "\n",
    "def reverse_state(arr):\n",
    "    return list(reversed(arr))\n",
    "\n",
    "print(\"----------- Reversed states: ----------\")\n",
    "transform(\"psi\", psi, reverse_state)\n",
    "transform(\"|0>\", always_0, reverse_state)\n",
    "transform(\"|1>\", always_1, reverse_state)"
   ]
  },
  {
   "cell_type": "code",
   "execution_count": null,
   "metadata": {
    "id": "MNMPrNZCelL8"
   },
   "outputs": [],
   "source": [
    "# Listing The measured qubit\n",
    "from qiskit import execute, Aer, QuantumCircuit\n",
    "from qiskit.visualization import plot_histogram\n",
    "\n",
    "# Create a quantum circuit with one qubit\n",
    "qc = QuantumCircuit(1)  \n",
    "\n",
    " # Define initial_state\n",
    "qc.initialize(psi, 0) \n",
    "\n",
    "# Apply the X-gate\n",
    "qc.x(0)\n",
    "\n",
    "# Tell Qiskit how to simulate our circuit\n",
    "backend = Aer.get_backend('statevector_simulator') \n",
    "\n",
    "# Do the simulation, returning the result\n",
    "result = execute(qc,backend).result() \n",
    "counts = result.get_counts()\n",
    "plot_histogram(counts)"
   ]
  },
  {
   "cell_type": "code",
   "execution_count": null,
   "metadata": {
    "id": "NcOe11vqenJU"
   },
   "outputs": [],
   "source": [
    "# Listing The measured qubit\n",
    "qc.draw('mpl')"
   ]
  },
  {
   "cell_type": "code",
   "execution_count": null,
   "metadata": {
    "id": "-JMBqdhFepFj"
   },
   "outputs": [],
   "source": [
    "# Listing Self‐made reverse function\n",
    "def adjust_weight(state, weights):\n",
    "    return state[0]*weights[0]+state[1]*weights[1]\n",
    "\n",
    "print ('reversed psi: [{:.2f}, {:.2f}]'.format(\n",
    "    adjust_weight(psi, [0,1]),\n",
    "    adjust_weight(psi, [1,0])\n",
    "))"
   ]
  },
  {
   "cell_type": "markdown",
   "metadata": {
    "id": "Hc2KFNDRerJq"
   },
   "source": [
    "## Section Quantumic Math - Are You ReadyFor The Red Pill?"
   ]
  },
  {
   "cell_type": "code",
   "execution_count": null,
   "metadata": {
    "id": "6oVz87BYetiB"
   },
   "outputs": [],
   "source": [
    "# Listing The Hadamard gate\n",
    "from qiskit import QuantumCircuit, Aer, execute\n",
    "from qiskit.visualization import plot_histogram\n",
    "import matplotlib.pyplot as plt\n",
    "\n",
    "# Create a quantum circuit with one qubit\n",
    "qc = QuantumCircuit(1) \n",
    "\n",
    "# Define initial_state as |0>\n",
    "initial_state = [1,0] \n",
    "qc.initialize(initial_state, 0)\n",
    "\n",
    "# apply the Hadamard gate to the qubit\n",
    "qc.h(0)\n",
    "\n",
    " # Tell Qiskit how to simulate our circuit\n",
    "backend = Aer.get_backend('statevector_simulator')\n",
    "\n",
    "# Do the simulation, returning the result\n",
    "result = execute(qc,backend).result() \n",
    "\n",
    "# get the probability distribution\n",
    "counts = result.get_counts()\n",
    "\n",
    "# Show the histogram\n",
    "plot_histogram(counts)"
   ]
  },
  {
   "cell_type": "code",
   "execution_count": null,
   "metadata": {
    "id": "bLcyXVgJevbj"
   },
   "outputs": [],
   "source": [
    "# Listing The Hadamard gate reverses itself\n",
    "from qiskit import QuantumCircuit, Aer, execute\n",
    "from qiskit.visualization import plot_histogram\n",
    "import matplotlib.pyplot as plt\n",
    "\n",
    "# Create a quantum circuit with one qubit\n",
    "qc = QuantumCircuit(1) \n",
    "\n",
    "# Define initial_state as |1>\n",
    "initial_state = [0, 1] \n",
    "qc.initialize(initial_state, 0)\n",
    "\n",
    "# apply the Hadamard gate to the qubit\n",
    "qc.h(0)\n",
    "\n",
    "# apply the Hadamard gate again to reverse it \n",
    "qc.h(0)\n",
    "\n",
    "# Tell Qiskit how to simulate our circuit\n",
    "backend = Aer.get_backend('statevector_simulator')\n",
    "\n",
    "# Do the simulation, returning the result\n",
    "result = execute(qc,backend).result() \n",
    "\n",
    "# get the probability distribution\n",
    "counts = result.get_counts()\n",
    "\n",
    "# Show the histogram\n",
    "plot_histogram(counts)"
   ]
  },
  {
   "cell_type": "markdown",
   "metadata": {
    "id": "KSfFCfHje0Fb"
   },
   "source": [
    "## Section If You Want To Gamble WithQuantum Computing..."
   ]
  },
  {
   "cell_type": "code",
   "execution_count": null,
   "metadata": {
    "id": "hFKX183bexpV"
   },
   "outputs": [],
   "source": [
    "# Listing Weighted initial state\n",
    "\n",
    "from math import sqrt\n",
    "from qiskit import QuantumCircuit, Aer, execute\n",
    "from qiskit.visualization import plot_histogram\n",
    "import matplotlib.pyplot as plt\n",
    "\n",
    "# Define state |psi>\n",
    "initial_state = [sqrt(0.4), sqrt(0.6)] \n",
    "\n",
    "# Redefine the quantum circuit\n",
    "qc = QuantumCircuit(1)\n",
    "\n",
    "# Initialise the 0th qubit in the state `initial_state`\n",
    "qc.initialize(initial_state, 0) \n",
    "\n",
    "# Tell Qiskit how to simulate our circuit\n",
    "backend = Aer.get_backend('statevector_simulator')\n",
    "\n",
    "# execute the qc\n",
    "results = execute(qc,backend).result().get_counts()\n",
    "\n",
    "# plot the results\n",
    "plot_histogram(results)"
   ]
  },
  {
   "cell_type": "code",
   "execution_count": null,
   "metadata": {
    "id": "2PEvmw4Pe3aQ"
   },
   "outputs": [],
   "source": [
    "# Listing Rotate the qubit state\n",
    "from math import pi\n",
    "\n",
    "# Define state |0>\n",
    "initial_state = [1, 0] \n",
    "\n",
    "# Redefine the quantum circuit\n",
    "qc = QuantumCircuit(1)\n",
    "\n",
    "# Initialise the 0th qubit in the state `initial_state`\n",
    "qc.initialize(initial_state, 0) \n",
    "\n",
    "# Rotate the state by a quarter of a half circle.\n",
    "qc.ry(pi/4,0)\n",
    "\n",
    "# Tell Qiskit how to simulate our circuit\n",
    "backend = Aer.get_backend('statevector_simulator')\n",
    "\n",
    "# execute the qc\n",
    "results = execute(qc,backend).result().get_counts()\n",
    "\n",
    "# plot the results\n",
    "plot_histogram(results)"
   ]
  },
  {
   "cell_type": "code",
   "execution_count": null,
   "metadata": {
    "id": "Gl53ZQese5TN"
   },
   "outputs": [],
   "source": [
    "# Listing Calculate the angle that represents a certain probability\n",
    "from math import asin\n",
    "\n",
    "def prob_to_angle(prob):\n",
    "    \"\"\"\n",
    "    Converts a given P(psi) value into an equivalent theta value.\n",
    "    \"\"\"\n",
    "    return 2*asin(sqrt(prob))"
   ]
  },
  {
   "cell_type": "code",
   "execution_count": null,
   "metadata": {
    "id": "zJIJ_IhTe7qs"
   },
   "outputs": [],
   "source": [
    "# Listing Rotate the qubit state\n",
    "from math import pi, sqrt\n",
    "\n",
    "# Define state |0>\n",
    "initial_state = [1,0] \n",
    "\n",
    "# Redefine the quantum circuit\n",
    "qc = QuantumCircuit(1)\n",
    "\n",
    "# Initialise the 0th qubit in the state `initial_state`\n",
    "qc.initialize(initial_state, 0) \n",
    "\n",
    "# Rotate the state by 60%\n",
    "qc.ry(prob_to_angle(0.6), 0)\n",
    "\n",
    "# Tell Qiskit how to simulate our circuit\n",
    "backend = Aer.get_backend('statevector_simulator')\n",
    "\n",
    "# execute the qc\n",
    "results = execute(qc,backend).result().get_counts()\n",
    "\n",
    "# plot the results\n",
    "plot_histogram(results)"
   ]
  },
  {
   "cell_type": "code",
   "execution_count": null,
   "metadata": {
    "id": "PrBvSaT9e-AK"
   },
   "outputs": [],
   "source": [
    "# Listing Rotate the qubit state with initial state\n",
    "from math import pi, sqrt\n",
    "\n",
    "# Define state |+>\n",
    "initial_state = [1/sqrt(2), 1/sqrt(2)] \n",
    "\n",
    "# Redefine the quantum circuit\n",
    "qc = QuantumCircuit(1)\n",
    "\n",
    "# Initialise the 0th qubit in the state `initial_state`\n",
    "qc.initialize(initial_state, 0) \n",
    "\n",
    "# Rotate the state by 10%\n",
    "qc.ry(prob_to_angle(0.1), 0)\n",
    "\n",
    "# Tell Qiskit how to simulate our circuit\n",
    "backend = Aer.get_backend('statevector_simulator')\n",
    "\n",
    "# execute the qc\n",
    "results = execute(qc,backend).result().get_counts()\n",
    "\n",
    "# plot the results\n",
    "plot_histogram(results)"
   ]
  },
  {
   "cell_type": "code",
   "execution_count": null,
   "metadata": {
    "id": "QWbw9lyxfACA"
   },
   "outputs": [],
   "source": [
    "# Listing Rotate the qubit state correctly\n",
    "from math import asin\n",
    "\n",
    "def prob_to_angle_with_prior(prob, prior):\n",
    "    \"\"\"\n",
    "    Converts a given P(psi) value into an equivalent theta value.\n",
    "    \"\"\"\n",
    "    return 2*asin(sqrt(prob+prior))-2*asin(sqrt(prior))\n",
    "\n",
    "# Define state |+>\n",
    "initial_state = [1/sqrt(2), 1/sqrt(2)] \n",
    "\n",
    "# Redefine the quantum circuit\n",
    "qc = QuantumCircuit(1)\n",
    "\n",
    "# Initialise the 0th qubit in the state `initial_state`\n",
    "qc.initialize(initial_state, 0) \n",
    "\n",
    "# Rotate the state by 10%\n",
    "qc.ry(prob_to_angle_with_prior(0.1, 0.5), 0)\n",
    "\n",
    "# Tell Qiskit how to simulate our circuit\n",
    "backend = Aer.get_backend('statevector_simulator')\n",
    "\n",
    "# execute the qc\n",
    "results = execute(qc,backend).result().get_counts()\n",
    "\n",
    "# plot the results\n",
    "plot_histogram(results)"
   ]
  },
  {
   "cell_type": "code",
   "execution_count": null,
   "metadata": {
    "id": "VXJHopxqfCIp"
   },
   "outputs": [],
   "source": []
  }
 ],
 "metadata": {
  "colab": {
   "authorship_tag": "ABX9TyMKP9XKuoa1Vm7ZK9C5cfbk",
   "collapsed_sections": [
    "Hc2KFNDRerJq",
    "KSfFCfHje0Fb"
   ],
   "name": "chapter_05.ipynb",
   "provenance": []
  },
  "kernelspec": {
   "display_name": "Python 3 (ipykernel)",
   "language": "python",
   "name": "python3"
  },
  "language_info": {
   "codemirror_mode": {
    "name": "ipython",
    "version": 3
   },
   "file_extension": ".py",
   "mimetype": "text/x-python",
   "name": "python",
   "nbconvert_exporter": "python",
   "pygments_lexer": "ipython3",
   "version": "3.8.10"
  }
 },
 "nbformat": 4,
 "nbformat_minor": 1
}
