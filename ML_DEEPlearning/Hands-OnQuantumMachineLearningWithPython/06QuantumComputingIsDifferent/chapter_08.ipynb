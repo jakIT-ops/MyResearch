{
 "cells": [
  {
   "cell_type": "markdown",
   "metadata": {
    "id": "_g4Mif-fhTXZ"
   },
   "source": [
    "# Chapter 8\n",
    "\n",
    "## Section The No-Cloning Theorem"
   ]
  },
  {
   "cell_type": "code",
   "execution_count": null,
   "metadata": {
    "id": "fYbzyPT_hQFo"
   },
   "outputs": [],
   "source": [
    "# Listing Copying a variable\n",
    "my_var = 1\n",
    "copy_of_my_var = my_var\n",
    "print (my_var, copy_of_my_var)"
   ]
  },
  {
   "cell_type": "markdown",
   "metadata": {
    "id": "8qmXg_jchbkc"
   },
   "source": [
    "## Section How To Solve A Problem WithQuantum Computing"
   ]
  },
  {
   "cell_type": "code",
   "execution_count": null,
   "metadata": {
    "id": "ntOyRal1hd_i"
   },
   "outputs": [],
   "source": [
    "# Listing Deutsch's algorithm\n",
    "from math import sqrt\n",
    "from qiskit import QuantumCircuit, QuantumRegister,ClassicalRegister, Aer, execute\n",
    "from qiskit.visualization import plot_histogram\n",
    "\n",
    "def solve(oracle):\n",
    "    \"\"\"\n",
    "    A reusable function that identifies whether the oracle represents\n",
    "    a constant or a balanced function.\n",
    "    \"\"\"\n",
    "\n",
    "    qu = QuantumRegister(2)\n",
    "    cl = ClassicalRegister(1)\n",
    "\n",
    "    # initialize the circuit\n",
    "    qc = QuantumCircuit(qu,cl)\n",
    "\n",
    "    # Prepare the input state of the oracle\n",
    "    qc.x(1)\n",
    "    \n",
    "    qc.h(0)\n",
    "    qc.h(1)\n",
    "\n",
    "    # Apply the Oracle\n",
    "    oracle(qc)\n",
    "\n",
    "    # Prepare the output state\n",
    "    qc.h(0)\n",
    "\n",
    "    # measure qubit-0\n",
    "    qc.measure(qu[0], cl[0])\n",
    "\n",
    "    # Tell Qiskit how to simulate our circuit\n",
    "    backend = Aer.get_backend('qasm_simulator')\n",
    "\n",
    "    # execute the qc\n",
    "    results = execute(qc,backend, shots = 1000).result().get_counts()\n",
    "\n",
    "    # plot the results\n",
    "    return plot_histogram(results)"
   ]
  },
  {
   "cell_type": "code",
   "execution_count": null,
   "metadata": {
    "id": "2L4em51xhh6x"
   },
   "outputs": [],
   "source": [
    "# Listing Apply the gate o‐0\n",
    "def o_0(qc):\n",
    "    pass\n",
    "\n",
    "solve(o_0)"
   ]
  },
  {
   "cell_type": "code",
   "execution_count": null,
   "metadata": {
    "id": "S3UIH0jEhlc5"
   },
   "outputs": [],
   "source": [
    "# Listing Apply the gate o‐1\n",
    "def o_1(qc):\n",
    "    qc.cx(0,1)\n",
    "\n",
    "solve(o_1)"
   ]
  },
  {
   "cell_type": "code",
   "execution_count": null,
   "metadata": {
    "id": "WDHl6-VLhnVA"
   },
   "outputs": [],
   "source": [
    "# Listing Apply the gate o‐2\n",
    "def o_2(qc):\n",
    "    qc.x(0)\n",
    "    qc.cx(0,1)\n",
    "    qc.x(0)\n",
    "\n",
    "solve(o_2)"
   ]
  },
  {
   "cell_type": "code",
   "execution_count": null,
   "metadata": {
    "id": "jnSf4oz9hpLX"
   },
   "outputs": [],
   "source": [
    "# Listing Apply the gate o‐3\n",
    "def o_3(qc):\n",
    "    qc.x(1)\n",
    "\n",
    "solve(o_3)"
   ]
  },
  {
   "cell_type": "code",
   "execution_count": null,
   "metadata": {
    "id": "6mVY4OgDhrDh"
   },
   "outputs": [],
   "source": [
    "# Listing The code the magician created\n",
    "from qiskit import QuantumCircuit, Aer, execute\n",
    "from qiskit.visualization import plot_histogram\n",
    "import matplotlib.pyplot as plt\n",
    "\n",
    "def run_with_oracle(oracle):\n",
    "\n",
    "    # Create a quantum circuit with one qubit\n",
    "    qc = QuantumCircuit(1) \n",
    "\n",
    "    # toss the coin\n",
    "    qc.h(0)\n",
    "\n",
    "    # apply the oracle\n",
    "    oracle(qc)\n",
    "\n",
    "    # catch the coin\n",
    "    qc.h(0)\n",
    "\n",
    "    # Tell Qiskit how to simulate our circuit\n",
    "    backend = Aer.get_backend('statevector_simulator')\n",
    "\n",
    "    # Do the simulation, returning the result\n",
    "    result = execute(qc,backend).result() \n",
    "\n",
    "    # get the probability distribution\n",
    "    return result.get_counts()"
   ]
  },
  {
   "cell_type": "code",
   "execution_count": null,
   "metadata": {
    "id": "41sg_RQphtaD"
   },
   "outputs": [],
   "source": [
    "# Listing Run the heads up prediction\n",
    "plot_histogram(run_with_oracle(lambda qc: qc.i(0)))"
   ]
  },
  {
   "cell_type": "code",
   "execution_count": null,
   "metadata": {
    "id": "tPpdhxf1hvxB"
   },
   "outputs": [],
   "source": [
    "# Listing Run the tails up prediction\n",
    "from math import pi\n",
    "plot_histogram(run_with_oracle(lambda qc: qc.ry(pi, 0)))"
   ]
  }
 ],
 "metadata": {
  "colab": {
   "authorship_tag": "ABX9TyMNUGvcyzeqoymI8cMzfioC",
   "collapsed_sections": [],
   "name": "chapter_08.ipynb",
   "provenance": []
  },
  "kernelspec": {
   "display_name": "Python 3 (ipykernel)",
   "language": "python",
   "name": "python3"
  },
  "language_info": {
   "codemirror_mode": {
    "name": "ipython",
    "version": 3
   },
   "file_extension": ".py",
   "mimetype": "text/x-python",
   "name": "python",
   "nbconvert_exporter": "python",
   "pygments_lexer": "ipython3",
   "version": "3.8.10"
  }
 },
 "nbformat": 4,
 "nbformat_minor": 1
}
