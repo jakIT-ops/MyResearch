{
 "cells": [
  {
   "cell_type": "markdown",
   "metadata": {
    "id": "iRkRKWDLWMj_"
   },
   "source": [
    "# Chapter 3\n",
    "\n",
    "## Section Exploring the Quantum States"
   ]
  },
  {
   "cell_type": "code",
   "execution_count": null,
   "metadata": {
    "id": "RMXGlzAxWCfA"
   },
   "outputs": [],
   "source": [
    "# Listing Verify Qiskit version\n",
    "import qiskit\n",
    "qiskit.__qiskit_version__"
   ]
  },
  {
   "cell_type": "code",
   "execution_count": null,
   "metadata": {
    "id": "LJ8IV_arWR0z"
   },
   "outputs": [],
   "source": [
    "# Listing The first qubit\n",
    "from qiskit import QuantumCircuit\n",
    "\n",
    "# Create a quantum circuit with one qubit\n",
    "qc = QuantumCircuit(1)\n",
    "\n",
    "# Define initial_state as |1>\n",
    "initial_state = [0,1]\n",
    "\n",
    "# Apply initialization operation to the qubit at position 0\n",
    "qc.initialize(initial_state, 0) "
   ]
  },
  {
   "cell_type": "code",
   "execution_count": null,
   "metadata": {
    "id": "y44wxqPtWVYD"
   },
   "outputs": [],
   "source": [
    "# Listing Prepare the simulation backend\n",
    "from qiskit import execute, Aer\n",
    "\n",
    "# Tell Qiskit how to simulate our circuit\n",
    "backend = Aer.get_backend('statevector_simulator') \n",
    "\n",
    "# Do the simulation, returning the result\n",
    "result = execute(qc,backend).result()"
   ]
  },
  {
   "cell_type": "code",
   "execution_count": null,
   "metadata": {
    "id": "7G8AMChvWXcA"
   },
   "outputs": [],
   "source": [
    "# Listing The measured qubit\n",
    "from qiskit.visualization import plot_histogram\n",
    "import matplotlib.pyplot as plt\n",
    "\n",
    "# get the probability distribution\n",
    "counts = result.get_counts()\n",
    "\n",
    "# Show the histogram\n",
    "plot_histogram(counts)"
   ]
  },
  {
   "cell_type": "code",
   "execution_count": null,
   "metadata": {
    "id": "gtF3GR1IWZTB"
   },
   "outputs": [],
   "source": [
    "# Listing First attempt to superpose two states\n",
    "# Define state |psi>\n",
    "initial_state = [1, 1]\n",
    "\n",
    "# Redefine the quantum circuit\n",
    "qc = QuantumCircuit(1)\n",
    "\n",
    "# Initialise the 0th qubit in the state `initial_state`\n",
    "qc.initialize(initial_state, 0) \n",
    "\n",
    "# execute the qc\n",
    "results = execute(qc,backend).result().get_counts()\n",
    "\n",
    "# plot the results\n",
    "plot_histogram(results)"
   ]
  },
  {
   "cell_type": "markdown",
   "metadata": {
    "id": "lJud1O58Wd9m"
   },
   "source": [
    "\n",
    "\n",
    "\n",
    "\n",
    "It didn't quite work. It tells us: `QiskitError: 'Sum of amplitudes-squared does not equal one.'`.\n",
    "\n",
    "The amplitudes are the values in our array. They are proportional to probabilities. And all the probabilities should add up to exactly 1 ($100\\%$). We need to add weights to the quantum states $|0\\rangle$ and $|1\\rangle$. Let's call them $\\alpha$ and $\\beta$.\n",
    "\n",
    "We weight $|0\\rangle$ with $\\alpha$ and $|1\\rangle$ with $\\beta$. Like this: \n",
    "$$|\\psi\\rangle = \\alpha|0\\rangle + \\beta|1\\rangle =\\begin{bmatrix}1\\cdot\\alpha+0\\cdot\\beta\\\\0\\cdot\\alpha+1\\cdot\\beta\\end{bmatrix}= \\begin{bmatrix}\\alpha\\\\\\beta\\end{bmatrix}$$\n",
    "Amplitudes are proportional to probabilities. We need to normalize them so that $\\alpha^2 + \\beta^2 = 1$. If both states $|0\\rangle$ and $|1\\rangle$ should have the same weight, then $\\alpha = \\beta$. And therefore, we can solve our equation to $\\alpha$:\n",
    "$$\\alpha^2 + \\alpha^2 = 1 \\Leftrightarrow 2 \\cdot \\alpha^2 = 1 \\Leftrightarrow \\alpha^2 = \\frac{1}{2}\\Leftrightarrow \\alpha = \\frac{1}{\\sqrt{2}}$$\n",
    "And we insert the value for both $\\alpha$ and $\\beta$ (both are equal). Let's try this quantum state:\n",
    "$$|\\psi\\rangle = \\frac{1}{\\sqrt{2}}|0\\rangle + \\frac{1}{\\sqrt{2}}|1\\rangle = \\begin{bmatrix}\\frac{1}{\\sqrt{2}}\\\\\\frac{1}{\\sqrt{2}}\\end{bmatrix}$$\n",
    "The corresponding array in Python is: `[1/sqrt(2), 1/sqrt(2)]`. Don't forget to import `sqrt`.\n",
    "\n"
   ]
  },
  {
   "cell_type": "code",
   "execution_count": null,
   "metadata": {
    "id": "ySxK7rKIWe2X"
   },
   "outputs": [],
   "source": [
    "# Listing Weighted initial state\n",
    "from math import sqrt\n",
    "\n",
    "# Define state |psi>\n",
    "initial_state = [1/sqrt(2), 1/sqrt(2)] \n",
    "\n",
    "# Redefine the quantum circuit\n",
    "qc = QuantumCircuit(1)\n",
    "\n",
    "# Initialise the 0th qubit in the state `initial_state`\n",
    "qc.initialize(initial_state, 0) \n",
    "\n",
    "# execute the qc\n",
    "results = execute(qc,backend).result().get_counts()\n",
    "\n",
    "# plot the results\n",
    "plot_histogram(results)"
   ]
  },
  {
   "cell_type": "code",
   "execution_count": null,
   "metadata": {
    "id": "QQoa_JxyWhmS"
   },
   "outputs": [],
   "source": [
    "# Listing The qubit with a probability of 0.25 to result in 0\n",
    "from qiskit import QuantumCircuit, execute, Aer\n",
    "from qiskit.visualization import plot_histogram\n",
    "from math import sqrt\n",
    "\n",
    "qc = QuantumCircuit(1)\n",
    "initial_state = [1/2, sqrt(3)/2] # Here, we insert the state\n",
    "qc.initialize(initial_state, 0)\n",
    "backend = Aer.get_backend('statevector_simulator')\n",
    "result = execute(qc,backend).result()\n",
    "counts = result.get_counts()\n",
    "plot_histogram(counts)"
   ]
  },
  {
   "cell_type": "markdown",
   "metadata": {
    "id": "9fFoZKdwWpAj"
   },
   "source": [
    "## Section Bypassing The Normalization"
   ]
  },
  {
   "cell_type": "code",
   "execution_count": null,
   "metadata": {
    "id": "UHCiCd6oWmSr"
   },
   "outputs": [],
   "source": [
    "# Listing Using theta to specify the quantum state vector\n",
    "from math import pi, cos, sin\n",
    "from qiskit import QuantumCircuit, Aer, execute\n",
    "from qiskit.visualization import plot_histogram\n",
    "\n",
    "def get_state (theta):\n",
    "    \"\"\"returns a valid state vector\"\"\"\n",
    "    return [cos(theta/2), sin(theta/2)]\n",
    "\n",
    "# play with the values for theta to get a feeling\n",
    "theta = -pi/2 # affects the probabilities\n",
    "\n",
    "\n",
    "# create, initialize, and execute the quantum circuit\n",
    "qc = QuantumCircuit(1)\n",
    "qc.initialize(get_state(theta), 0) \n",
    "backend = Aer.get_backend('statevector_simulator') \n",
    "result = execute(qc,backend).result()\n",
    "counts = result.get_counts()\n",
    "\n",
    "# Show the histogram\n",
    "plot_histogram(counts)"
   ]
  },
  {
   "cell_type": "markdown",
   "metadata": {
    "id": "T63VP4vsWwSJ"
   },
   "source": [
    "## Section Exploring The Observer Effect"
   ]
  },
  {
   "cell_type": "code",
   "execution_count": null,
   "metadata": {
    "id": "Gmjtd2AtWsYv"
   },
   "outputs": [],
   "source": [
    "# Listing A circuit without measurement\n",
    "from qiskit import QuantumCircuit, execute, Aer\n",
    "from qiskit.visualization import plot_histogram\n",
    "from math import sqrt\n",
    "\n",
    "# Create a quantum circuit with one qubit\n",
    "qc = QuantumCircuit(1)  \n",
    "\n",
    "# Define state |Psi>\n",
    "initial_state = [1/sqrt(2), 1/sqrt(2)] \n",
    "\n",
    "# Apply initialization operation to the qubit at position 0\n",
    "qc.initialize(initial_state, 0) \n",
    "\n",
    "# Tell Qiskit how to simulate our circuit\n",
    "backend = Aer.get_backend('statevector_simulator') \n",
    "\n",
    "# Do the simulation, returning the result\n",
    "result = execute(qc,backend).result()\n",
    "\n",
    "# Get the data and display histogram\n",
    "counts = result.get_counts()\n",
    "plot_histogram(counts)"
   ]
  },
  {
   "cell_type": "code",
   "execution_count": null,
   "metadata": {
    "id": "JAObgL2rWzvq"
   },
   "outputs": [],
   "source": [
    "# Listing Draw the circuit\n",
    "qc.draw(output='text')"
   ]
  },
  {
   "cell_type": "code",
   "execution_count": null,
   "metadata": {
    "id": "YaeVc2tJW1vG"
   },
   "outputs": [],
   "source": [
    "# Listing Circuit with measurement\n",
    "qc = QuantumCircuit(1)\n",
    "qc.initialize(initial_state, 0)\n",
    "\n",
    "# observe the qubit\n",
    "qc.measure_all()\n",
    "\n",
    "# Do the simulation, returning the result\n",
    "result = execute(qc,backend).result() \n",
    "counts = result.get_counts()\n",
    "plot_histogram(counts)"
   ]
  },
  {
   "cell_type": "code",
   "execution_count": null,
   "metadata": {
    "id": "2Dp5WkwZW3wY"
   },
   "outputs": [],
   "source": [
    "# Listing Another circuit with measurement\n",
    "qc = QuantumCircuit(1) \n",
    "qc.initialize(initial_state, 0)\n",
    "qc.measure_all()\n",
    "result = execute(qc,backend).result()\n",
    "counts = result.get_counts()\n",
    "plot_histogram(counts)"
   ]
  },
  {
   "cell_type": "code",
   "execution_count": null,
   "metadata": {
    "id": "23Kr_pv3W5v1"
   },
   "outputs": [],
   "source": [
    "# Listing Draw a circuit with measurement\n",
    "qc.draw(output='text')"
   ]
  },
  {
   "cell_type": "markdown",
   "metadata": {
    "id": "yFZ39lPfW-bx"
   },
   "source": [
    "## Section Parameterized Quantum Circuit"
   ]
  },
  {
   "cell_type": "code",
   "execution_count": null,
   "metadata": {
    "id": "x--rY2m5W70R"
   },
   "outputs": [],
   "source": [
    "# Listing A simple PQC binary classifier\n",
    "qc = QuantumCircuit(1) \n",
    "initial_state = [1/sqrt(2), 1/sqrt(2)] \n",
    "qc.initialize(initial_state, 0)\n",
    "qc.measure_all()"
   ]
  },
  {
   "cell_type": "code",
   "execution_count": null,
   "metadata": {
    "id": "11_Ph7xjXCGX"
   },
   "outputs": [],
   "source": [
    "# Listing The parameterized quantum circuit classifier\n",
    "from qiskit import execute, Aer, QuantumCircuit\n",
    "from math import sqrt\n",
    "from sklearn.metrics import recall_score, precision_score, confusion_matrix\n",
    "\n",
    "def pqc_classify(backend, passenger_state):\n",
    "    \"\"\"backend -- a qiskit backend to run the quantum circuit at\n",
    "    passenger_state -- a valid quantum state vector\"\"\"\n",
    "    \n",
    "    # Create a quantum circuit with one qubit\n",
    "    qc = QuantumCircuit(1) \n",
    "\n",
    "    # Define state |Psi> and initialize the circuit\n",
    "    qc.initialize(passenger_state, 0)\n",
    "    \n",
    "    # Measure the qubit\n",
    "    qc.measure_all()\n",
    "\n",
    "    # run the quantum circuit\n",
    "    result=execute(qc,backend).result()\n",
    "\n",
    "    # get the counts, these are either {'0': 1} or {'1': 1}\n",
    "    counts=result.get_counts(qc)\n",
    "    \n",
    "    # get the bit 0 or 1\n",
    "    return int(list(map(lambda item: item[0], counts.items()))[0])"
   ]
  },
  {
   "cell_type": "code",
   "execution_count": null,
   "metadata": {
    "id": "CBiqvfRMXD3n"
   },
   "outputs": [],
   "source": [
    "# Listing Load the data\n",
    "import numpy as np\n",
    "\n",
    "with open('train.npy', 'rb') as f:\n",
    "    train_input = np.load(f)\n",
    "    train_labels = np.load(f)\n",
    "\n",
    "with open('test.npy', 'rb') as f:\n",
    "    test_input = np.load(f)\n",
    "    test_labels = np.load(f)"
   ]
  },
  {
   "cell_type": "code",
   "execution_count": null,
   "metadata": {
    "id": "vvrHgaIcXFtO"
   },
   "outputs": [],
   "source": [
    "# REDEFINE OR IMPORT THE FUNCTIONS OF CHAPTER 2\n",
    "def run(f_classify, x):\n",
    "    return list(map(f_classify, x))\n",
    "\n",
    "def specificity(matrix):\n",
    "    return matrix[0][0]/(matrix[0][0]+matrix[0][1]) if (matrix[0][0]+matrix[0][1] > 0) else 0\n",
    "\n",
    "def npv(matrix):\n",
    "    return matrix[0][0]/(matrix[0][0]+matrix[1][0]) if (matrix[0][0]+matrix[1][0] > 0) else 0\n",
    "\n",
    "def classifier_report(name, run, classify, input, labels):\n",
    "    cr_predictions = run(classify, input)\n",
    "    cr_cm = confusion_matrix(labels, cr_predictions)\n",
    "\n",
    "    cr_precision = precision_score(labels, cr_predictions)\n",
    "    cr_recall = recall_score(labels, cr_predictions)\n",
    "    cr_specificity = specificity(cr_cm)\n",
    "    cr_npv = npv(cr_cm)\n",
    "    cr_level = 0.25*(cr_precision + cr_recall + cr_specificity + cr_npv)\n",
    "\n",
    "    print('The precision score of the {} classifier is {:.2f}'\n",
    "        .format(name, cr_precision))\n",
    "    print('The recall score of the {} classifier is {:.2f}'\n",
    "        .format(name, cr_recall))\n",
    "    print('The specificity score of the {} classifier is {:.2f}'\n",
    "        .format(name, cr_specificity))\n",
    "    print('The npv score of the {} classifier is {:.2f}'\n",
    "        .format(name, cr_npv))\n",
    "    print('The information level is: {:.2f}'\n",
    "        .format(cr_level))\n",
    "#CAPTION A reusable function to unmask the hypocrite classifier"
   ]
  },
  {
   "cell_type": "code",
   "execution_count": null,
   "metadata": {
    "id": "8bx0K5DGXHoS"
   },
   "outputs": [],
   "source": [
    "# Listing The scores of the random quantum classifier\n",
    "# Tell Qiskit how to simulate our circuit\n",
    "backend = Aer.get_backend('statevector_simulator') \n",
    "\n",
    "# Specify the quantum state that results in either 0 or 1\n",
    "initial_state = [1/sqrt(2), 1/sqrt(2)] \n",
    "\n",
    "classifier_report(\"Random PQC\", \n",
    "    run,\n",
    "    lambda passenger: pqc_classify(backend, initial_state),\n",
    "    train_input,\n",
    "    train_labels)"
   ]
  },
  {
   "cell_type": "code",
   "execution_count": null,
   "metadata": {
    "id": "1dvz7QPaXJqN"
   },
   "outputs": [],
   "source": [
    "# Listing Initialization of classical (pseudo‐)random\n",
    "import random\n",
    "random.seed(a=None, version=2)"
   ]
  },
  {
   "cell_type": "markdown",
   "metadata": {
    "id": "WdwYHiKKXLv6"
   },
   "source": [
    "## Section Variational Hybrid Quantum-Classical Algorithm "
   ]
  },
  {
   "cell_type": "code",
   "execution_count": null,
   "metadata": {
    "id": "UnlS3URgXOoA"
   },
   "outputs": [],
   "source": [
    "# Listing Return statement of pqc-classify\n",
    "def pqc_classify(backend, passenger_state):\n",
    "    # ...\n",
    "    \n",
    "    # get the bit 0 or 1\n",
    "    return int(list(map(lambda item: item[0], counts.items()))[0])"
   ]
  },
  {
   "cell_type": "code",
   "execution_count": null,
   "metadata": {
    "id": "qmCtBU1oXQxe"
   },
   "outputs": [],
   "source": [
    "# Listing Pre‐processing template\n",
    "def pre_process(passenger):\n",
    "    \"\"\"\n",
    "    passenger -- the normalized (array of numeric data) passenger data\n",
    "    returns a valid quantum state\n",
    "    \"\"\"\n",
    "    quantum_state = [1/sqrt(2), 1/sqrt(2)] \n",
    "    return quantum_state"
   ]
  },
  {
   "cell_type": "code",
   "execution_count": null,
   "metadata": {
    "id": "GnwBBJ4GXShw"
   },
   "outputs": [],
   "source": [
    "# Listing The parameterized quantum circuit\n",
    "def pqc(backend, quantum_state):\n",
    "    \"\"\"\n",
    "    backend -- a qiskit backend to run the quantum circuit at\n",
    "    quantum_state -- a valid quantum state vector  \n",
    "    returns the counts of the measurement\n",
    "    \"\"\"\n",
    "\n",
    "    # Create a quantum circuit with one qubit\n",
    "    qc = QuantumCircuit(1) \n",
    "\n",
    "    # Define state |Psi> and initialize the circuit\n",
    "    qc.initialize(quantum_state, 0)\n",
    "    \n",
    "    # Measure the qubit\n",
    "    qc.measure_all()\n",
    "\n",
    "    # run the quantum circuit\n",
    "    result=execute(qc,backend).result()\n",
    "\n",
    "    # get the counts, these are either {'0': 1} or {'1': 1}\n",
    "    counts=result.get_counts(qc)\n",
    "\n",
    "    return counts"
   ]
  },
  {
   "cell_type": "code",
   "execution_count": null,
   "metadata": {
    "id": "C1L6EIpKXUeN"
   },
   "outputs": [],
   "source": [
    "# Listing Post‐processing\n",
    "def post_process(counts):\n",
    "    \"\"\"\n",
    "    counts -- the result of the quantum circuit execution\n",
    "    returns the prediction\n",
    "    \"\"\"\n",
    "    return int(list(map(lambda item: item[0], counts.items()))[0])"
   ]
  },
  {
   "cell_type": "code",
   "execution_count": null,
   "metadata": {
    "id": "uHPqUZWRXWLi"
   },
   "outputs": [],
   "source": [
    "# Listing The scores of the random quantum classifier\n",
    "# Tell Qiskit how to simulate our circuit\n",
    "backend = Aer.get_backend('statevector_simulator') \n",
    "\n",
    "classifier_report(\n",
    "    \"Variational\",\n",
    "    run,\n",
    "    lambda passenger: post_process(pqc(backend, pre_process(passenger))),\n",
    "    train_input,\n",
    "    train_labels)"
   ]
  },
  {
   "cell_type": "code",
   "execution_count": null,
   "metadata": {
    "id": "v2NOHRcYXZbg"
   },
   "outputs": [],
   "source": [
    "# Listing weigh a passenger's feature\n",
    "def weigh_feature(feature, weight):\n",
    "    \"\"\"\n",
    "    feature -- the single value of a passenger's feature\n",
    "    weight -- the overall weight of this feature\n",
    "    returns the weighted feature \n",
    "    \"\"\"\n",
    "    return feature*weight"
   ]
  },
  {
   "cell_type": "code",
   "execution_count": null,
   "metadata": {
    "id": "7uU8QalOXaAe"
   },
   "outputs": [],
   "source": [
    "# Listing Calculate the overall probability\n",
    "from functools import reduce\n",
    "\n",
    "def get_overall_probability(features, weights):\n",
    "    \"\"\"\n",
    "    features -- list of the features of a passenger\n",
    "    weights -- list of all features' weights\n",
    "    \"\"\"\n",
    "    return reduce(\n",
    "        lambda result, data: result + weigh_feature(*data),\n",
    "        zip(features, weights),\n",
    "        0\n",
    "    )"
   ]
  },
  {
   "cell_type": "code",
   "execution_count": null,
   "metadata": {
    "id": "eu8099sGXbma"
   },
   "outputs": [],
   "source": [
    "# Listing Calculate the correlation coefficients\n",
    "from scipy.stats import spearmanr\n",
    "\n",
    "# separate the training data into a list of the columns\n",
    "columns = [list(map(lambda passenger: passenger[i], train_input)) for i in range(0,7)]\n",
    "\n",
    "# calculate the correlation coefficient for each column\n",
    "correlations = list(map(lambda col: spearmanr(col, train_labels)[0], columns))\n",
    "correlations"
   ]
  },
  {
   "cell_type": "code",
   "execution_count": null,
   "metadata": {
    "id": "aKrsgE3SXfGP"
   },
   "outputs": [],
   "source": [
    "# Listing The weighting pre‐processing\n",
    "from math import pi, sin, cos\n",
    "\n",
    "def get_state (theta):\n",
    "    \"\"\"returns a valid state vector from angle theta\"\"\"\n",
    "    return [cos(theta/2), sin(theta/2)]\n",
    "\n",
    "def pre_process_weighted(passenger):\n",
    "    \"\"\"\n",
    "    passenger -- the normalized (array of numeric data) passenger data\n",
    "    returns a valid quantum state\n",
    "    \"\"\"\n",
    "\n",
    "    # caluclate the overall probability\n",
    "    mu = get_overall_probability(passenger, correlations)\n",
    "    \n",
    "    # theta between 0 (|0>) and pi (|1>)\n",
    "    quantum_state = get_state((1-mu)*pi)\n",
    "\n",
    "    return quantum_state"
   ]
  },
  {
   "cell_type": "code",
   "execution_count": null,
   "metadata": {
    "id": "kmJakYbNXf5_"
   },
   "outputs": [],
   "source": [
    "# Listing Run the PQC with the weighted pre‐processing\n",
    "backend = Aer.get_backend('statevector_simulator') \n",
    "\n",
    "classifier_report(\"Variational\", \n",
    "    run,\n",
    "    lambda passenger: post_process(pqc(backend, pre_process_weighted(passenger))),\n",
    "    train_input,\n",
    "    train_labels)"
   ]
  },
  {
   "cell_type": "code",
   "execution_count": null,
   "metadata": {
    "id": "YonbtdVIXhu8"
   },
   "outputs": [],
   "source": [
    "# Listing Test the PQC‐based classifier on data it has not seen before\n",
    "classifier_report(\"Variational-Test\", \n",
    "    run,\n",
    "    lambda passenger: post_process(pqc(backend, pre_process_weighted(passenger))),\n",
    "    test_input,\n",
    "    test_labels)"
   ]
  }
 ],
 "metadata": {
  "colab": {
   "authorship_tag": "ABX9TyNfTaktvrDRXppa/HQpKxlB",
   "collapsed_sections": [
    "9fFoZKdwWpAj",
    "T63VP4vsWwSJ",
    "yFZ39lPfW-bx",
    "WdwYHiKKXLv6"
   ],
   "name": "chapter_03.ipynb",
   "provenance": []
  },
  "kernelspec": {
   "display_name": "Python 3 (ipykernel)",
   "language": "python",
   "name": "python3"
  },
  "language_info": {
   "codemirror_mode": {
    "name": "ipython",
    "version": 3
   },
   "file_extension": ".py",
   "mimetype": "text/x-python",
   "name": "python",
   "nbconvert_exporter": "python",
   "pygments_lexer": "ipython3",
   "version": "3.8.10"
  }
 },
 "nbformat": 4,
 "nbformat_minor": 1
}
