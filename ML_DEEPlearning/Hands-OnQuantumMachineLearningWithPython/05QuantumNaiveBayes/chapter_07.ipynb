{
 "cells": [
  {
   "cell_type": "markdown",
   "metadata": {
    "id": "W9mT26g_gniJ"
   },
   "source": [
    "# Chapter 7\n",
    "\n"
   ]
  },
  {
   "cell_type": "code",
   "execution_count": null,
   "metadata": {
    "id": "LpDNjjAogj5t"
   },
   "outputs": [],
   "source": [
    "# Listing Calculate the prior‐probability\n",
    "import pandas as pd\n",
    "train = pd.read_csv('train.csv')\n",
    "\n",
    "# total\n",
    "cnt_all = len(train)\n",
    "\n",
    "# list of all survivors\n",
    "survivors =  train[train.Survived.eq(1)]\n",
    "cnt_survivors = len(survivors)\n",
    "\n",
    "# calculate the prior probability\n",
    "prob_survival = len(survivors)/cnt_all\n",
    "\n",
    "print(\"The prior probability to survive is: \", round(prob_survival, 2))"
   ]
  },
  {
   "cell_type": "markdown",
   "metadata": {
    "id": "vSb8vFebgxZ1"
   },
   "source": [
    "## Section Pre-processing"
   ]
  },
  {
   "cell_type": "code",
   "execution_count": null,
   "metadata": {
    "id": "VTEXJNnJgvfH"
   },
   "outputs": [],
   "source": [
    "# Listing Calculating the ticket class modifier\n",
    "# get the modifier given the passenger's pclass\n",
    "def get_modifier_pclass(pclass):\n",
    "    # number of passengers with the same pclass\n",
    "    cnt_surv_pclass = len(survivors[survivors.Pclass.eq(pclass)])\n",
    "\n",
    "    # backward probability\n",
    "    p_cl_surv = cnt_surv_pclass/cnt_survivors\n",
    "    \n",
    "    # probability of the evidence\n",
    "    p_cl = len(train[train.Pclass.eq(pclass)])/cnt_all\n",
    "\n",
    "    return p_cl_surv/p_cl"
   ]
  },
  {
   "cell_type": "code",
   "execution_count": null,
   "metadata": {
    "id": "oXBuiZS-g0sP"
   },
   "outputs": [],
   "source": [
    "# Listing Calculating the gender modifier\n",
    "# get the modifier given the passenger's pclass\n",
    "def get_modifier_sex(sex):\n",
    "    # number of passengers with the same pclass\n",
    "    cnt_surv_sex = len(survivors[survivors.Sex.eq(sex)])\n",
    "\n",
    "    # backward probability\n",
    "    p_sex_surv = cnt_surv_sex/cnt_survivors\n",
    "    \n",
    "    # probability of the evidence\n",
    "    p_sex = len(train[train.Sex.eq(sex)])/cnt_all\n",
    "\n",
    "    return p_sex_surv/p_sex"
   ]
  },
  {
   "cell_type": "code",
   "execution_count": null,
   "metadata": {
    "id": "qBNf710Eg2Zf"
   },
   "outputs": [],
   "source": [
    "# Listing Pre‐processing\n",
    "def pre_process(passenger):\n",
    "    \"\"\"\n",
    "    passenger -- the Pandas dataframe-row of the passenger\n",
    "    returns a list of modifiers, like this [modifier_a, modifier_b, ...]\n",
    "    \"\"\"\n",
    "    return [\n",
    "        get_modifier_pclass(passenger[\"Pclass\"]),\n",
    "        get_modifier_sex(passenger[\"Sex\"]),\n",
    "    ]"
   ]
  },
  {
   "cell_type": "code",
   "execution_count": null,
   "metadata": {
    "id": "rbbrQZPmg4Xq"
   },
   "outputs": [],
   "source": [
    "# Listing Two exemplary passengers\n",
    "# a female passenger with 1st class ticket\n",
    "print (pre_process(train.iloc[52]))\n",
    "\n",
    "# a male passenger with 3rd class ticket\n",
    "print (pre_process(train.iloc[26]))"
   ]
  },
  {
   "cell_type": "code",
   "execution_count": null,
   "metadata": {
    "id": "xvdDaEDog6Gn"
   },
   "outputs": [],
   "source": [
    "# Listing \n",
    "from functools import reduce\n",
    "from qiskit import QuantumCircuit, Aer, execute, ClassicalRegister, QuantumRegister\n",
    "from math import asin, sqrt, ceil\n",
    "from qiskit.visualization import plot_histogram\n",
    "import matplotlib.pyplot as plt\n",
    "\n",
    "def prob_to_angle(prob):\n",
    "    \"\"\"\n",
    "    Converts a given P(psi) value into an equivalent theta value.\n",
    "    \"\"\"\n",
    "    return 2*asin(sqrt(prob))\n",
    "def pqc(backend, prior, modifiers, shots=1, hist=False, measure=False):\n",
    "    # Prepare the circuit with qubits and a classical bit to hold the measurement\n",
    "    qr = QuantumRegister(7)\n",
    "    cr = ClassicalRegister(1)\n",
    "    qc = QuantumCircuit(qr, cr) if measure else QuantumCircuit(qr)\n",
    "\n",
    "    # the qubit positions\n",
    "    trunks = 3\n",
    "    aux = trunks+1\n",
    "    aux_half = trunks+1\n",
    "    aux_full = trunks+2\n",
    "    target = trunks+3\n",
    "\n",
    "    # Apply prior to qubit to the target qubit\n",
    "    qc.ry(prob_to_angle(prior), target)\n",
    "\n",
    "    # Work with the remainder\n",
    "    qc.x(target)\n",
    "\n",
    "    # Apply prior to full auxiliary qubit\n",
    "    qc.cry(prob_to_angle(prior/(1-prior)), target, aux_full)\n",
    "\n",
    "    # Work with the remainder\n",
    "    qc.cx(aux_full,target)\n",
    "\n",
    "    # Apply 0.5*prior to qubit 1\n",
    "    qc.cry(prob_to_angle(0.5*prior/(1-(2*prior))), target,aux_half)\n",
    "\n",
    "    # Rearrange states to separated qubits\n",
    "    qc.x(target)\n",
    "    qc.cx(aux_full, target)\n",
    "    \n",
    "    sorted_modifiers = sorted(modifiers)\n",
    "\n",
    "    for step in range(0, len(modifiers)):\n",
    "        if sorted_modifiers[step] > 1:\n",
    "            qc.cry(prob_to_angle(min(1, sorted_modifiers[step]-1)), aux_full, target)\n",
    "\n",
    "            # separate the aux_full and the target qubit\n",
    "            qc.ccx(target, aux_full, 0)\n",
    "            qc.ccx(target, 0, aux_full)\n",
    "            \n",
    "            if step == 0:\n",
    "                # equalize what we transferred to the target (*2) and increase the aux_full to reflect the modifier (*2)\n",
    "                qc.cry(prob_to_angle(min(1,(sorted_modifiers[step]-1)*2*2)), aux_half, aux_full)\n",
    "\n",
    "        else: \n",
    "            # apply modifier to the target qubit\n",
    "            qc.cry(prob_to_angle(1-sorted_modifiers[step]), target, step*2)\n",
    "            qc.cx(step*2,target)\n",
    "\n",
    "            if step == 0:\n",
    "                # apply modifier to full auxiliary qubit\n",
    "                qc.cry(prob_to_angle(1-sorted_modifiers[step]), aux_full, step*2+1)\n",
    "\n",
    "                # unentangle the full auxiliary from trunk\n",
    "                qc.cx(step*2+1,aux_full)\n",
    "\n",
    "            \n",
    "    # measure the qubit only if we want the measurement to be included\n",
    "    if measure:\n",
    "        qc.measure(qr[target], cr[0])\n",
    "    results = execute(qc,backend, shots=shots).result().get_counts()\n",
    "    return plot_histogram(results, figsize=(12,4)) if hist else results"
   ]
  },
  {
   "cell_type": "code",
   "execution_count": null,
   "metadata": {
    "id": "Cf5WrIVpg8Ac"
   },
   "outputs": [],
   "source": [
    "# Listing Include the measurement into the circuit\n",
    "plot_histogram(pqc(Aer.get_backend('qasm_simulator') , 0.38, [1.4, 1.3], shots=1000, hist=False, measure=True))"
   ]
  },
  {
   "cell_type": "code",
   "execution_count": null,
   "metadata": {
    "id": "N6kUbUfeg_qn"
   },
   "outputs": [],
   "source": [
    "# Listing Calculate the posterior of a female passenger with a first‐class‐ticket\n",
    "plot_histogram(pqc(Aer.get_backend('qasm_simulator') , 0.38, [1.6403508771929822, 1.9332048273550118], shots=1000, hist=False, measure=True))"
   ]
  },
  {
   "cell_type": "code",
   "execution_count": null,
   "metadata": {
    "id": "9Jk53QdxhBuf"
   },
   "outputs": [],
   "source": [
    "# Listing Post‐processing\n",
    "def post_process(counts):\n",
    "    \"\"\"\n",
    "    counts -- the result of the quantum circuit execution\n",
    "    returns the prediction\n",
    "    \"\"\"\n",
    "    return int(list(map(lambda item: item[0], counts.items()))[0])"
   ]
  },
  {
   "cell_type": "code",
   "execution_count": null,
   "metadata": {
    "id": "rFVCPgFuhFi0"
   },
   "outputs": [],
   "source": [
    "# REDEFINE OR IMPORT THE FUNCTIONS OF CHAPTER 2\n",
    "from sklearn.metrics import confusion_matrix, precision_score, recall_score\n",
    "def run(f_classify, x):\n",
    "    return list(map(f_classify, x))\n",
    "\n",
    "def specificity(matrix):\n",
    "    return matrix[0][0]/(matrix[0][0]+matrix[0][1]) if (matrix[0][0]+matrix[0][1] > 0) else 0\n",
    "\n",
    "def npv(matrix):\n",
    "    return matrix[0][0]/(matrix[0][0]+matrix[1][0]) if (matrix[0][0]+matrix[1][0] > 0) else 0\n",
    "\n",
    "def classifier_report(name, run, classify, input, labels):\n",
    "    cr_predictions = run(classify, input)\n",
    "    cr_cm = confusion_matrix(labels, cr_predictions)\n",
    "\n",
    "    cr_precision = precision_score(labels, cr_predictions)\n",
    "    cr_recall = recall_score(labels, cr_predictions)\n",
    "    cr_specificity = specificity(cr_cm)\n",
    "    cr_npv = npv(cr_cm)\n",
    "    cr_level = 0.25*(cr_precision + cr_recall + cr_specificity + cr_npv)\n",
    "\n",
    "    print('The precision score of the {} classifier is {:.2f}'\n",
    "        .format(name, cr_precision))\n",
    "    print('The recall score of the {} classifier is {:.2f}'\n",
    "        .format(name, cr_recall))\n",
    "    print('The specificity score of the {} classifier is {:.2f}'\n",
    "        .format(name, cr_specificity))\n",
    "    print('The npv score of the {} classifier is {:.2f}'\n",
    "        .format(name, cr_npv))\n",
    "    print('The information level is: {:.2f}'\n",
    "        .format(cr_level))\n",
    "#CAPTION A reusable function to unmask the hypocrite classifier"
   ]
  },
  {
   "cell_type": "code",
   "execution_count": null,
   "metadata": {
    "id": "PAkY-D__hG5s"
   },
   "outputs": [],
   "source": [
    "# Listing Run the Quantum Naive Bayes Classifier\n",
    "# redefine the run-function\n",
    "def run(f_classify, data):\n",
    "    return [f_classify(data.iloc[i]) for i in range(0,len(data))]\n",
    "\n",
    "# specify a reusable backend\n",
    "backend = Aer.get_backend('qasm_simulator') \n",
    "\n",
    "# evaluate the Quantum Naive Bayes classifier\n",
    "classifier_report(\"QuantumNaiveBayes\",\n",
    "    run,\n",
    "    lambda passenger: post_process(pqc(backend, prob_survival, pre_process(passenger), measure=True, hist=False)),\n",
    "    train,\n",
    "    train['Survived'])"
   ]
  }
 ],
 "metadata": {
  "colab": {
   "authorship_tag": "ABX9TyMSnBy3wtowQA9EnbaEDb8K",
   "collapsed_sections": [],
   "name": "chapter_07.ipynb",
   "provenance": []
  },
  "kernelspec": {
   "display_name": "Python 3 (ipykernel)",
   "language": "python",
   "name": "python3"
  },
  "language_info": {
   "codemirror_mode": {
    "name": "ipython",
    "version": 3
   },
   "file_extension": ".py",
   "mimetype": "text/x-python",
   "name": "python",
   "nbconvert_exporter": "python",
   "pygments_lexer": "ipython3",
   "version": "3.8.10"
  }
 },
 "nbformat": 4,
 "nbformat_minor": 1
}
